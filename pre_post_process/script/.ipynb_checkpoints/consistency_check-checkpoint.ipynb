{
 "cells": [
  {
   "cell_type": "code",
   "execution_count": 5,
   "id": "b333b17a-146a-4e23-b129-8595a2b0b038",
   "metadata": {},
   "outputs": [],
   "source": [
    "import pandas as pd \n",
    "import json \n",
    "import copy\n",
    "import re \n",
    "from collections import Counter, defaultdict\n",
    "\n",
    "pd.set_option('display.max_columns',100)\n",
    "pd.set_option('display.max_colwidth',500)\n",
    "\n",
    "\n"
   ]
  },
  {
   "cell_type": "code",
   "execution_count": 24,
   "id": "f0b8709d-10e4-4299-be79-b87e33e74f64",
   "metadata": {},
   "outputs": [
    {
     "name": "stdout",
     "output_type": "stream",
     "text": [
      "--------------------------------------------------------------------------------\n"
     ]
    },
    {
     "data": {
      "text/html": [
       "<div>\n",
       "<style scoped>\n",
       "    .dataframe tbody tr th:only-of-type {\n",
       "        vertical-align: middle;\n",
       "    }\n",
       "\n",
       "    .dataframe tbody tr th {\n",
       "        vertical-align: top;\n",
       "    }\n",
       "\n",
       "    .dataframe thead th {\n",
       "        text-align: right;\n",
       "    }\n",
       "</style>\n",
       "<table border=\"1\" class=\"dataframe\">\n",
       "  <thead>\n",
       "    <tr style=\"text-align: right;\">\n",
       "      <th></th>\n",
       "      <th>p1_sentence</th>\n",
       "      <th>p1_def_sap</th>\n",
       "      <th>p1_lsp_sap</th>\n",
       "      <th>p1_sentence_dap</th>\n",
       "      <th>p1_def_dap</th>\n",
       "      <th>p1_lsp_dap</th>\n",
       "    </tr>\n",
       "  </thead>\n",
       "  <tbody>\n",
       "    <tr>\n",
       "      <th>0</th>\n",
       "      <td>0.0</td>\n",
       "      <td>0.0</td>\n",
       "      <td>40.0</td>\n",
       "      <td>0.0</td>\n",
       "      <td>0.0</td>\n",
       "      <td>0.0</td>\n",
       "    </tr>\n",
       "  </tbody>\n",
       "</table>\n",
       "</div>"
      ],
      "text/plain": [
       "   p1_sentence  p1_def_sap  p1_lsp_sap  p1_sentence_dap  p1_def_dap  \\\n",
       "0          0.0         0.0        40.0              0.0         0.0   \n",
       "\n",
       "   p1_lsp_dap  \n",
       "0         0.0  "
      ]
     },
     "metadata": {},
     "output_type": "display_data"
    }
   ],
   "source": [
    "path1 = '../cache/exp_data_results_anchor_type_Coordinate_remove_Y_PUNC_FULL_concate_or_single_max_anchor_num_5_anchor_scorer_probAvg.csv'\n",
    "path2 = '../cache/exp_data_results_anchor_type_Coordinate_remove_Y_PUNC_FULL_concate_or_single_max_anchor_num_5_anchor_scorer_probAvg.csv'\n",
    "\n",
    "\n",
    "dfs = pd.read_csv(path1)\n",
    "dfp = pd.read_csv(path2)\n",
    "\n",
    "metrics = ['sub_label', 'obj_label', 'p1_sentence', 'p1_def_sap', 'p1_lsp_sap', 'p1_sentence_dap', 'p1_def_dap', 'p1_lsp_dap']\n",
    "\n",
    "df_merge  = pd.merge(dfs, dfp,on= 'uuid', suffixes=('_singular', '_plural'))\n",
    "# display(df_merge)\n",
    "\n",
    "dfs = dfs[metrics]\n",
    "dfp = dfp[metrics]\n",
    "for col in metrics[2:]:\n",
    "    df_merge[col] = df_merge[[f\"{col}_singular\", f\"{col}_plural\"]].apply(lambda x: 1 if x[0]==1 and x[1]==1 else 0 , axis=1)\n",
    "\n",
    "print(\"-\"*80)\n",
    "# display(df_merge)\n",
    "df_mean = df_merge[metrics[2:]].mean().to_frame().round(3)*100\n",
    "display(df_mean.T)\n",
    "    "
   ]
  },
  {
   "cell_type": "code",
   "execution_count": null,
   "id": "52002348-3acb-4b6d-b37f-b16ebcf16211",
   "metadata": {},
   "outputs": [],
   "source": [
    "\"\""
   ]
  }
 ],
 "metadata": {
  "kernelspec": {
   "display_name": "Python 3",
   "language": "python",
   "name": "python3"
  },
  "language_info": {
   "codemirror_mode": {
    "name": "ipython",
    "version": 3
   },
   "file_extension": ".py",
   "mimetype": "text/x-python",
   "name": "python",
   "nbconvert_exporter": "python",
   "pygments_lexer": "ipython3",
   "version": "3.8.8"
  }
 },
 "nbformat": 4,
 "nbformat_minor": 5
}
