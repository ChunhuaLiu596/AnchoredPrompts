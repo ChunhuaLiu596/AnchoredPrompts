{
 "cells": [
  {
   "cell_type": "code",
   "execution_count": null,
   "id": "2409fa57-0b63-482d-b082-7c05ba5e793a",
   "metadata": {},
   "outputs": [],
   "source": [
    "import pandas as pd \n",
    "\n",
    "line = {'debug': False, 'test_relations': ['IsA'], 'save_all_data': True, 'top_k': 10, 'data_dir': 'data/BLESS/hypernym/', 'mask_string_mapping': {'bert-large-uncased': '[MASK]'}, 'use_dap_global': True, 'return_probs': True, 'anchor_scorer_list': ['probAvg'], 'scorer_target_1_prompt': 'probSum', 'scorer_target_N_prompts': 'probAvg', 'use_original_prompt': True, 'original_prompt_source': 'masked_sentence', 'incorporate_operations': ['concate_or_single'], 'filter_anchors_flag': True, 'filter_objects_flag': True, 'cpt_only': False, 'anchor_types': ['Coordinate_remove_Y_PUNC_FULL'], 'add_cpt_score': False, 'constrain_targets': False, 'add_wordnet_path_score': False, 'anchor_probe': 'plural_probe', 'anchor_col': 'subj_anchors', 'anchor_col_sg': 'subj_anchors_sg', 'anchor_col_pl': 'subj_anchors_pl', 'filter_objects_with_input': True, 'sub_col': 'sub_label', 'sub_col_sg': 'sub_label_sg', 'sub_col_pl': 'sub_label_pl', 'top_k_anchors': 5, 'max_anchor_num_list': [10], 'max_anchor_num': 10, 'sub_col_sgpl': 'sub_label_sgpl', 'filter_objects_with_anchors': False, 'anchor_col_all': 'anchor_col_all', 'oracle_anchor_inserted': True}\n",
    "\n",
    "if '--- config --' in line and lines[i+1].startswith(\"{\"): \n",
    "    line = lines[i+1]\n",
    "    dataset= get_dataset_name(line)\n",
    "            \n",
    "            \n",
    "\n",
    "# def get_dataset_to_respath(path):\n",
    "#     '''\n",
    "#     parse the log to get the dataset name and the result path \n",
    "#     '''\n",
    "#     dataset_to_respath = defaultdict()\n",
    "#     with open(path, 'r') as fin:\n",
    "#         lines = fin.readlines()\n",
    "#         for i, line in enumerate(lines):\n",
    "#             if '--- config --' in line and lines[i+1].startswith(\"{\"): \n",
    "#                 line = lines[i+1]\n",
    "#                 dataset= get_dataset_name(line)\n",
    "#             if '.tsv' in line:\n",
    "#                 res_path = get_results_path(line)\n",
    "#                 dataset_to_respath[dataset] = res_path\n",
    "\n",
    "#     return dataset_to_respath\n",
    "\n",
    "# # get_"
   ]
  }
 ],
 "metadata": {
  "kernelspec": {
   "display_name": "base",
   "language": "python",
   "name": "python3"
  },
  "language_info": {
   "codemirror_mode": {
    "name": "ipython",
    "version": 3
   },
   "file_extension": ".py",
   "mimetype": "text/x-python",
   "name": "python",
   "nbconvert_exporter": "python",
   "pygments_lexer": "ipython3",
   "version": "3.8.8 (default, Apr 13 2021, 12:59:45) \n[Clang 10.0.0 ]"
  },
  "toc-autonumbering": true,
  "vscode": {
   "interpreter": {
    "hash": "339b0067a56740cc6f58ed77266b21ee1e7a595da146313008e3ea19567eaece"
   }
  }
 },
 "nbformat": 4,
 "nbformat_minor": 5
}
