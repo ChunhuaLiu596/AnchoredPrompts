{
 "cells": [
  {
   "cell_type": "code",
   "execution_count": 6,
   "metadata": {},
   "outputs": [],
   "source": [
    "import pandas as pd \n",
    "import json \n",
    "import os, sys\n",
    "import re\n",
    "from collections import defaultdict, Counter \n",
    "from statistics import mean, stdev"
   ]
  },
  {
   "cell_type": "code",
   "execution_count": 2,
   "metadata": {},
   "outputs": [],
   "source": [
    "def get_dataset_name(line):\n",
    "    line_list = line.strip().split(\", \") \n",
    "    for item in line_list:\n",
    "        item_split = item.split(\":\")\n",
    "        if 'data_dir' in item_split[0]:\n",
    "            dataset_name = \"-\".join(item_split[1].split(\"/\")[1:-1])\n",
    "    return dataset_name\n"
   ]
  },
  {
   "cell_type": "code",
   "execution_count": 28,
   "metadata": {},
   "outputs": [
    {
     "name": "stdout",
     "output_type": "stream",
     "text": [
      "ALLSWOW mrr and p_at_10: 24.0 &  49.3 & 0.1 0.1\n",
      "ALLSWOW mrr and p_at_10: 24.2 &  49 & 0.0 0.0\n",
      "lsp_dap\n",
      "ALLSWOW mrr and p_at_10: 21.6 &  45.3 & 0.0 0.0\n",
      "ALLSWOW mrr and p_at_10: 22.5 &  45.7 & 0.0 0.0\n"
     ]
    }
   ],
   "source": [
    "\n",
    "def extract_multi_runs_results(path):\n",
    "    # '''key is config, values are the multiple runs of p@10 and mrr'''\n",
    "    dataset_to_res_def_dap = defaultdict(list)\n",
    "    dataset_to_res_lsp_dap = defaultdict(list)\n",
    "    keys = ['mask_type', 'p@1', 'p@5', 'p@10', 'mrr', 'mask_type_id'] \n",
    "    with open(path, 'r') as fin:\n",
    "        lines = fin.readlines()\n",
    "        for i, line in enumerate(lines):\n",
    "\n",
    "            if '--- config --' in line and lines[i+1].startswith(\"{\"): \n",
    "                config = eval(lines[i+1])\n",
    "                dataset= config['dataset']\n",
    "                #print(config) \n",
    "                #print(\"dataset \", dataset) \n",
    "\n",
    "            if \" mask_type   \t   p@1 \t   p@5 \t   p@10 \t   mrr \t   mask_type_id \" in line:\n",
    "                def_sap = [item.strip() for item in lines[i+2].split(\"\\t\")][1:]\n",
    "                def_dap = [item.strip() for item in lines[i+4].split(\"\\t\")][1:]\n",
    "                lsp_dap = [item.strip() for item in lines[i+5].split(\"\\t\")][1:]\n",
    "                \n",
    "                def_sap_res = dict(zip(keys, def_sap))\n",
    "                def_dap_res = dict(zip(keys, def_dap))\n",
    "                lsp_dap_res = dict(zip(keys, lsp_dap))\n",
    "                \n",
    "                def_sap_res['dataset'] = dataset \n",
    "                def_dap_res['dataset'] = dataset \n",
    "                lsp_dap_res['dataset'] = dataset \n",
    "                #print(lsp_dap_res)\n",
    "    \n",
    "            if \".csv\" in line: \n",
    "                res_path = line.split(\" \")[1].strip()\n",
    "                dataset_to_res_def_dap[res_path+dataset].append(def_dap_res)\n",
    "                dataset_to_res_lsp_dap[res_path+dataset].append(lsp_dap_res)\n",
    "                \n",
    "    return dataset_to_res_def_dap, dataset_to_res_lsp_dap\n",
    "\n",
    "def get_average(dataset_to_res):\n",
    "    for k,v in dataset_to_res.items():\n",
    "        mean_p_at_10 = round(mean([eval(item['p@10']) for item in v]), 1)\n",
    "        mean_mrr = round( mean([eval(item['mrr']) for item in v]), 1)\n",
    "        \n",
    "        stdev_p_at_10 = round(stdev([eval(item['p@10']) for item in v]), 1)\n",
    "        stdev_mrr = round(stdev([eval(item['mrr']) for item in v]), 1)\n",
    "        print (v[0]['dataset'], f'mrr and p_at_10: {mean_mrr} &  {mean_p_at_10} & {stdev_mrr} {stdev_p_at_10}')\n",
    "\n",
    "# path = '../../log/230313_wordnet_alone_2K.log'\n",
    "# path = '../../log/230313_wordnet_six_datasets.log'\n",
    "# path = '../../log/230313_with_swow_2k_anchors_multiple_runs.log'\n",
    "# path = '../../log/230313_swow_share.log'\n",
    "# path = '../../log/230314_wordnet_share_2K.log'\n",
    "path = '../../log/230314_only_swow_2k_anchors_multiple_runs.log'\n",
    "dataset_to_res_def_dap, dataset_to_res_lsp_dap = extract_multi_runs_results(path)\n",
    "get_average(dataset_to_res_def_dap) \n",
    "print('lsp_dap')\n",
    "get_average(dataset_to_res_lsp_dap) \n",
    "\n",
    "# print(json.dumps(dataset_to_res, indent=4))\n"
   ]
  },
  {
   "cell_type": "code",
   "execution_count": 27,
   "metadata": {},
   "outputs": [
    {
     "data": {
      "text/plain": [
       "10    0.366762\n",
       "1     0.173352\n",
       "2     0.124164\n",
       "9     0.086437\n",
       "3     0.081662\n",
       "4     0.065425\n",
       "5     0.053486\n",
       "6     0.019580\n",
       "7     0.014804\n",
       "8     0.014327\n",
       "Name: subj_anchors_wordnet_all_num, dtype: float64"
      ]
     },
     "execution_count": 27,
     "metadata": {},
     "output_type": "execute_result"
    }
   ],
   "source": [
    "path = '../../log/bert-large-uncased/ALL/swow_rw/df_all_use_global_dap_True_max_anchor_num_5_anchor_scorer_probAvg_filter_obj_True_filter_objects_with_input_True_anchor_source_WordNet_wns_False_wnf_True_swow_score_source_None.ALLSWOW.csv'\n",
    "\n",
    "df = pd.read_csv(path)\n",
    "# df.columns\n",
    "df['subj_anchors_wordnet_all_num'] = df['subj_anchors_wordnet_all'].apply(lambda x: len(eval(x)))\n",
    "df['subj_anchors_wordnet_all_num'].value_counts(normalize=True)\n"
   ]
  },
  {
   "cell_type": "code",
   "execution_count": 18,
   "metadata": {},
   "outputs": [
    {
     "data": {
      "text/plain": [
       "Index(['Unnamed: 0', 'sub_label', 'obj_label', 'relation', 'obj_in_BERT',\n",
       "       'masked_sentences', 'uuid', 'sub_position', 'sub_label_sg',\n",
       "       'sub_label_pl', 'def_sap', 'def_dap', 'lsp_sap', 'lsp_dap',\n",
       "       'anchor_lsp_sap', 'sub_label_sgpl', 'obj_mask_sentence',\n",
       "       'obj_mask_sentence_score', 'obj_mask_def_sap', 'obj_mask_def_sap_score',\n",
       "       'obj_mask_lsp_sap', 'obj_mask_lsp_sap_score', 'subj_anchors',\n",
       "       'subj_anchors_score', 'subj_anchors_sg', 'subj_anchors_pl',\n",
       "       'subj_anchors_all', 'subj_anchors_combined', 'anchor_num',\n",
       "       'def_dap_with_subj_anchor', 'lsp_dap_with_subj_anchor',\n",
       "       'obj_mask_def_dap', 'obj_mask_def_dap_score', 'obj_mask_lsp_dap',\n",
       "       'obj_mask_lsp_dap_score', 'sub_sister', 'obj_label_sg', 'p1_sentence',\n",
       "       'p5_sentence', 'p10_sentence', 'p1_def_sap', 'p5_def_sap',\n",
       "       'p10_def_sap', 'p1_lsp_sap', 'p5_lsp_sap', 'p10_lsp_sap', 'p1_def_dap',\n",
       "       'p5_def_dap', 'p10_def_dap', 'p1_lsp_dap', 'p5_lsp_dap', 'p10_lsp_dap',\n",
       "       'mrr_sentence', 'mrr_def_sap', 'mrr_lsp_sap', 'mrr_def_dap',\n",
       "       'mrr_lsp_dap'],\n",
       "      dtype='object')"
      ]
     },
     "execution_count": 18,
     "metadata": {},
     "output_type": "execute_result"
    }
   ],
   "source": [
    "path = '../../log/bert-large-uncased/ALL/swow_rw/df_all_use_global_dap_True_max_anchor_num_5_anchor_scorer_probAvg_filter_obj_True_filter_objects_with_input_True_anchor_source_SWOW_wns_False_wnf_False_swow_score_source_OnlySWOWSimilar.ALLSWOW.csv'\n",
    "\n",
    "df = pd.read_csv(path)\n",
    "df.columns\n",
    "# df[['sub_label', 'obj_label', 'subj_anchors_swow_sg']]"
   ]
  }
 ],
 "metadata": {
  "kernelspec": {
   "display_name": "Python 3",
   "language": "python",
   "name": "python3"
  },
  "language_info": {
   "codemirror_mode": {
    "name": "ipython",
    "version": 3
   },
   "file_extension": ".py",
   "mimetype": "text/x-python",
   "name": "python",
   "nbconvert_exporter": "python",
   "pygments_lexer": "ipython3",
   "version": "3.8.6"
  }
 },
 "nbformat": 4,
 "nbformat_minor": 4
}
