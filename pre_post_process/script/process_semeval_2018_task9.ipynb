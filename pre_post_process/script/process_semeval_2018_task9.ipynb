{
 "cells": [
  {
   "cell_type": "markdown",
   "id": "3c524c74-54ec-4cd0-8fc4-7d7a82b61c3c",
   "metadata": {},
   "source": [
    "The notebook process the dataset for hypernym discovery: given a concept, a list of valid hypernyms are provided\n",
    "\n",
    "- paper: Camacho-Collados et al., (2018) SemEval-2018 Task 9: Hypernym Discovery  https://aclanthology.org/S18-1115.pdf \n",
    "- relevant paper: Espinosa-Anke et al., (2016) Supervised Distributional Hypernym Discovery\n",
    "via Domain Adaptation  https://aclanthology.org/D16-1041.pdf\n",
    "- data: https://drive.google.com/file/d/14_RgB3_it7a_1mLXeRCyzwY5BHdWgnlP/view\n",
    "\n",
    "Note: There is a lot of multi-token entities (both hyponym and hypernym)\n",
    "- Howard K. Smith\tEntity\n",
    "- spot price\tConcept \n",
    "\n",
    "Might be worth to add at later stage. But not now."
   ]
  },
  {
   "cell_type": "code",
   "execution_count": 1,
   "id": "e6665bc6-e1e6-4dad-86aa-ca0ef0842096",
   "metadata": {},
   "outputs": [],
   "source": [
    "hypo_file = '../data/SemEval2018-Task9/test/data/1A.english.test.data.txt'\n",
    "hyper_file = '../data/SemEval2018-Task9/test/gold/1A.english.test.gold.txt'"
   ]
  }
 ],
 "metadata": {
  "kernelspec": {
   "display_name": "Python 3",
   "language": "python",
   "name": "python3"
  },
  "language_info": {
   "codemirror_mode": {
    "name": "ipython",
    "version": 3
   },
   "file_extension": ".py",
   "mimetype": "text/x-python",
   "name": "python",
   "nbconvert_exporter": "python",
   "pygments_lexer": "ipython3",
   "version": "3.8.8"
  }
 },
 "nbformat": 4,
 "nbformat_minor": 5
}
