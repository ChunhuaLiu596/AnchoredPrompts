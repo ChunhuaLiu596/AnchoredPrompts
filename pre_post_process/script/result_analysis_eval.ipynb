{
 "cells": [
  {
   "cell_type": "code",
   "execution_count": 1,
   "metadata": {},
   "outputs": [],
   "source": [
    "import pandas as pd\n",
    "pd.options.display.max_columns=500\n",
    "pd.options.display.max_colwidth=1000\n",
    "import matplotlib.pyplot as plt\n",
    "\n",
    "from collections import Counter, defaultdict\n",
    "import seaborn as sns\n",
    "from copy import deepcopy\n",
    "\n",
    "import json \n",
    "import copy\n",
    "import re \n",
    "pd.set_option('display.max_columns',100)\n",
    "pd.set_option('display.max_colwidth',500)\n"
   ]
  },
  {
   "cell_type": "markdown",
   "metadata": {},
   "source": [
    "## pointer\n",
    "https://github.com/esantus/EVALution/blob/master/EVALution_1.0/RELATIONS.txt"
   ]
  },
  {
   "cell_type": "markdown",
   "metadata": {},
   "source": [
    "# Relata info"
   ]
  },
  {
   "cell_type": "code",
   "execution_count": 2,
   "metadata": {},
   "outputs": [
    {
     "name": "stdout",
     "output_type": "stream",
     "text": [
      "[('NOUN', 1111), ('VERB', 343), ('ADJ', 234), ('UNK', 141)]\n"
     ]
    },
    {
     "data": {
      "text/html": [
       "<div>\n",
       "<style scoped>\n",
       "    .dataframe tbody tr th:only-of-type {\n",
       "        vertical-align: middle;\n",
       "    }\n",
       "\n",
       "    .dataframe tbody tr th {\n",
       "        vertical-align: top;\n",
       "    }\n",
       "\n",
       "    .dataframe thead th {\n",
       "        text-align: right;\n",
       "    }\n",
       "</style>\n",
       "<table border=\"1\" class=\"dataframe\">\n",
       "  <thead>\n",
       "    <tr style=\"text-align: right;\">\n",
       "      <th></th>\n",
       "      <th>relatum</th>\n",
       "      <th>tags</th>\n",
       "      <th>frequency</th>\n",
       "      <th>POS</th>\n",
       "      <th>POS_count_broad</th>\n",
       "      <th>forms</th>\n",
       "      <th>POS_count_fine</th>\n",
       "    </tr>\n",
       "  </thead>\n",
       "  <tbody>\n",
       "    <tr>\n",
       "      <th>0</th>\n",
       "      <td>absolute</td>\n",
       "      <td>SPECIFIC_1/2,CONCRETE_1/2,GENERAL_1/2</td>\n",
       "      <td>69877</td>\n",
       "      <td>ADJ</td>\n",
       "      <td>JJ_98/NN_1</td>\n",
       "      <td>[absolute, absolutes]</td>\n",
       "      <td>JJ_98/NNS_1</td>\n",
       "    </tr>\n",
       "    <tr>\n",
       "      <th>1</th>\n",
       "      <td>abstract</td>\n",
       "      <td>SUPERORDINATE_1/2,ABSTRACT_2/2,GENERAL_2/2,OTHER_1/2,SUBORDINATE_1/2,EVENT_1/2</td>\n",
       "      <td>92663</td>\n",
       "      <td>ADJ</td>\n",
       "      <td>JJ_68/NN_27/VV_4</td>\n",
       "      <td>[abstract, abstracted, abstracts, abstracting]</td>\n",
       "      <td>JJ_68/NNS_20/NN_7/VVN_1/VVG_1</td>\n",
       "    </tr>\n",
       "    <tr>\n",
       "      <th>2</th>\n",
       "      <td>accident</td>\n",
       "      <td>SUPERORDINATE_1/2,CONCRETE_1/2,EVENT_2/2,GENERAL_1/2</td>\n",
       "      <td>159563</td>\n",
       "      <td>NOUN</td>\n",
       "      <td>NN_99</td>\n",
       "      <td>[accident, accidents]</td>\n",
       "      <td>NN_69/NNS_30</td>\n",
       "    </tr>\n",
       "    <tr>\n",
       "      <th>3</th>\n",
       "      <td>account</td>\n",
       "      <td>SUPERORDINATE_2/2,ABSTRACT_2/2,OTHER_2/2,GENERAL_2/2</td>\n",
       "      <td>600523</td>\n",
       "      <td>NOUN</td>\n",
       "      <td>NN_87/VV_12</td>\n",
       "      <td>[account, accounted, accounts, accounting]</td>\n",
       "      <td>NN_61/NNS_25/VV_3/VVP_2/VVZ_2/VVD_1/VVN_1/VVG_1</td>\n",
       "    </tr>\n",
       "    <tr>\n",
       "      <th>4</th>\n",
       "      <td>act</td>\n",
       "      <td>SUPERORDINATE_4/26,PLANT_1/26,COLOR_1/26,SPACE_1/26,FOOD_1/26,PEOPLE_1/26,ABSTRACT_12/26,TIME_1/26,OBJECT_1/26,GENERAL_9/26,SPECIFIC_8/26,CONCRETE_5/26,OTHER_8/26,ANIMAL_1/26,BASIC_7/26,SUBORDINATE_4/26,EVENT_18/26</td>\n",
       "      <td>614927</td>\n",
       "      <td>VERB</td>\n",
       "      <td>VV_56/NN_43</td>\n",
       "      <td>[act, acts, acted, acting]</td>\n",
       "      <td>NN_26/VVG_18/VV_18/NNS_16/VVZ_6/VVD_5/VVN_4/VVP_3</td>\n",
       "    </tr>\n",
       "  </tbody>\n",
       "</table>\n",
       "</div>"
      ],
      "text/plain": [
       "    relatum  \\\n",
       "0  absolute   \n",
       "1  abstract   \n",
       "2  accident   \n",
       "3   account   \n",
       "4       act   \n",
       "\n",
       "                                                                                                                                                                                                                     tags  \\\n",
       "0                                                                                                                                                                                   SPECIFIC_1/2,CONCRETE_1/2,GENERAL_1/2   \n",
       "1                                                                                                                                          SUPERORDINATE_1/2,ABSTRACT_2/2,GENERAL_2/2,OTHER_1/2,SUBORDINATE_1/2,EVENT_1/2   \n",
       "2                                                                                                                                                                    SUPERORDINATE_1/2,CONCRETE_1/2,EVENT_2/2,GENERAL_1/2   \n",
       "3                                                                                                                                                                    SUPERORDINATE_2/2,ABSTRACT_2/2,OTHER_2/2,GENERAL_2/2   \n",
       "4  SUPERORDINATE_4/26,PLANT_1/26,COLOR_1/26,SPACE_1/26,FOOD_1/26,PEOPLE_1/26,ABSTRACT_12/26,TIME_1/26,OBJECT_1/26,GENERAL_9/26,SPECIFIC_8/26,CONCRETE_5/26,OTHER_8/26,ANIMAL_1/26,BASIC_7/26,SUBORDINATE_4/26,EVENT_18/26   \n",
       "\n",
       "   frequency   POS   POS_count_broad  \\\n",
       "0      69877   ADJ        JJ_98/NN_1   \n",
       "1      92663   ADJ  JJ_68/NN_27/VV_4   \n",
       "2     159563  NOUN             NN_99   \n",
       "3     600523  NOUN       NN_87/VV_12   \n",
       "4     614927  VERB       VV_56/NN_43   \n",
       "\n",
       "                                            forms  \\\n",
       "0                           [absolute, absolutes]   \n",
       "1  [abstract, abstracted, abstracts, abstracting]   \n",
       "2                           [accident, accidents]   \n",
       "3      [account, accounted, accounts, accounting]   \n",
       "4                      [act, acts, acted, acting]   \n",
       "\n",
       "                                      POS_count_fine  \n",
       "0                                        JJ_98/NNS_1  \n",
       "1                      JJ_68/NNS_20/NN_7/VVN_1/VVG_1  \n",
       "2                                       NN_69/NNS_30  \n",
       "3    NN_61/NNS_25/VV_3/VVP_2/VVZ_2/VVD_1/VVN_1/VVG_1  \n",
       "4  NN_26/VVG_18/VV_18/NNS_16/VVZ_6/VVD_5/VVN_4/VVP_3  "
      ]
     },
     "execution_count": 2,
     "metadata": {},
     "output_type": "execute_result"
    }
   ],
   "source": [
    "\n",
    "pos_mapping={\"j\": 'ADJ', 'v': 'VERB', 'n': 'NOUN'}\n",
    "\n",
    "def load_data_relata(orig_path = '../data/EVAL1.0/RELATA.txt'):\n",
    "    '''\n",
    "    read the original dataset and return dataframe \n",
    "    \n",
    "    POS: 'term-dominatPOS' \n",
    "    forms: 'distribution-forms', e..g, absolute_95/Absolute_3/absolutes_1\t\n",
    "    POS-count: distribution-POS\n",
    "    '''\n",
    "\n",
    "    columns = ['relatum', 'tags', 'frequency', 'POS', 'POS_count_broad', 'forms', 'POS_count_fine']\n",
    "    examples = []\n",
    "    with open(orig_path, 'r') as fin:\n",
    "        lines = fin.readlines()\n",
    "        for line in lines:\n",
    "            line_list = line.strip().split(\"\\t\")\n",
    "            example = dict(zip(columns, line_list))\n",
    "#             print(example['term-dominatPOS'].split('-'))\n",
    "            example['POS'] = pos_mapping.get(example['POS'].split(\"-\")[-1], 'UNK')\n",
    "            example['forms'] = list(set([x.split('_')[0].lower() for x in example['forms'].split('/')]))\n",
    "            example['frequency'] = int(example['frequency'])\n",
    "#             reliable_tags = []\n",
    "#             for x in example['tags'].split(\",\"):\n",
    "#                 for tag in x.split('/'):\n",
    "#                     if len(tag)>1 and tag[-1]!=None:\n",
    "#                         if int(tag[-1])>1:\n",
    "#                             reliable_tags.append(tag) \n",
    "            \n",
    "#             example['tags'] = \",\".join(reliable_tags)\n",
    "\n",
    "            examples.append(example)\n",
    "    df = pd.DataFrame(examples)\n",
    "    realtion_sets = set(df[\"POS\"])\n",
    "    print(Counter(df[\"POS\"]).most_common())\n",
    "    return df \n",
    "\n",
    "df_relata = load_data_relata(orig_path = '../data/EVAL1.0/RELATA.txt')\n",
    "# df_ = df.query(\"relation == 'IsA'\")\n",
    "df_relata.head()\n",
    "\n",
    "# word_to_freq = read_word_to_concreteness() #word_to_freq: freq is the medium of concreteness score "
   ]
  },
  {
   "cell_type": "markdown",
   "metadata": {},
   "source": [
    "# Read the results and add conreteness info"
   ]
  },
  {
   "cell_type": "code",
   "execution_count": 3,
   "metadata": {},
   "outputs": [],
   "source": [
    "dataset_to_respath={\n",
    "    \"hypernymsuite-BLESS\": \"log/bert-large-uncased/hypernymsuite/BLESS/exp_data_results_anchor_type_Coordinate_remove_Y_PUNC_FULL_concate_or_single_max_anchor_num_5_anchor_scorer_probAvg_filter_obj_True_filter_objects_with_input_True_wnp_True_cpt_False.HYPERNYMSUITE.csv\",\n",
    "    \"lm_diagnostic_extended-singular\": \"log/bert-large-uncased/lm_diagnostic_extended/singular/exp_data_results_anchor_type_Coordinate_remove_Y_PUNC_FULL_concate_or_single_max_anchor_num_5_anchor_scorer_probAvg_filter_obj_True_filter_objects_with_input_True_wnp_True_cpt_False.LM_DIAGNOSTIC_EXTENDED.csv\",\n",
    "    \"clsb-singular\": \"log/bert-large-uncased/clsb/singular/exp_data_results_anchor_type_Coordinate_remove_Y_PUNC_FULL_concate_or_single_max_anchor_num_5_anchor_scorer_probAvg_filter_obj_True_filter_objects_with_input_True_wnp_True_cpt_False.CLSB.csv\",\n",
    "    \"hypernymsuite-LEDS\": \"log/bert-large-uncased/hypernymsuite/LEDS/exp_data_results_anchor_type_Coordinate_remove_Y_PUNC_FULL_concate_or_single_max_anchor_num_5_anchor_scorer_probAvg_filter_obj_True_filter_objects_with_input_True_wnp_True_cpt_False.HYPERNYMSUITE.csv\",\n",
    "    \"hypernymsuite-EVAL\": \"log/bert-large-uncased/hypernymsuite/EVAL/exp_data_results_anchor_type_Coordinate_remove_Y_PUNC_FULL_concate_or_single_max_anchor_num_5_anchor_scorer_probAvg_filter_obj_True_filter_objects_with_input_True_wnp_True_cpt_False.HYPERNYMSUITE.csv\",\n",
    "    \"hypernymsuite-SHWARTZ\": \"log/bert-large-uncased/hypernymsuite/SHWARTZ/exp_data_results_anchor_type_Coordinate_remove_Y_PUNC_FULL_concate_or_single_max_anchor_num_5_anchor_scorer_probAvg_filter_obj_True_filter_objects_with_input_True_wnp_True_cpt_False.HYPERNYMSUITE.csv\"}\n",
    "\n",
    "def get_dataset_to_respath(dataset_to_respath, print_flag=False):\n",
    "    # remote path \n",
    "#     dataset_to_respath = {'hypernymsuite-BLESS': 'log/bert-large-uncased/hypernymsuite/BLESS/exp_data_results_anchor_type_Coordinate_remove_Y_PUNC_FULL_concate_or_single_max_anchor_num_10_anchor_scorer_probAvg_filter_obj_True_filter_objects_with_input_True_wnp_True_cpt_False.HYPERNYMSUITE.csv', 'lm_diagnostic_extended-singular': 'log/bert-large-uncased/lm_diagnostic_extended/singular/exp_data_results_anchor_type_Coordinate_remove_Y_PUNC_FULL_concate_or_single_max_anchor_num_10_anchor_scorer_probAvg_filter_obj_True_filter_objects_with_input_True_wnp_True_cpt_False.LM_DIAGNOSTIC_EXTENDED.csv', 'clsb-singular': 'log/bert-large-uncased/clsb/singular/exp_data_results_anchor_type_Coordinate_remove_Y_PUNC_FULL_concate_or_single_max_anchor_num_10_anchor_scorer_probAvg_filter_obj_True_filter_objects_with_input_True_wnp_True_cpt_False.CLSB.csv', 'hypernymsuite-LEDS': 'log/bert-large-uncased/hypernymsuite/LEDS/exp_data_results_anchor_type_Coordinate_remove_Y_PUNC_FULL_concate_or_single_max_anchor_num_10_anchor_scorer_probAvg_filter_obj_True_filter_objects_with_input_True_wnp_True_cpt_False.HYPERNYMSUITE.csv', 'hypernymsuite-EVAL': 'log/bert-large-uncased/hypernymsuite/EVAL/exp_data_results_anchor_type_Coordinate_remove_Y_PUNC_FULL_concate_or_single_max_anchor_num_10_anchor_scorer_probAvg_filter_obj_True_filter_objects_with_input_True_wnp_True_cpt_False.HYPERNYMSUITE.csv', 'hypernymsuite-SHWARTZ': 'log/bert-large-uncased/hypernymsuite/SHWARTZ/exp_data_results_anchor_type_Coordinate_remove_Y_PUNC_FULL_concate_or_single_max_anchor_num_10_anchor_scorer_probAvg_filter_obj_True_filter_objects_with_input_True_wnp_True_cpt_False.HYPERNYMSUITE.csv'}\n",
    "\n",
    "    source_dir = 'spartan:~/cogsci/DAP/'\n",
    "    target_dir = '../../'\n",
    "    dataset_to_localpath = defaultdict()\n",
    "    dataset_rename = {\n",
    "        'hypernymsuite-BLESS': 'BLESS', 'lm_diagnostic_extended-singular': 'DIAG', 'clsb-singular':'CLSB', 'hypernymsuite-LEDS': 'LEDS', 'hypernymsuite-EVAL': 'EVAL', 'hypernymsuite-SHWARTZ': \n",
    "        \"SHWARTZ\"\n",
    "    }\n",
    "    for dataset, path in dataset_to_respath.items():\n",
    "        path = path.replace(\".tsv\", \".csv\")\n",
    "        source_path = source_dir + path \n",
    "        dataset_l1 = dataset.split(\"-\")[0]\n",
    "        dataset_l2 = dataset.split(\"-\")[1] \n",
    "        target_path = target_dir + path\n",
    "        scp_string = f\"!scp {source_path} {target_path}\"\n",
    "        if print_flag:\n",
    "            print(scp_string)\n",
    "            print()\n",
    "#         print(target_path)\n",
    "        dataset_to_localpath[dataset_rename[dataset]] = target_path \n",
    "#     print(dataset_to_localpath)\n",
    "    return dataset_to_localpath\n",
    "dataset_to_localpath = get_dataset_to_respath(dataset_to_respath)\n",
    "# dataset_to_localpath"
   ]
  },
  {
   "cell_type": "code",
   "execution_count": 4,
   "metadata": {},
   "outputs": [],
   "source": [
    "df = pd.read_csv(dataset_to_localpath['EVAL'])"
   ]
  },
  {
   "cell_type": "code",
   "execution_count": 5,
   "metadata": {},
   "outputs": [],
   "source": [
    "\n",
    "df_relata['POS_count_broad_num'] = df_relata['POS_count_broad'].apply(lambda x: len(x.split(\"/\")))\n",
    "df_relata['tags_num'] = df_relata['tags'].apply(lambda x: len(x.split(\",\")))\n",
    "word_to_pos_num = dict(zip(df_relata['relatum'], df_relata['POS_count_broad_num']))\n",
    "word_to_tags_num = dict(zip(df_relata['relatum'], df_relata['tags_num']))\n",
    "word_to_pos_count = dict(zip(df_relata['relatum'], df_relata['POS_count_broad']))\n",
    "\n",
    "df['sub_POS_count_broad'] = df['sub_label_sg'].apply(lambda x: word_to_pos_count.get(x) )\n",
    "df['obj_POS_count_broad'] = df['obj_label'].apply(lambda x: word_to_pos_count.get(eval(x)[0]) )\n"
   ]
  },
  {
   "cell_type": "code",
   "execution_count": 51,
   "metadata": {},
   "outputs": [
    {
     "data": {
      "text/html": [
       "<div>\n",
       "<style scoped>\n",
       "    .dataframe tbody tr th:only-of-type {\n",
       "        vertical-align: middle;\n",
       "    }\n",
       "\n",
       "    .dataframe tbody tr th {\n",
       "        vertical-align: top;\n",
       "    }\n",
       "\n",
       "    .dataframe thead th {\n",
       "        text-align: right;\n",
       "    }\n",
       "</style>\n",
       "<table border=\"1\" class=\"dataframe\">\n",
       "  <thead>\n",
       "    <tr style=\"text-align: right;\">\n",
       "      <th></th>\n",
       "      <th>relatum</th>\n",
       "      <th>tags</th>\n",
       "    </tr>\n",
       "  </thead>\n",
       "  <tbody>\n",
       "    <tr>\n",
       "      <th>0</th>\n",
       "      <td>absolute</td>\n",
       "      <td>SPECIFIC_1/2,CONCRETE_1/2,GENERAL_1/2</td>\n",
       "    </tr>\n",
       "    <tr>\n",
       "      <th>1</th>\n",
       "      <td>abstract</td>\n",
       "      <td>SUPERORDINATE_1/2,ABSTRACT_2/2,GENERAL_2/2,OTHER_1/2,SUBORDINATE_1/2,EVENT_1/2</td>\n",
       "    </tr>\n",
       "    <tr>\n",
       "      <th>2</th>\n",
       "      <td>accident</td>\n",
       "      <td>SUPERORDINATE_1/2,CONCRETE_1/2,EVENT_2/2,GENERAL_1/2</td>\n",
       "    </tr>\n",
       "    <tr>\n",
       "      <th>3</th>\n",
       "      <td>account</td>\n",
       "      <td>SUPERORDINATE_2/2,ABSTRACT_2/2,OTHER_2/2,GENERAL_2/2</td>\n",
       "    </tr>\n",
       "    <tr>\n",
       "      <th>4</th>\n",
       "      <td>act</td>\n",
       "      <td>SUPERORDINATE_4/26,PLANT_1/26,COLOR_1/26,SPACE_1/26,FOOD_1/26,PEOPLE_1/26,ABSTRACT_12/26,TIME_1/26,OBJECT_1/26,GENERAL_9/26,SPECIFIC_8/26,CONCRETE_5/26,OTHER_8/26,ANIMAL_1/26,BASIC_7/26,SUBORDINATE_4/26,EVENT_18/26</td>\n",
       "    </tr>\n",
       "  </tbody>\n",
       "</table>\n",
       "</div>"
      ],
      "text/plain": [
       "    relatum  \\\n",
       "0  absolute   \n",
       "1  abstract   \n",
       "2  accident   \n",
       "3   account   \n",
       "4       act   \n",
       "\n",
       "                                                                                                                                                                                                                     tags  \n",
       "0                                                                                                                                                                                   SPECIFIC_1/2,CONCRETE_1/2,GENERAL_1/2  \n",
       "1                                                                                                                                          SUPERORDINATE_1/2,ABSTRACT_2/2,GENERAL_2/2,OTHER_1/2,SUBORDINATE_1/2,EVENT_1/2  \n",
       "2                                                                                                                                                                    SUPERORDINATE_1/2,CONCRETE_1/2,EVENT_2/2,GENERAL_1/2  \n",
       "3                                                                                                                                                                    SUPERORDINATE_2/2,ABSTRACT_2/2,OTHER_2/2,GENERAL_2/2  \n",
       "4  SUPERORDINATE_4/26,PLANT_1/26,COLOR_1/26,SPACE_1/26,FOOD_1/26,PEOPLE_1/26,ABSTRACT_12/26,TIME_1/26,OBJECT_1/26,GENERAL_9/26,SPECIFIC_8/26,CONCRETE_5/26,OTHER_8/26,ANIMAL_1/26,BASIC_7/26,SUBORDINATE_4/26,EVENT_18/26  "
      ]
     },
     "execution_count": 51,
     "metadata": {},
     "output_type": "execute_result"
    }
   ],
   "source": [
    "# df_relata.head()[['relatum', 'tags']]\n",
    "# df['sub_label_sg'].head()"
   ]
  },
  {
   "cell_type": "code",
   "execution_count": 13,
   "metadata": {},
   "outputs": [
    {
     "data": {
      "text/html": [
       "<div>\n",
       "<style scoped>\n",
       "    .dataframe tbody tr th:only-of-type {\n",
       "        vertical-align: middle;\n",
       "    }\n",
       "\n",
       "    .dataframe tbody tr th {\n",
       "        vertical-align: top;\n",
       "    }\n",
       "\n",
       "    .dataframe thead th {\n",
       "        text-align: right;\n",
       "    }\n",
       "</style>\n",
       "<table border=\"1\" class=\"dataframe\">\n",
       "  <thead>\n",
       "    <tr style=\"text-align: right;\">\n",
       "      <th></th>\n",
       "      <th>relatum</th>\n",
       "      <th>tags</th>\n",
       "      <th>frequency</th>\n",
       "      <th>POS</th>\n",
       "      <th>POS_count_broad</th>\n",
       "      <th>forms</th>\n",
       "      <th>POS_count_fine</th>\n",
       "      <th>POS_count_broad_num</th>\n",
       "      <th>tags_num</th>\n",
       "    </tr>\n",
       "  </thead>\n",
       "  <tbody>\n",
       "    <tr>\n",
       "      <th>21</th>\n",
       "      <td>age</td>\n",
       "      <td>CONCRETE_1/2,ABSTRACT_1/2,TIME_1/2,GENERAL_1/2</td>\n",
       "      <td>1130840</td>\n",
       "      <td>NOUN</td>\n",
       "      <td>NN_83/VV_16</td>\n",
       "      <td>[ages, age, aged, ageing]</td>\n",
       "      <td>NN_75/VVN_13/NNS_8/VVG_2</td>\n",
       "      <td>2</td>\n",
       "      <td>4</td>\n",
       "    </tr>\n",
       "  </tbody>\n",
       "</table>\n",
       "</div>"
      ],
      "text/plain": [
       "   relatum                                            tags  frequency   POS  \\\n",
       "21     age  CONCRETE_1/2,ABSTRACT_1/2,TIME_1/2,GENERAL_1/2    1130840  NOUN   \n",
       "\n",
       "   POS_count_broad                      forms            POS_count_fine  \\\n",
       "21     NN_83/VV_16  [ages, age, aged, ageing]  NN_75/VVN_13/NNS_8/VVG_2   \n",
       "\n",
       "    POS_count_broad_num  tags_num  \n",
       "21                    2         4  "
      ]
     },
     "metadata": {},
     "output_type": "display_data"
    },
    {
     "data": {
      "text/html": [
       "<div>\n",
       "<style scoped>\n",
       "    .dataframe tbody tr th:only-of-type {\n",
       "        vertical-align: middle;\n",
       "    }\n",
       "\n",
       "    .dataframe tbody tr th {\n",
       "        vertical-align: top;\n",
       "    }\n",
       "\n",
       "    .dataframe thead th {\n",
       "        text-align: right;\n",
       "    }\n",
       "</style>\n",
       "<table border=\"1\" class=\"dataframe\">\n",
       "  <thead>\n",
       "    <tr style=\"text-align: right;\">\n",
       "      <th></th>\n",
       "      <th>relatum</th>\n",
       "      <th>tags</th>\n",
       "      <th>frequency</th>\n",
       "      <th>POS</th>\n",
       "      <th>POS_count_broad</th>\n",
       "      <th>forms</th>\n",
       "      <th>POS_count_fine</th>\n",
       "      <th>POS_count_broad_num</th>\n",
       "      <th>tags_num</th>\n",
       "    </tr>\n",
       "  </thead>\n",
       "  <tbody>\n",
       "    <tr>\n",
       "      <th>259</th>\n",
       "      <td>change</td>\n",
       "      <td>ABSTRACT_1/2,BASIC_1/2,EVENT_2/2,GENERAL_2/2</td>\n",
       "      <td>1771619</td>\n",
       "      <td>NOUN</td>\n",
       "      <td>NN_53/VV_46</td>\n",
       "      <td>[change, changed, changes, changing]</td>\n",
       "      <td>NN_27/NNS_26/VV_16/VVN_11/VVG_10/VVD_5/VVP_1/VVZ_1</td>\n",
       "      <td>2</td>\n",
       "      <td>4</td>\n",
       "    </tr>\n",
       "  </tbody>\n",
       "</table>\n",
       "</div>"
      ],
      "text/plain": [
       "    relatum                                          tags  frequency   POS  \\\n",
       "259  change  ABSTRACT_1/2,BASIC_1/2,EVENT_2/2,GENERAL_2/2    1771619  NOUN   \n",
       "\n",
       "    POS_count_broad                                 forms  \\\n",
       "259     NN_53/VV_46  [change, changed, changes, changing]   \n",
       "\n",
       "                                         POS_count_fine  POS_count_broad_num  \\\n",
       "259  NN_27/NNS_26/VV_16/VVN_11/VVG_10/VVD_5/VVP_1/VVZ_1                    2   \n",
       "\n",
       "     tags_num  \n",
       "259         4  "
      ]
     },
     "metadata": {},
     "output_type": "display_data"
    }
   ],
   "source": [
    "display(df_relata.query(\"relatum=='age'\"))\n",
    "display(df_relata.query(\"relatum=='change'\"))"
   ]
  },
  {
   "cell_type": "code",
   "execution_count": 6,
   "metadata": {},
   "outputs": [
    {
     "name": "stdout",
     "output_type": "stream",
     "text": [
      "1    0.494229\n",
      "2    0.471144\n",
      "3    0.032529\n",
      "5    0.001049\n",
      "4    0.001049\n",
      "Name: sub_pos_num, dtype: float64\n",
      "1    0.568730\n",
      "2    0.401889\n",
      "3    0.029381\n",
      "Name: obj_pos_num, dtype: float64\n",
      "5     0.271773\n",
      "4     0.251836\n",
      "6     0.137461\n",
      "16    0.084995\n",
      "7     0.073452\n",
      "2     0.056663\n",
      "17    0.044071\n",
      "1     0.036726\n",
      "3     0.027282\n",
      "8     0.008395\n",
      "11    0.003148\n",
      "12    0.002099\n",
      "9     0.001049\n",
      "15    0.001049\n",
      "Name: sub_tags_num, dtype: float64\n",
      "4     0.346275\n",
      "6     0.214061\n",
      "5     0.192025\n",
      "16    0.074502\n",
      "2     0.050367\n",
      "17    0.043022\n",
      "7     0.035677\n",
      "3     0.025184\n",
      "1     0.011542\n",
      "8     0.005247\n",
      "11    0.002099\n",
      "Name: obj_tags_num, dtype: float64\n"
     ]
    }
   ],
   "source": [
    "\n",
    "df['sub_pos_num'] = df['sub_label_sg'].apply(lambda x: word_to_pos_num.get(x))\n",
    "df['obj_pos_num'] = df['obj_label_sg'].apply(lambda x: word_to_pos_num.get(eval(x)[0]))\n",
    "df['sub_tags_num'] = df['sub_label_sg'].apply(lambda x: word_to_tags_num.get(x))\n",
    "df['obj_tags_num'] = df['obj_label_sg'].apply(lambda x: word_to_tags_num.get(eval(x)[0]))\n",
    "\n",
    "print(df['sub_pos_num'].value_counts(normalize=True))\n",
    "print(df['obj_pos_num'].value_counts(normalize=True))\n",
    "print(df['sub_tags_num'].value_counts(normalize=True))\n",
    "print(df['obj_tags_num'].value_counts(normalize=True))"
   ]
  },
  {
   "cell_type": "code",
   "execution_count": 20,
   "metadata": {},
   "outputs": [
    {
     "data": {
      "text/plain": [
       "sub_pos_num  obj_pos_num\n",
       "1            1              288\n",
       "2            1              233\n",
       "             2              203\n",
       "1            2              169\n",
       "dtype: int64"
      ]
     },
     "metadata": {},
     "output_type": "display_data"
    },
    {
     "name": "stdout",
     "output_type": "stream",
     "text": [
      "                        metric        dataset  statistic        pvalue  \\\n",
      "0  p10_def_sap .vs p10_lsp_sap  EVAL-NOUNNOUN   5.570191  5.854745e-08   \n",
      "1  p10_def_sap .vs p10_def_dap  EVAL-NOUNNOUN  -1.121398  2.630558e-01   \n",
      "2  p10_lsp_sap .vs p10_lsp_dap  EVAL-NOUNNOUN  -1.815584  7.047770e-02   \n",
      "\n",
      "   significantly different  \n",
      "0                     True  \n",
      "1                    False  \n",
      "2                    False  \n",
      "288\n"
     ]
    },
    {
     "data": {
      "text/html": [
       "<div>\n",
       "<style scoped>\n",
       "    .dataframe tbody tr th:only-of-type {\n",
       "        vertical-align: middle;\n",
       "    }\n",
       "\n",
       "    .dataframe tbody tr th {\n",
       "        vertical-align: top;\n",
       "    }\n",
       "\n",
       "    .dataframe thead th {\n",
       "        text-align: right;\n",
       "    }\n",
       "</style>\n",
       "<table border=\"1\" class=\"dataframe\">\n",
       "  <thead>\n",
       "    <tr style=\"text-align: right;\">\n",
       "      <th></th>\n",
       "      <th>p10_def_sap</th>\n",
       "      <th>p10_def_dap</th>\n",
       "      <th>p10_lsp_sap</th>\n",
       "      <th>p10_lsp_dap</th>\n",
       "    </tr>\n",
       "  </thead>\n",
       "  <tbody>\n",
       "    <tr>\n",
       "      <th>0</th>\n",
       "      <td>0.552083</td>\n",
       "      <td>0.576389</td>\n",
       "      <td>0.385417</td>\n",
       "      <td>0.423611</td>\n",
       "    </tr>\n",
       "  </tbody>\n",
       "</table>\n",
       "</div>"
      ],
      "text/plain": [
       "   p10_def_sap  p10_def_dap  p10_lsp_sap  p10_lsp_dap\n",
       "0     0.552083     0.576389     0.385417     0.423611"
      ]
     },
     "metadata": {},
     "output_type": "display_data"
    },
    {
     "data": {
      "text/html": [
       "<div>\n",
       "<style scoped>\n",
       "    .dataframe tbody tr th:only-of-type {\n",
       "        vertical-align: middle;\n",
       "    }\n",
       "\n",
       "    .dataframe tbody tr th {\n",
       "        vertical-align: top;\n",
       "    }\n",
       "\n",
       "    .dataframe thead th {\n",
       "        text-align: right;\n",
       "    }\n",
       "</style>\n",
       "<table border=\"1\" class=\"dataframe\">\n",
       "  <thead>\n",
       "    <tr style=\"text-align: right;\">\n",
       "      <th></th>\n",
       "      <th>p10_def_sap</th>\n",
       "      <th>p10_def_dap</th>\n",
       "      <th>p10_lsp_sap</th>\n",
       "      <th>p10_lsp_dap</th>\n",
       "    </tr>\n",
       "  </thead>\n",
       "  <tbody>\n",
       "    <tr>\n",
       "      <th>0</th>\n",
       "      <td>0.473684</td>\n",
       "      <td>0.466965</td>\n",
       "      <td>0.395297</td>\n",
       "      <td>0.399776</td>\n",
       "    </tr>\n",
       "  </tbody>\n",
       "</table>\n",
       "</div>"
      ],
      "text/plain": [
       "   p10_def_sap  p10_def_dap  p10_lsp_sap  p10_lsp_dap\n",
       "0     0.473684     0.466965     0.395297     0.399776"
      ]
     },
     "metadata": {},
     "output_type": "display_data"
    },
    {
     "data": {
      "text/html": [
       "<div>\n",
       "<style scoped>\n",
       "    .dataframe tbody tr th:only-of-type {\n",
       "        vertical-align: middle;\n",
       "    }\n",
       "\n",
       "    .dataframe tbody tr th {\n",
       "        vertical-align: top;\n",
       "    }\n",
       "\n",
       "    .dataframe thead th {\n",
       "        text-align: right;\n",
       "    }\n",
       "</style>\n",
       "<table border=\"1\" class=\"dataframe\">\n",
       "  <thead>\n",
       "    <tr style=\"text-align: right;\">\n",
       "      <th></th>\n",
       "      <th>sub_label_sg</th>\n",
       "      <th>obj_label</th>\n",
       "      <th>sub_POS_count_broad</th>\n",
       "      <th>obj_POS_count_broad</th>\n",
       "      <th>obj_mask_def_sap</th>\n",
       "      <th>obj_mask_lsp_sap</th>\n",
       "      <th>p10_def_sap</th>\n",
       "      <th>p10_lsp_sap</th>\n",
       "    </tr>\n",
       "  </thead>\n",
       "  <tbody>\n",
       "    <tr>\n",
       "      <th>175</th>\n",
       "      <td>choice</td>\n",
       "      <td>['action']</td>\n",
       "      <td>NN_99</td>\n",
       "      <td>NN_99</td>\n",
       "      <td>['decision', 'action', 'mistake', 'judgment', 'possibility', 'freedom', 'argument', 'change', 'rule', 'option']</td>\n",
       "      <td>['thing', 'option', 'yes', 'concept', 'possibility', 'issue', 'decision', 'consideration', 'factor', 'idea']</td>\n",
       "      <td>1</td>\n",
       "      <td>0</td>\n",
       "    </tr>\n",
       "    <tr>\n",
       "      <th>335</th>\n",
       "      <td>farmland</td>\n",
       "      <td>['country']</td>\n",
       "      <td>NN_100</td>\n",
       "      <td>NN_99</td>\n",
       "      <td>['land', 'farm', 'field', 'forest', 'landscape', 'country', 'property', 'village', 'garden', 'pasture']</td>\n",
       "      <td>['land', 'area', 'agriculture', 'countryside', 'place', 'field', 'habitat', 'thing', 'landscape', 'use']</td>\n",
       "      <td>1</td>\n",
       "      <td>0</td>\n",
       "    </tr>\n",
       "    <tr>\n",
       "      <th>934</th>\n",
       "      <td>wine</td>\n",
       "      <td>['alcohol']</td>\n",
       "      <td>NN_99</td>\n",
       "      <td>NN_100</td>\n",
       "      <td>['drink', 'beverage', 'beer', 'alcohol', 'liquor', 'food', 'bottle', 'liquid', 'fruit', 'product']</td>\n",
       "      <td>['product', 'food', 'beverage', 'thing', 'drink', 'good', 'dish', 'spirit', 'fruit', 'ingredient']</td>\n",
       "      <td>1</td>\n",
       "      <td>0</td>\n",
       "    </tr>\n",
       "    <tr>\n",
       "      <th>587</th>\n",
       "      <td>monk</td>\n",
       "      <td>['person']</td>\n",
       "      <td>NN_99</td>\n",
       "      <td>NN_100</td>\n",
       "      <td>['priest', 'man', 'warrior', 'person', 'cleric', 'buddhist', 'saint', 'hermit', 'shaman', 'musician']</td>\n",
       "      <td>['people', 'clergy', 'religious', 'priest', 'christian', 'nun', 'man', 'foreigner', 'writer', 'woman']</td>\n",
       "      <td>1</td>\n",
       "      <td>0</td>\n",
       "    </tr>\n",
       "    <tr>\n",
       "      <th>853</th>\n",
       "      <td>television</td>\n",
       "      <td>['tv']</td>\n",
       "      <td>NN_100</td>\n",
       "      <td>NN_100</td>\n",
       "      <td>['tv', 'computer', 'machine', 'radio', 'device', 'camera', 'thing', 'cinema', 'telephone', 'home']</td>\n",
       "      <td>['electronics', 'medium', 'device', 'equipment', 'thing', 'computer', 'technology', 'appliance', 'item', 'communication']</td>\n",
       "      <td>1</td>\n",
       "      <td>0</td>\n",
       "    </tr>\n",
       "    <tr>\n",
       "      <th>682</th>\n",
       "      <td>priest</td>\n",
       "      <td>['person']</td>\n",
       "      <td>NN_99</td>\n",
       "      <td>NN_100</td>\n",
       "      <td>['man', 'cleric', 'person', 'monk', 'leader', 'bishop', 'minister', 'prophet', 'clergyman', 'servant']</td>\n",
       "      <td>['people', 'clergy', 'thing', 'official', 'man', 'monk', 'religious', 'woman', 'individual', 'elder']</td>\n",
       "      <td>1</td>\n",
       "      <td>0</td>\n",
       "    </tr>\n",
       "    <tr>\n",
       "      <th>139</th>\n",
       "      <td>capital</td>\n",
       "      <td>['city']</td>\n",
       "      <td>NN_99</td>\n",
       "      <td>NN_99</td>\n",
       "      <td>['city', 'currency', 'building', 'town', 'province', 'municipality', 'letter', 'state', 'village', 'county']</td>\n",
       "      <td>['letter', 'symbol', 'shape', 'thing', 'character', 'word', 'form', 'feature', 'type', 'element']</td>\n",
       "      <td>1</td>\n",
       "      <td>0</td>\n",
       "    </tr>\n",
       "    <tr>\n",
       "      <th>819</th>\n",
       "      <td>statue</td>\n",
       "      <td>['image']</td>\n",
       "      <td>NN_99</td>\n",
       "      <td>NN_99</td>\n",
       "      <td>['sculpture', 'monument', 'object', 'symbol', 'building', 'thing', 'artwork', 'god', 'image', 'painting']</td>\n",
       "      <td>['object', 'thing', 'monument', 'sculpture', 'structure', 'building', 'art', 'item', 'work', 'furniture']</td>\n",
       "      <td>1</td>\n",
       "      <td>0</td>\n",
       "    </tr>\n",
       "    <tr>\n",
       "      <th>620</th>\n",
       "      <td>organ</td>\n",
       "      <td>['instrument']</td>\n",
       "      <td>NN_100</td>\n",
       "      <td>NN_99</td>\n",
       "      <td>['instrument', 'piano', 'synthesizer', 'harpsichord', 'church', 'voice', 'building', 'machine', 'keyboard', 'guitar']</td>\n",
       "      <td>['structure', 'thing', 'part', 'tissue', 'body', 'object', 'material', 'animal', 'item', 'fluid']</td>\n",
       "      <td>1</td>\n",
       "      <td>0</td>\n",
       "    </tr>\n",
       "    <tr>\n",
       "      <th>670</th>\n",
       "      <td>politician</td>\n",
       "      <td>['leader']</td>\n",
       "      <td>NN_99</td>\n",
       "      <td>NN_100</td>\n",
       "      <td>['leader', 'person', 'lawyer', 'man', 'businessman', 'soldier', 'journalist', 'democrat', 'writer', 'official']</td>\n",
       "      <td>['people', 'celebrity', 'professional', 'individual', 'official', 'person', 'figure', 'dignitary', 'businessman', 'man']</td>\n",
       "      <td>1</td>\n",
       "      <td>0</td>\n",
       "    </tr>\n",
       "    <tr>\n",
       "      <th>315</th>\n",
       "      <td>enemy</td>\n",
       "      <td>['person']</td>\n",
       "      <td>NN_99</td>\n",
       "      <td>NN_100</td>\n",
       "      <td>['friend', 'monster', 'threat', 'foe', 'person', 'creature', 'weapon', 'animal', 'object', 'character']</td>\n",
       "      <td>['people', 'thing', 'friend', 'animal', 'ally', 'creature', 'human', 'relative', 'yes', 'stranger']</td>\n",
       "      <td>1</td>\n",
       "      <td>0</td>\n",
       "    </tr>\n",
       "    <tr>\n",
       "      <th>642</th>\n",
       "      <td>person</td>\n",
       "      <td>['organism']</td>\n",
       "      <td>NN_100</td>\n",
       "      <td>NN_100</td>\n",
       "      <td>['thing', 'entity', 'animal', 'object', 'human', 'creature', 'substance', 'machine', 'god', 'organism']</td>\n",
       "      <td>['thing', 'entity', 'object', 'property', 'group', 'animal', 'people', 'good', 'human', 'individual']</td>\n",
       "      <td>1</td>\n",
       "      <td>0</td>\n",
       "    </tr>\n",
       "    <tr>\n",
       "      <th>763</th>\n",
       "      <td>sex</td>\n",
       "      <td>['pleasure']</td>\n",
       "      <td>NN_99</td>\n",
       "      <td>NN_99</td>\n",
       "      <td>['relationship', 'love', 'activity', 'pleasure', 'event', 'life', 'marriage', 'thing', 'body', 'object']</td>\n",
       "      <td>['detail', 'thing', 'character', 'relationship', 'species', 'information', 'ecology', 'aspect', 'characteristic', 'animal']</td>\n",
       "      <td>1</td>\n",
       "      <td>0</td>\n",
       "    </tr>\n",
       "    <tr>\n",
       "      <th>233</th>\n",
       "      <td>coward</td>\n",
       "      <td>['person']</td>\n",
       "      <td>NN_100</td>\n",
       "      <td>NN_100</td>\n",
       "      <td>['person', 'man', 'fool', 'criminal', 'human', 'liar', 'idiot', 'animal', 'soldier', 'loser']</td>\n",
       "      <td>['man', 'people', 'enemy', 'criminal', 'hero', 'villain', 'fool', 'murderer', 'soldier', 'outlaw']</td>\n",
       "      <td>1</td>\n",
       "      <td>0</td>\n",
       "    </tr>\n",
       "    <tr>\n",
       "      <th>787</th>\n",
       "      <td>son</td>\n",
       "      <td>['person']</td>\n",
       "      <td>NN_100</td>\n",
       "      <td>NN_100</td>\n",
       "      <td>['father', 'daughter', 'child', 'man', 'mother', 'brother', 'family', 'boy', 'person', 'husband']</td>\n",
       "      <td>['child', 'people', 'daughter', 'story', 'poem', 'thing', 'sibling', 'man', 'marry', 'family']</td>\n",
       "      <td>1</td>\n",
       "      <td>0</td>\n",
       "    </tr>\n",
       "    <tr>\n",
       "      <th>892</th>\n",
       "      <td>turkey</td>\n",
       "      <td>['food']</td>\n",
       "      <td>NN_100</td>\n",
       "      <td>NN_99</td>\n",
       "      <td>['bird', 'animal', 'chicken', 'pig', 'duck', 'meat', 'dog', 'mammal', 'fish', 'food']</td>\n",
       "      <td>['bird', 'animal', 'poultry', 'livestock', 'mammal', 'meat', 'thing', 'pet', 'game', 'chicken']</td>\n",
       "      <td>1</td>\n",
       "      <td>0</td>\n",
       "    </tr>\n",
       "    <tr>\n",
       "      <th>616</th>\n",
       "      <td>offspring</td>\n",
       "      <td>['person']</td>\n",
       "      <td>NN_99</td>\n",
       "      <td>NN_100</td>\n",
       "      <td>['child', 'animal', 'parent', 'organism', 'person', 'product', 'daughter', 'human', 'son', 'hybrid']</td>\n",
       "      <td>['child', 'animal', 'thing', 'individual', 'relative', 'sibling', 'organism', 'case', 'baby', 'characteristic']</td>\n",
       "      <td>1</td>\n",
       "      <td>0</td>\n",
       "    </tr>\n",
       "    <tr>\n",
       "      <th>386</th>\n",
       "      <td>game</td>\n",
       "      <td>['recreation']</td>\n",
       "      <td>NN_99</td>\n",
       "      <td>NN_100</td>\n",
       "      <td>['entertainment', 'play', 'activity', 'sport', 'competition', 'work', 'exercise', 'action', 'contest', 'recreation']</td>\n",
       "      <td>['medium', 'entertainment', 'thing', 'activity', 'sport', 'material', 'toy', 'product', 'event', 'publication']</td>\n",
       "      <td>1</td>\n",
       "      <td>0</td>\n",
       "    </tr>\n",
       "    <tr>\n",
       "      <th>801</th>\n",
       "      <td>spirit</td>\n",
       "      <td>['person']</td>\n",
       "      <td>NN_100</td>\n",
       "      <td>NN_100</td>\n",
       "      <td>['person', 'creature', 'animal', 'entity', 'demon', 'human', 'soul', 'ghost', 'thing', 'medium']</td>\n",
       "      <td>['thing', 'demon', 'creature', 'being', 'entity', 'ghost', 'animal', 'people', 'yes', 'god']</td>\n",
       "      <td>1</td>\n",
       "      <td>0</td>\n",
       "    </tr>\n",
       "    <tr>\n",
       "      <th>625</th>\n",
       "      <td>pain</td>\n",
       "      <td>['illness']</td>\n",
       "      <td>NN_99</td>\n",
       "      <td>NN_100</td>\n",
       "      <td>['pleasure', 'injury', 'disease', 'sensation', 'curse', 'emotion', 'illness', 'stress', 'torment', 'suffering']</td>\n",
       "      <td>['thing', 'symptom', 'sensation', 'injury', 'yes', 'wound', 'feeling', 'hurt', 'complication', 'problem']</td>\n",
       "      <td>1</td>\n",
       "      <td>0</td>\n",
       "    </tr>\n",
       "    <tr>\n",
       "      <th>108</th>\n",
       "      <td>boss</td>\n",
       "      <td>['person']</td>\n",
       "      <td>NN_99</td>\n",
       "      <td>NN_100</td>\n",
       "      <td>['leader', 'man', 'character', 'robot', 'person', 'manager', 'authority', 'player', 'game', 'power']</td>\n",
       "      <td>['people', 'thing', 'man', 'figure', 'everybody', 'official', 'leader', 'character', 'relative', 'friend']</td>\n",
       "      <td>1</td>\n",
       "      <td>0</td>\n",
       "    </tr>\n",
       "    <tr>\n",
       "      <th>517</th>\n",
       "      <td>language</td>\n",
       "      <td>['communication']</td>\n",
       "      <td>NN_99</td>\n",
       "      <td>NN_100</td>\n",
       "      <td>['communication', 'concept', 'structure', 'writing', 'culture', 'information', 'system', 'machine', 'code', 'process']</td>\n",
       "      <td>['culture', 'thing', 'people', 'subject', 'topic', 'literature', 'art', 'area', 'medium', 'religion']</td>\n",
       "      <td>1</td>\n",
       "      <td>0</td>\n",
       "    </tr>\n",
       "    <tr>\n",
       "      <th>377</th>\n",
       "      <td>friend</td>\n",
       "      <td>['person']</td>\n",
       "      <td>NN_99</td>\n",
       "      <td>NN_100</td>\n",
       "      <td>['person', 'relationship', 'friendship', 'family', 'stranger', 'human', 'brother', 'companion', 'relation', 'ally']</td>\n",
       "      <td>['relative', 'thing', 'people', 'acquaintance', 'family', 'stranger', 'everybody', 'relationship', 'neighbor', 'group']</td>\n",
       "      <td>1</td>\n",
       "      <td>0</td>\n",
       "    </tr>\n",
       "    <tr>\n",
       "      <th>459</th>\n",
       "      <td>husband</td>\n",
       "      <td>['family']</td>\n",
       "      <td>NN_99</td>\n",
       "      <td>NN_99</td>\n",
       "      <td>['man', 'wife', 'father', 'woman', 'male', 'person', 'household', 'family', 'animal', 'marriage']</td>\n",
       "      <td>['child', 'thing', 'man', 'woman', 'people', 'wife', 'couple', 'relative', 'relationship', 'person']</td>\n",
       "      <td>1</td>\n",
       "      <td>0</td>\n",
       "    </tr>\n",
       "    <tr>\n",
       "      <th>40</th>\n",
       "      <td>baby</td>\n",
       "      <td>['person']</td>\n",
       "      <td>NN_99</td>\n",
       "      <td>NN_100</td>\n",
       "      <td>['child', 'animal', 'person', 'human', 'mammal', 'monster', 'toy', 'bird', 'thing', 'infant']</td>\n",
       "      <td>['child', 'thing', 'animal', 'people', 'yes', 'pet', 'woman', 'kid', 'object', 'yeah']</td>\n",
       "      <td>1</td>\n",
       "      <td>0</td>\n",
       "    </tr>\n",
       "    <tr>\n",
       "      <th>665</th>\n",
       "      <td>player</td>\n",
       "      <td>['person']</td>\n",
       "      <td>NN_99</td>\n",
       "      <td>NN_100</td>\n",
       "      <td>['person', 'actor', 'team', 'game', 'animal', 'human', 'computer', 'machine', 'entity', 'character']</td>\n",
       "      <td>['people', 'athlete', 'sport', 'thing', 'staff', 'medium', 'organization', 'official', 'team', 'employee']</td>\n",
       "      <td>1</td>\n",
       "      <td>0</td>\n",
       "    </tr>\n",
       "    <tr>\n",
       "      <th>366</th>\n",
       "      <td>football</td>\n",
       "      <td>['ball']</td>\n",
       "      <td>NN_99</td>\n",
       "      <td>NN_99</td>\n",
       "      <td>['soccer', 'ball', 'game', 'sport', 'stadium', 'club', 'goal', 'basketball', 'player', 'baseball']</td>\n",
       "      <td>['thing', 'object', 'sport', 'toy', 'soccer', 'item', 'equipment', 'game', 'weapon', 'tool']</td>\n",
       "      <td>1</td>\n",
       "      <td>0</td>\n",
       "    </tr>\n",
       "    <tr>\n",
       "      <th>907</th>\n",
       "      <td>violence</td>\n",
       "      <td>['action']</td>\n",
       "      <td>NN_100</td>\n",
       "      <td>NN_99</td>\n",
       "      <td>['crime', 'conflict', 'action', 'threat', 'killing', 'war', 'disorder', 'attack', 'weapon', 'reaction']</td>\n",
       "      <td>['thing', 'crime', 'issue', 'act', 'threat', 'disorder', 'cause', 'war', 'incident', 'terrorism']</td>\n",
       "      <td>1</td>\n",
       "      <td>0</td>\n",
       "    </tr>\n",
       "    <tr>\n",
       "      <th>547</th>\n",
       "      <td>lover</td>\n",
       "      <td>['person']</td>\n",
       "      <td>NN_100</td>\n",
       "      <td>NN_100</td>\n",
       "      <td>['friend', 'person', 'man', 'relationship', 'animal', 'woman', 'human', 'god', 'vampire', 'love']</td>\n",
       "      <td>['people', 'friend', 'woman', 'thing', 'man', 'relationship', 'stranger', 'couple', 'partner', 'yes']</td>\n",
       "      <td>1</td>\n",
       "      <td>0</td>\n",
       "    </tr>\n",
       "    <tr>\n",
       "      <th>383</th>\n",
       "      <td>game</td>\n",
       "      <td>['competition']</td>\n",
       "      <td>NN_99</td>\n",
       "      <td>NN_99</td>\n",
       "      <td>['entertainment', 'play', 'activity', 'sport', 'competition', 'work', 'exercise', 'action', 'contest', 'recreation']</td>\n",
       "      <td>['medium', 'entertainment', 'thing', 'activity', 'sport', 'material', 'toy', 'product', 'event', 'publication']</td>\n",
       "      <td>1</td>\n",
       "      <td>0</td>\n",
       "    </tr>\n",
       "    <tr>\n",
       "      <th>442</th>\n",
       "      <td>hero</td>\n",
       "      <td>['person']</td>\n",
       "      <td>NN_100</td>\n",
       "      <td>NN_100</td>\n",
       "      <td>['person', 'character', 'warrior', 'superhero', 'man', 'leader', 'celebrity', 'god', 'villain', 'soldier']</td>\n",
       "      <td>['people', 'character', 'villain', 'story', 'man', 'animal', 'monster', 'creature', 'thing', 'god']</td>\n",
       "      <td>1</td>\n",
       "      <td>0</td>\n",
       "    </tr>\n",
       "    <tr>\n",
       "      <th>60</th>\n",
       "      <td>basket</td>\n",
       "      <td>['container']</td>\n",
       "      <td>NN_100</td>\n",
       "      <td>NN_100</td>\n",
       "      <td>['container', 'bag', 'object', 'vessel', 'box', 'furniture', 'thing', 'clothing', 'cloth', 'implement']</td>\n",
       "      <td>['item', 'object', 'thing', 'craft', 'tool', 'pottery', 'textile', 'material', 'clothing', 'furniture']</td>\n",
       "      <td>1</td>\n",
       "      <td>0</td>\n",
       "    </tr>\n",
       "    <tr>\n",
       "      <th>783</th>\n",
       "      <td>soldier</td>\n",
       "      <td>['person']</td>\n",
       "      <td>NN_99</td>\n",
       "      <td>NN_100</td>\n",
       "      <td>['man', 'warrior', 'person', 'animal', 'robot', 'human', 'fighter', 'horse', 'hero', 'military']</td>\n",
       "      <td>['people', 'civilian', 'man', 'personnel', 'thing', 'officer', 'animal', 'yes', 'official', 'worker']</td>\n",
       "      <td>1</td>\n",
       "      <td>0</td>\n",
       "    </tr>\n",
       "    <tr>\n",
       "      <th>337</th>\n",
       "      <td>father</td>\n",
       "      <td>['leader']</td>\n",
       "      <td>NN_99</td>\n",
       "      <td>NN_100</td>\n",
       "      <td>['man', 'son', 'mother', 'husband', 'person', 'god', 'brother', 'leader', 'parent', 'family']</td>\n",
       "      <td>['man', 'relative', 'people', 'mother', 'son', 'uncle', 'child', 'parent', 'thing', 'brother']</td>\n",
       "      <td>1</td>\n",
       "      <td>0</td>\n",
       "    </tr>\n",
       "    <tr>\n",
       "      <th>395</th>\n",
       "      <td>geek</td>\n",
       "      <td>['person']</td>\n",
       "      <td>NN_99</td>\n",
       "      <td>NN_100</td>\n",
       "      <td>['person', 'genius', 'superhero', 'human', 'musician', 'character', 'student', 'freak', 'computer', 'celebrity']</td>\n",
       "      <td>['people', 'student', 'kid', 'freak', 'outsider', 'minority', 'yes', 'celebrity', 'idiot', 'group']</td>\n",
       "      <td>1</td>\n",
       "      <td>0</td>\n",
       "    </tr>\n",
       "    <tr>\n",
       "      <th>919</th>\n",
       "      <td>warrior</td>\n",
       "      <td>['person']</td>\n",
       "      <td>NN_100</td>\n",
       "      <td>NN_100</td>\n",
       "      <td>['soldier', 'man', 'fighter', 'person', 'leader', 'hunter', 'animal', 'human', 'hero', 'superhero']</td>\n",
       "      <td>['man', 'people', 'thing', 'animal', 'creature', 'human', 'hero', 'woman', 'yes', 'soldier']</td>\n",
       "      <td>1</td>\n",
       "      <td>0</td>\n",
       "    </tr>\n",
       "    <tr>\n",
       "      <th>681</th>\n",
       "      <td>priest</td>\n",
       "      <td>['clergyman']</td>\n",
       "      <td>NN_99</td>\n",
       "      <td>NN_100</td>\n",
       "      <td>['man', 'cleric', 'person', 'monk', 'leader', 'bishop', 'minister', 'prophet', 'clergyman', 'servant']</td>\n",
       "      <td>['people', 'clergy', 'thing', 'official', 'man', 'monk', 'religious', 'woman', 'individual', 'elder']</td>\n",
       "      <td>1</td>\n",
       "      <td>0</td>\n",
       "    </tr>\n",
       "    <tr>\n",
       "      <th>409</th>\n",
       "      <td>god</td>\n",
       "      <td>['person']</td>\n",
       "      <td>NN_99</td>\n",
       "      <td>NN_100</td>\n",
       "      <td>['deity', 'man', 'person', 'human', 'goddess', 'creature', 'divinity', 'king', 'demon', 'entity']</td>\n",
       "      <td>['being', 'creature', 'thing', 'people', 'demon', 'spirit', 'deity', 'man', 'monster', 'human']</td>\n",
       "      <td>1</td>\n",
       "      <td>0</td>\n",
       "    </tr>\n",
       "    <tr>\n",
       "      <th>633</th>\n",
       "      <td>party</td>\n",
       "      <td>['fun']</td>\n",
       "      <td>NN_99</td>\n",
       "      <td>NN_99</td>\n",
       "      <td>['celebration', 'event', 'entertainment', 'organization', 'gathering', 'ritual', 'festival', 'fun', 'meeting', 'organisation']</td>\n",
       "      <td>['event', 'group', 'thing', 'activity', 'organization', 'organisation', 'meeting', 'people', 'person', 'club']</td>\n",
       "      <td>1</td>\n",
       "      <td>0</td>\n",
       "    </tr>\n",
       "    <tr>\n",
       "      <th>866</th>\n",
       "      <td>toilet</td>\n",
       "      <td>['room']</td>\n",
       "      <td>NN_100</td>\n",
       "      <td>NN_99</td>\n",
       "      <td>['bathroom', 'building', 'sink', 'room', 'restroom', 'structure', 'dwelling', 'drain', 'container', 'shelter']</td>\n",
       "      <td>['facility', 'place', 'bathroom', 'building', 'structure', 'area', 'thing', 'amenity', 'sanitation', 'infrastructure']</td>\n",
       "      <td>1</td>\n",
       "      <td>0</td>\n",
       "    </tr>\n",
       "    <tr>\n",
       "      <th>551</th>\n",
       "      <td>lyric</td>\n",
       "      <td>['text']</td>\n",
       "      <td>NN_99</td>\n",
       "      <td>NN_99</td>\n",
       "      <td>['poem', 'poetry', 'song', 'statement', 'verse', 'sentence', 'writing', 'metaphor', 'text', 'message']</td>\n",
       "      <td>['music', 'thing', 'material', 'information', 'source', 'work', 'song', 'poetry', 'detail', 'poem']</td>\n",
       "      <td>1</td>\n",
       "      <td>0</td>\n",
       "    </tr>\n",
       "    <tr>\n",
       "      <th>39</th>\n",
       "      <td>baby</td>\n",
       "      <td>['mammal']</td>\n",
       "      <td>NN_99</td>\n",
       "      <td>NN_99</td>\n",
       "      <td>['child', 'animal', 'person', 'human', 'mammal', 'monster', 'toy', 'bird', 'thing', 'infant']</td>\n",
       "      <td>['child', 'thing', 'animal', 'people', 'yes', 'pet', 'woman', 'kid', 'object', 'yeah']</td>\n",
       "      <td>1</td>\n",
       "      <td>0</td>\n",
       "    </tr>\n",
       "    <tr>\n",
       "      <th>569</th>\n",
       "      <td>marriage</td>\n",
       "      <td>['family']</td>\n",
       "      <td>NN_99</td>\n",
       "      <td>NN_99</td>\n",
       "      <td>['relationship', 'union', 'divorce', 'contract', 'partnership', 'family', 'commitment', 'ritual', 'separation', 'covenant']</td>\n",
       "      <td>['relationship', 'thing', 'event', 'affair', 'death', 'child', 'responsibility', 'matter', 'arrangement', 'individual']</td>\n",
       "      <td>1</td>\n",
       "      <td>0</td>\n",
       "    </tr>\n",
       "    <tr>\n",
       "      <th>290</th>\n",
       "      <td>doctor</td>\n",
       "      <td>['person']</td>\n",
       "      <td>NN_99</td>\n",
       "      <td>NN_100</td>\n",
       "      <td>['physician', 'scientist', 'man', 'healer', 'surgeon', 'person', 'nurse', 'lawyer', 'professional', 'patient']</td>\n",
       "      <td>['professional', 'people', 'physician', 'staff', 'scientist', 'specialist', 'nurse', 'teacher', 'man', 'official']</td>\n",
       "      <td>1</td>\n",
       "      <td>0</td>\n",
       "    </tr>\n",
       "    <tr>\n",
       "      <th>168</th>\n",
       "      <td>china</td>\n",
       "      <td>['country']</td>\n",
       "      <td>NN_100</td>\n",
       "      <td>NN_99</td>\n",
       "      <td>['country', 'building', 'house', 'table', 'pottery', 'nation', 'ship', 'furniture', 'vessel', 'chinese']</td>\n",
       "      <td>['thing', 'asia', 'item', 'story', 'object', 'book', 'writings', 'place', 'material', 'good']</td>\n",
       "      <td>1</td>\n",
       "      <td>0</td>\n",
       "    </tr>\n",
       "    <tr>\n",
       "      <th>75</th>\n",
       "      <td>beauty</td>\n",
       "      <td>['person']</td>\n",
       "      <td>NN_99</td>\n",
       "      <td>NN_100</td>\n",
       "      <td>['perfection', 'person', 'art', 'woman', 'object', 'lie', 'thing', 'gift', 'magic', 'talent']</td>\n",
       "      <td>['woman', 'lady', 'people', 'girl', 'thing', 'character', 'celebrity', 'female', 'creature', 'figure']</td>\n",
       "      <td>1</td>\n",
       "      <td>0</td>\n",
       "    </tr>\n",
       "    <tr>\n",
       "      <th>261</th>\n",
       "      <td>death</td>\n",
       "      <td>['illness']</td>\n",
       "      <td>NN_100</td>\n",
       "      <td>NN_100</td>\n",
       "      <td>['life', 'accident', 'tragedy', 'event', 'miracle', 'suicide', 'loss', 'injury', 'mistake', 'illness']</td>\n",
       "      <td>['thing', 'injury', 'cause', 'event', 'yes', 'marriage', 'birth', 'accident', 'disability', 'wound']</td>\n",
       "      <td>1</td>\n",
       "      <td>0</td>\n",
       "    </tr>\n",
       "    <tr>\n",
       "      <th>767</th>\n",
       "      <td>sheet</td>\n",
       "      <td>['paper']</td>\n",
       "      <td>NN_99</td>\n",
       "      <td>NN_99</td>\n",
       "      <td>['paper', 'fabric', 'book', 'material', 'document', 'page', 'object', 'cloth', 'structure', 'film']</td>\n",
       "      <td>['thing', 'item', 'clothing', 'material', 'furniture', 'object', 'article', 'accessory', 'furnishings', 'clothes']</td>\n",
       "      <td>1</td>\n",
       "      <td>0</td>\n",
       "    </tr>\n",
       "    <tr>\n",
       "      <th>16</th>\n",
       "      <td>angel</td>\n",
       "      <td>['person']</td>\n",
       "      <td>NN_100</td>\n",
       "      <td>NN_100</td>\n",
       "      <td>['human', 'demon', 'person', 'god', 'bird', 'man', 'devil', 'creature', 'deity', 'monster']</td>\n",
       "      <td>['demon', 'creature', 'thing', 'being', 'people', 'human', 'animal', 'yes', 'god', 'spirit']</td>\n",
       "      <td>1</td>\n",
       "      <td>0</td>\n",
       "    </tr>\n",
       "    <tr>\n",
       "      <th>165</th>\n",
       "      <td>chicken</td>\n",
       "      <td>['food']</td>\n",
       "      <td>NN_99</td>\n",
       "      <td>NN_99</td>\n",
       "      <td>['bird', 'animal', 'pig', 'meat', 'fish', 'rooster', 'dog', 'poultry', 'food', 'mammal']</td>\n",
       "      <td>['animal', 'livestock', 'poultry', 'bird', 'pet', 'pig', 'thing', 'mammal', 'rodent', 'meat']</td>\n",
       "      <td>1</td>\n",
       "      <td>0</td>\n",
       "    </tr>\n",
       "  </tbody>\n",
       "</table>\n",
       "</div>"
      ],
      "text/plain": [
       "    sub_label_sg          obj_label sub_POS_count_broad obj_POS_count_broad  \\\n",
       "175       choice         ['action']               NN_99               NN_99   \n",
       "335     farmland        ['country']              NN_100               NN_99   \n",
       "934         wine        ['alcohol']               NN_99              NN_100   \n",
       "587         monk         ['person']               NN_99              NN_100   \n",
       "853   television             ['tv']              NN_100              NN_100   \n",
       "682       priest         ['person']               NN_99              NN_100   \n",
       "139      capital           ['city']               NN_99               NN_99   \n",
       "819       statue          ['image']               NN_99               NN_99   \n",
       "620        organ     ['instrument']              NN_100               NN_99   \n",
       "670   politician         ['leader']               NN_99              NN_100   \n",
       "315        enemy         ['person']               NN_99              NN_100   \n",
       "642       person       ['organism']              NN_100              NN_100   \n",
       "763          sex       ['pleasure']               NN_99               NN_99   \n",
       "233       coward         ['person']              NN_100              NN_100   \n",
       "787          son         ['person']              NN_100              NN_100   \n",
       "892       turkey           ['food']              NN_100               NN_99   \n",
       "616    offspring         ['person']               NN_99              NN_100   \n",
       "386         game     ['recreation']               NN_99              NN_100   \n",
       "801       spirit         ['person']              NN_100              NN_100   \n",
       "625         pain        ['illness']               NN_99              NN_100   \n",
       "108         boss         ['person']               NN_99              NN_100   \n",
       "517     language  ['communication']               NN_99              NN_100   \n",
       "377       friend         ['person']               NN_99              NN_100   \n",
       "459      husband         ['family']               NN_99               NN_99   \n",
       "40          baby         ['person']               NN_99              NN_100   \n",
       "665       player         ['person']               NN_99              NN_100   \n",
       "366     football           ['ball']               NN_99               NN_99   \n",
       "907     violence         ['action']              NN_100               NN_99   \n",
       "547        lover         ['person']              NN_100              NN_100   \n",
       "383         game    ['competition']               NN_99               NN_99   \n",
       "442         hero         ['person']              NN_100              NN_100   \n",
       "60        basket      ['container']              NN_100              NN_100   \n",
       "783      soldier         ['person']               NN_99              NN_100   \n",
       "337       father         ['leader']               NN_99              NN_100   \n",
       "395         geek         ['person']               NN_99              NN_100   \n",
       "919      warrior         ['person']              NN_100              NN_100   \n",
       "681       priest      ['clergyman']               NN_99              NN_100   \n",
       "409          god         ['person']               NN_99              NN_100   \n",
       "633        party            ['fun']               NN_99               NN_99   \n",
       "866       toilet           ['room']              NN_100               NN_99   \n",
       "551        lyric           ['text']               NN_99               NN_99   \n",
       "39          baby         ['mammal']               NN_99               NN_99   \n",
       "569     marriage         ['family']               NN_99               NN_99   \n",
       "290       doctor         ['person']               NN_99              NN_100   \n",
       "168        china        ['country']              NN_100               NN_99   \n",
       "75        beauty         ['person']               NN_99              NN_100   \n",
       "261        death        ['illness']              NN_100              NN_100   \n",
       "767        sheet          ['paper']               NN_99               NN_99   \n",
       "16         angel         ['person']              NN_100              NN_100   \n",
       "165      chicken           ['food']               NN_99               NN_99   \n",
       "\n",
       "                                                                                                                   obj_mask_def_sap  \\\n",
       "175                 ['decision', 'action', 'mistake', 'judgment', 'possibility', 'freedom', 'argument', 'change', 'rule', 'option']   \n",
       "335                         ['land', 'farm', 'field', 'forest', 'landscape', 'country', 'property', 'village', 'garden', 'pasture']   \n",
       "934                              ['drink', 'beverage', 'beer', 'alcohol', 'liquor', 'food', 'bottle', 'liquid', 'fruit', 'product']   \n",
       "587                           ['priest', 'man', 'warrior', 'person', 'cleric', 'buddhist', 'saint', 'hermit', 'shaman', 'musician']   \n",
       "853                              ['tv', 'computer', 'machine', 'radio', 'device', 'camera', 'thing', 'cinema', 'telephone', 'home']   \n",
       "682                          ['man', 'cleric', 'person', 'monk', 'leader', 'bishop', 'minister', 'prophet', 'clergyman', 'servant']   \n",
       "139                    ['city', 'currency', 'building', 'town', 'province', 'municipality', 'letter', 'state', 'village', 'county']   \n",
       "819                       ['sculpture', 'monument', 'object', 'symbol', 'building', 'thing', 'artwork', 'god', 'image', 'painting']   \n",
       "620           ['instrument', 'piano', 'synthesizer', 'harpsichord', 'church', 'voice', 'building', 'machine', 'keyboard', 'guitar']   \n",
       "670                 ['leader', 'person', 'lawyer', 'man', 'businessman', 'soldier', 'journalist', 'democrat', 'writer', 'official']   \n",
       "315                         ['friend', 'monster', 'threat', 'foe', 'person', 'creature', 'weapon', 'animal', 'object', 'character']   \n",
       "642                         ['thing', 'entity', 'animal', 'object', 'human', 'creature', 'substance', 'machine', 'god', 'organism']   \n",
       "763                        ['relationship', 'love', 'activity', 'pleasure', 'event', 'life', 'marriage', 'thing', 'body', 'object']   \n",
       "233                                   ['person', 'man', 'fool', 'criminal', 'human', 'liar', 'idiot', 'animal', 'soldier', 'loser']   \n",
       "787                               ['father', 'daughter', 'child', 'man', 'mother', 'brother', 'family', 'boy', 'person', 'husband']   \n",
       "892                                           ['bird', 'animal', 'chicken', 'pig', 'duck', 'meat', 'dog', 'mammal', 'fish', 'food']   \n",
       "616                            ['child', 'animal', 'parent', 'organism', 'person', 'product', 'daughter', 'human', 'son', 'hybrid']   \n",
       "386            ['entertainment', 'play', 'activity', 'sport', 'competition', 'work', 'exercise', 'action', 'contest', 'recreation']   \n",
       "801                                ['person', 'creature', 'animal', 'entity', 'demon', 'human', 'soul', 'ghost', 'thing', 'medium']   \n",
       "625                 ['pleasure', 'injury', 'disease', 'sensation', 'curse', 'emotion', 'illness', 'stress', 'torment', 'suffering']   \n",
       "108                            ['leader', 'man', 'character', 'robot', 'person', 'manager', 'authority', 'player', 'game', 'power']   \n",
       "517          ['communication', 'concept', 'structure', 'writing', 'culture', 'information', 'system', 'machine', 'code', 'process']   \n",
       "377             ['person', 'relationship', 'friendship', 'family', 'stranger', 'human', 'brother', 'companion', 'relation', 'ally']   \n",
       "459                               ['man', 'wife', 'father', 'woman', 'male', 'person', 'household', 'family', 'animal', 'marriage']   \n",
       "40                                    ['child', 'animal', 'person', 'human', 'mammal', 'monster', 'toy', 'bird', 'thing', 'infant']   \n",
       "665                            ['person', 'actor', 'team', 'game', 'animal', 'human', 'computer', 'machine', 'entity', 'character']   \n",
       "366                              ['soccer', 'ball', 'game', 'sport', 'stadium', 'club', 'goal', 'basketball', 'player', 'baseball']   \n",
       "907                         ['crime', 'conflict', 'action', 'threat', 'killing', 'war', 'disorder', 'attack', 'weapon', 'reaction']   \n",
       "547                               ['friend', 'person', 'man', 'relationship', 'animal', 'woman', 'human', 'god', 'vampire', 'love']   \n",
       "383            ['entertainment', 'play', 'activity', 'sport', 'competition', 'work', 'exercise', 'action', 'contest', 'recreation']   \n",
       "442                      ['person', 'character', 'warrior', 'superhero', 'man', 'leader', 'celebrity', 'god', 'villain', 'soldier']   \n",
       "60                          ['container', 'bag', 'object', 'vessel', 'box', 'furniture', 'thing', 'clothing', 'cloth', 'implement']   \n",
       "783                                ['man', 'warrior', 'person', 'animal', 'robot', 'human', 'fighter', 'horse', 'hero', 'military']   \n",
       "337                                   ['man', 'son', 'mother', 'husband', 'person', 'god', 'brother', 'leader', 'parent', 'family']   \n",
       "395                ['person', 'genius', 'superhero', 'human', 'musician', 'character', 'student', 'freak', 'computer', 'celebrity']   \n",
       "919                             ['soldier', 'man', 'fighter', 'person', 'leader', 'hunter', 'animal', 'human', 'hero', 'superhero']   \n",
       "681                          ['man', 'cleric', 'person', 'monk', 'leader', 'bishop', 'minister', 'prophet', 'clergyman', 'servant']   \n",
       "409                               ['deity', 'man', 'person', 'human', 'goddess', 'creature', 'divinity', 'king', 'demon', 'entity']   \n",
       "633  ['celebration', 'event', 'entertainment', 'organization', 'gathering', 'ritual', 'festival', 'fun', 'meeting', 'organisation']   \n",
       "866                  ['bathroom', 'building', 'sink', 'room', 'restroom', 'structure', 'dwelling', 'drain', 'container', 'shelter']   \n",
       "551                          ['poem', 'poetry', 'song', 'statement', 'verse', 'sentence', 'writing', 'metaphor', 'text', 'message']   \n",
       "39                                    ['child', 'animal', 'person', 'human', 'mammal', 'monster', 'toy', 'bird', 'thing', 'infant']   \n",
       "569     ['relationship', 'union', 'divorce', 'contract', 'partnership', 'family', 'commitment', 'ritual', 'separation', 'covenant']   \n",
       "290                  ['physician', 'scientist', 'man', 'healer', 'surgeon', 'person', 'nurse', 'lawyer', 'professional', 'patient']   \n",
       "168                        ['country', 'building', 'house', 'table', 'pottery', 'nation', 'ship', 'furniture', 'vessel', 'chinese']   \n",
       "75                                    ['perfection', 'person', 'art', 'woman', 'object', 'lie', 'thing', 'gift', 'magic', 'talent']   \n",
       "261                          ['life', 'accident', 'tragedy', 'event', 'miracle', 'suicide', 'loss', 'injury', 'mistake', 'illness']   \n",
       "767                             ['paper', 'fabric', 'book', 'material', 'document', 'page', 'object', 'cloth', 'structure', 'film']   \n",
       "16                                      ['human', 'demon', 'person', 'god', 'bird', 'man', 'devil', 'creature', 'deity', 'monster']   \n",
       "165                                        ['bird', 'animal', 'pig', 'meat', 'fish', 'rooster', 'dog', 'poultry', 'food', 'mammal']   \n",
       "\n",
       "                                                                                                                obj_mask_lsp_sap  \\\n",
       "175                 ['thing', 'option', 'yes', 'concept', 'possibility', 'issue', 'decision', 'consideration', 'factor', 'idea']   \n",
       "335                     ['land', 'area', 'agriculture', 'countryside', 'place', 'field', 'habitat', 'thing', 'landscape', 'use']   \n",
       "934                           ['product', 'food', 'beverage', 'thing', 'drink', 'good', 'dish', 'spirit', 'fruit', 'ingredient']   \n",
       "587                       ['people', 'clergy', 'religious', 'priest', 'christian', 'nun', 'man', 'foreigner', 'writer', 'woman']   \n",
       "853    ['electronics', 'medium', 'device', 'equipment', 'thing', 'computer', 'technology', 'appliance', 'item', 'communication']   \n",
       "682                        ['people', 'clergy', 'thing', 'official', 'man', 'monk', 'religious', 'woman', 'individual', 'elder']   \n",
       "139                            ['letter', 'symbol', 'shape', 'thing', 'character', 'word', 'form', 'feature', 'type', 'element']   \n",
       "819                    ['object', 'thing', 'monument', 'sculpture', 'structure', 'building', 'art', 'item', 'work', 'furniture']   \n",
       "620                            ['structure', 'thing', 'part', 'tissue', 'body', 'object', 'material', 'animal', 'item', 'fluid']   \n",
       "670     ['people', 'celebrity', 'professional', 'individual', 'official', 'person', 'figure', 'dignitary', 'businessman', 'man']   \n",
       "315                          ['people', 'thing', 'friend', 'animal', 'ally', 'creature', 'human', 'relative', 'yes', 'stranger']   \n",
       "642                        ['thing', 'entity', 'object', 'property', 'group', 'animal', 'people', 'good', 'human', 'individual']   \n",
       "763  ['detail', 'thing', 'character', 'relationship', 'species', 'information', 'ecology', 'aspect', 'characteristic', 'animal']   \n",
       "233                           ['man', 'people', 'enemy', 'criminal', 'hero', 'villain', 'fool', 'murderer', 'soldier', 'outlaw']   \n",
       "787                               ['child', 'people', 'daughter', 'story', 'poem', 'thing', 'sibling', 'man', 'marry', 'family']   \n",
       "892                              ['bird', 'animal', 'poultry', 'livestock', 'mammal', 'meat', 'thing', 'pet', 'game', 'chicken']   \n",
       "616              ['child', 'animal', 'thing', 'individual', 'relative', 'sibling', 'organism', 'case', 'baby', 'characteristic']   \n",
       "386              ['medium', 'entertainment', 'thing', 'activity', 'sport', 'material', 'toy', 'product', 'event', 'publication']   \n",
       "801                                 ['thing', 'demon', 'creature', 'being', 'entity', 'ghost', 'animal', 'people', 'yes', 'god']   \n",
       "625                    ['thing', 'symptom', 'sensation', 'injury', 'yes', 'wound', 'feeling', 'hurt', 'complication', 'problem']   \n",
       "108                   ['people', 'thing', 'man', 'figure', 'everybody', 'official', 'leader', 'character', 'relative', 'friend']   \n",
       "517                        ['culture', 'thing', 'people', 'subject', 'topic', 'literature', 'art', 'area', 'medium', 'religion']   \n",
       "377      ['relative', 'thing', 'people', 'acquaintance', 'family', 'stranger', 'everybody', 'relationship', 'neighbor', 'group']   \n",
       "459                         ['child', 'thing', 'man', 'woman', 'people', 'wife', 'couple', 'relative', 'relationship', 'person']   \n",
       "40                                        ['child', 'thing', 'animal', 'people', 'yes', 'pet', 'woman', 'kid', 'object', 'yeah']   \n",
       "665                   ['people', 'athlete', 'sport', 'thing', 'staff', 'medium', 'organization', 'official', 'team', 'employee']   \n",
       "366                                 ['thing', 'object', 'sport', 'toy', 'soccer', 'item', 'equipment', 'game', 'weapon', 'tool']   \n",
       "907                            ['thing', 'crime', 'issue', 'act', 'threat', 'disorder', 'cause', 'war', 'incident', 'terrorism']   \n",
       "547                        ['people', 'friend', 'woman', 'thing', 'man', 'relationship', 'stranger', 'couple', 'partner', 'yes']   \n",
       "383              ['medium', 'entertainment', 'thing', 'activity', 'sport', 'material', 'toy', 'product', 'event', 'publication']   \n",
       "442                          ['people', 'character', 'villain', 'story', 'man', 'animal', 'monster', 'creature', 'thing', 'god']   \n",
       "60                       ['item', 'object', 'thing', 'craft', 'tool', 'pottery', 'textile', 'material', 'clothing', 'furniture']   \n",
       "783                        ['people', 'civilian', 'man', 'personnel', 'thing', 'officer', 'animal', 'yes', 'official', 'worker']   \n",
       "337                               ['man', 'relative', 'people', 'mother', 'son', 'uncle', 'child', 'parent', 'thing', 'brother']   \n",
       "395                          ['people', 'student', 'kid', 'freak', 'outsider', 'minority', 'yes', 'celebrity', 'idiot', 'group']   \n",
       "919                                 ['man', 'people', 'thing', 'animal', 'creature', 'human', 'hero', 'woman', 'yes', 'soldier']   \n",
       "681                        ['people', 'clergy', 'thing', 'official', 'man', 'monk', 'religious', 'woman', 'individual', 'elder']   \n",
       "409                              ['being', 'creature', 'thing', 'people', 'demon', 'spirit', 'deity', 'man', 'monster', 'human']   \n",
       "633               ['event', 'group', 'thing', 'activity', 'organization', 'organisation', 'meeting', 'people', 'person', 'club']   \n",
       "866       ['facility', 'place', 'bathroom', 'building', 'structure', 'area', 'thing', 'amenity', 'sanitation', 'infrastructure']   \n",
       "551                          ['music', 'thing', 'material', 'information', 'source', 'work', 'song', 'poetry', 'detail', 'poem']   \n",
       "39                                        ['child', 'thing', 'animal', 'people', 'yes', 'pet', 'woman', 'kid', 'object', 'yeah']   \n",
       "569      ['relationship', 'thing', 'event', 'affair', 'death', 'child', 'responsibility', 'matter', 'arrangement', 'individual']   \n",
       "290           ['professional', 'people', 'physician', 'staff', 'scientist', 'specialist', 'nurse', 'teacher', 'man', 'official']   \n",
       "168                                ['thing', 'asia', 'item', 'story', 'object', 'book', 'writings', 'place', 'material', 'good']   \n",
       "75                        ['woman', 'lady', 'people', 'girl', 'thing', 'character', 'celebrity', 'female', 'creature', 'figure']   \n",
       "261                         ['thing', 'injury', 'cause', 'event', 'yes', 'marriage', 'birth', 'accident', 'disability', 'wound']   \n",
       "767           ['thing', 'item', 'clothing', 'material', 'furniture', 'object', 'article', 'accessory', 'furnishings', 'clothes']   \n",
       "16                                  ['demon', 'creature', 'thing', 'being', 'people', 'human', 'animal', 'yes', 'god', 'spirit']   \n",
       "165                                ['animal', 'livestock', 'poultry', 'bird', 'pet', 'pig', 'thing', 'mammal', 'rodent', 'meat']   \n",
       "\n",
       "     p10_def_sap  p10_lsp_sap  \n",
       "175            1            0  \n",
       "335            1            0  \n",
       "934            1            0  \n",
       "587            1            0  \n",
       "853            1            0  \n",
       "682            1            0  \n",
       "139            1            0  \n",
       "819            1            0  \n",
       "620            1            0  \n",
       "670            1            0  \n",
       "315            1            0  \n",
       "642            1            0  \n",
       "763            1            0  \n",
       "233            1            0  \n",
       "787            1            0  \n",
       "892            1            0  \n",
       "616            1            0  \n",
       "386            1            0  \n",
       "801            1            0  \n",
       "625            1            0  \n",
       "108            1            0  \n",
       "517            1            0  \n",
       "377            1            0  \n",
       "459            1            0  \n",
       "40             1            0  \n",
       "665            1            0  \n",
       "366            1            0  \n",
       "907            1            0  \n",
       "547            1            0  \n",
       "383            1            0  \n",
       "442            1            0  \n",
       "60             1            0  \n",
       "783            1            0  \n",
       "337            1            0  \n",
       "395            1            0  \n",
       "919            1            0  \n",
       "681            1            0  \n",
       "409            1            0  \n",
       "633            1            0  \n",
       "866            1            0  \n",
       "551            1            0  \n",
       "39             1            0  \n",
       "569            1            0  \n",
       "290            1            0  \n",
       "168            1            0  \n",
       "75             1            0  \n",
       "261            1            0  \n",
       "767            1            0  \n",
       "16             1            0  \n",
       "165            1            0  "
      ]
     },
     "execution_count": 20,
     "metadata": {},
     "output_type": "execute_result"
    }
   ],
   "source": [
    "display( df[['sub_pos_num', 'obj_pos_num']].value_counts(normalize=False) ) \n",
    "dfx = df.query(\"sub_pos_num==1 and obj_pos_num==1\")\n",
    "\n",
    "from significance_test import significance_test_single_dataset\n",
    "metric_pairs = [ ['p10_def_sap', 'p10_lsp_sap'], ['p10_def_sap', 'p10_def_dap'], ['p10_lsp_sap', 'p10_lsp_dap']]\n",
    "ttest = significance_test_single_dataset(dfx, dataset='EVAL-NOUNNOUN', metrics=metric_pairs, min_pvalue =0.05, display_res=False)\n",
    "print(ttest)\n",
    "\n",
    "print(len(dfx.index))\n",
    "metrics = [ 'p10_def_sap', 'p10_def_dap', 'p10_lsp_sap', 'p10_lsp_dap']\n",
    "display(dfx[metrics].mean().to_frame().T)\n",
    "display(df[metrics].mean().to_frame().T)\n",
    "dfx[['sub_label_sg', 'obj_label', 'sub_POS_count_broad','obj_POS_count_broad', 'obj_mask_def_sap', 'obj_mask_lsp_sap', 'p10_def_sap', 'p10_lsp_sap']].query(\"p10_def_sap==1 and p10_lsp_sap==0\").sample(50)\n",
    "# .sample(20)"
   ]
  },
  {
   "cell_type": "code",
   "execution_count": 23,
   "metadata": {},
   "outputs": [
    {
     "name": "stdout",
     "output_type": "stream",
     "text": [
      "people\n",
      "persons\n"
     ]
    }
   ],
   "source": [
    "from inflection import singularize, pluralize\n",
    "print(singularize('people'))\n",
    "print(pluralize('person'))"
   ]
  },
  {
   "cell_type": "code",
   "execution_count": 8,
   "metadata": {},
   "outputs": [
    {
     "name": "stdout",
     "output_type": "stream",
     "text": [
      "[('NN', 288)]\n",
      "[('NN', 288)]\n"
     ]
    },
    {
     "name": "stderr",
     "output_type": "stream",
     "text": [
      "<ipython-input-8-a63d9ce23edc>:1: SettingWithCopyWarning: \n",
      "A value is trying to be set on a copy of a slice from a DataFrame.\n",
      "Try using .loc[row_indexer,col_indexer] = value instead\n",
      "\n",
      "See the caveats in the documentation: https://pandas.pydata.org/pandas-docs/stable/user_guide/indexing.html#returning-a-view-versus-a-copy\n",
      "  dfx['sub_pos'] = dfx['sub_POS_count_broad'].apply(lambda x: x.split(\"_\")[0])\n",
      "<ipython-input-8-a63d9ce23edc>:2: SettingWithCopyWarning: \n",
      "A value is trying to be set on a copy of a slice from a DataFrame.\n",
      "Try using .loc[row_indexer,col_indexer] = value instead\n",
      "\n",
      "See the caveats in the documentation: https://pandas.pydata.org/pandas-docs/stable/user_guide/indexing.html#returning-a-view-versus-a-copy\n",
      "  dfx['obj_pos'] = dfx['obj_POS_count_broad'].apply(lambda x: x.split(\"_\")[0])\n"
     ]
    }
   ],
   "source": [
    "dfx['sub_pos'] = dfx['sub_POS_count_broad'].apply(lambda x: x.split(\"_\")[0])\n",
    "dfx['obj_pos'] = dfx['obj_POS_count_broad'].apply(lambda x: x.split(\"_\")[0])\n",
    "\n",
    "print(Counter(dfx['sub_pos']).most_common())\n",
    "print(Counter(dfx['obj_pos']).most_common())"
   ]
  },
  {
   "cell_type": "code",
   "execution_count": 9,
   "metadata": {},
   "outputs": [
    {
     "data": {
      "text/html": [
       "<div>\n",
       "<style scoped>\n",
       "    .dataframe tbody tr th:only-of-type {\n",
       "        vertical-align: middle;\n",
       "    }\n",
       "\n",
       "    .dataframe tbody tr th {\n",
       "        vertical-align: top;\n",
       "    }\n",
       "\n",
       "    .dataframe thead th {\n",
       "        text-align: right;\n",
       "    }\n",
       "</style>\n",
       "<table border=\"1\" class=\"dataframe\">\n",
       "  <thead>\n",
       "    <tr style=\"text-align: right;\">\n",
       "      <th></th>\n",
       "      <th>sub_label_sg</th>\n",
       "      <th>obj_label</th>\n",
       "      <th>sub_POS_count_broad</th>\n",
       "      <th>obj_POS_count_broad</th>\n",
       "      <th>sub_pos_num_gap</th>\n",
       "      <th>obj_pos_num_gap</th>\n",
       "    </tr>\n",
       "  </thead>\n",
       "  <tbody>\n",
       "    <tr>\n",
       "      <th>544</th>\n",
       "      <td>love</td>\n",
       "      <td>['care']</td>\n",
       "      <td>NN_50/VV_49</td>\n",
       "      <td>NN_82/VV_17</td>\n",
       "      <td>1</td>\n",
       "      <td>65</td>\n",
       "    </tr>\n",
       "    <tr>\n",
       "      <th>841</th>\n",
       "      <td>surprise</td>\n",
       "      <td>['change']</td>\n",
       "      <td>NN_55/VV_44</td>\n",
       "      <td>NN_53/VV_46</td>\n",
       "      <td>11</td>\n",
       "      <td>7</td>\n",
       "    </tr>\n",
       "    <tr>\n",
       "      <th>113</th>\n",
       "      <td>bowl</td>\n",
       "      <td>['sport']</td>\n",
       "      <td>NN_58/VV_41</td>\n",
       "      <td>NN_92/VV_7</td>\n",
       "      <td>17</td>\n",
       "      <td>85</td>\n",
       "    </tr>\n",
       "    <tr>\n",
       "      <th>234</th>\n",
       "      <td>crash</td>\n",
       "      <td>['change']</td>\n",
       "      <td>NN_60/VV_39</td>\n",
       "      <td>NN_53/VV_46</td>\n",
       "      <td>21</td>\n",
       "      <td>7</td>\n",
       "    </tr>\n",
       "    <tr>\n",
       "      <th>714</th>\n",
       "      <td>report</td>\n",
       "      <td>['document']</td>\n",
       "      <td>NN_62/VV_37</td>\n",
       "      <td>NN_89/VV_10</td>\n",
       "      <td>25</td>\n",
       "      <td>79</td>\n",
       "    </tr>\n",
       "    <tr>\n",
       "      <th>522</th>\n",
       "      <td>lease</td>\n",
       "      <td>['contract']</td>\n",
       "      <td>NN_64/VV_35</td>\n",
       "      <td>NN_90/VV_9</td>\n",
       "      <td>29</td>\n",
       "      <td>81</td>\n",
       "    </tr>\n",
       "    <tr>\n",
       "      <th>438</th>\n",
       "      <td>hem</td>\n",
       "      <td>['edge']</td>\n",
       "      <td>NN_67/VV_32</td>\n",
       "      <td>NN_93/VV_6</td>\n",
       "      <td>35</td>\n",
       "      <td>87</td>\n",
       "    </tr>\n",
       "    <tr>\n",
       "      <th>814</th>\n",
       "      <td>star</td>\n",
       "      <td>['shape']</td>\n",
       "      <td>NN_67/VV_31</td>\n",
       "      <td>NN_66/VV_33</td>\n",
       "      <td>36</td>\n",
       "      <td>33</td>\n",
       "    </tr>\n",
       "    <tr>\n",
       "      <th>320</th>\n",
       "      <td>exercise</td>\n",
       "      <td>['train']</td>\n",
       "      <td>NN_68/VV_31</td>\n",
       "      <td>NN_59/VV_40</td>\n",
       "      <td>37</td>\n",
       "      <td>19</td>\n",
       "    </tr>\n",
       "    <tr>\n",
       "      <th>211</th>\n",
       "      <td>control</td>\n",
       "      <td>['test']</td>\n",
       "      <td>NN_70/VV_29</td>\n",
       "      <td>NN_70/VV_29</td>\n",
       "      <td>41</td>\n",
       "      <td>41</td>\n",
       "    </tr>\n",
       "    <tr>\n",
       "      <th>241</th>\n",
       "      <td>crown</td>\n",
       "      <td>['coin']</td>\n",
       "      <td>NN_70/VV_29</td>\n",
       "      <td>NN_79/VV_20</td>\n",
       "      <td>41</td>\n",
       "      <td>59</td>\n",
       "    </tr>\n",
       "    <tr>\n",
       "      <th>86</th>\n",
       "      <td>bias</td>\n",
       "      <td>['prejudice']</td>\n",
       "      <td>NN_72/VV_27</td>\n",
       "      <td>NN_87/VV_12</td>\n",
       "      <td>45</td>\n",
       "      <td>75</td>\n",
       "    </tr>\n",
       "    <tr>\n",
       "      <th>41</th>\n",
       "      <td>balance</td>\n",
       "      <td>['match']</td>\n",
       "      <td>NN_77/VV_22</td>\n",
       "      <td>NN_61/VV_38</td>\n",
       "      <td>55</td>\n",
       "      <td>23</td>\n",
       "    </tr>\n",
       "    <tr>\n",
       "      <th>251</th>\n",
       "      <td>dance</td>\n",
       "      <td>['sport']</td>\n",
       "      <td>NN_78/VV_21</td>\n",
       "      <td>NN_92/VV_7</td>\n",
       "      <td>57</td>\n",
       "      <td>85</td>\n",
       "    </tr>\n",
       "    <tr>\n",
       "      <th>832</th>\n",
       "      <td>submarine</td>\n",
       "      <td>['boat']</td>\n",
       "      <td>NN_79/JJ_20</td>\n",
       "      <td>NN_95/VV_4</td>\n",
       "      <td>59</td>\n",
       "      <td>91</td>\n",
       "    </tr>\n",
       "    <tr>\n",
       "      <th>810</th>\n",
       "      <td>squash</td>\n",
       "      <td>['sport']</td>\n",
       "      <td>NN_80/VV_19</td>\n",
       "      <td>NN_92/VV_7</td>\n",
       "      <td>61</td>\n",
       "      <td>85</td>\n",
       "    </tr>\n",
       "    <tr>\n",
       "      <th>11</th>\n",
       "      <td>air</td>\n",
       "      <td>['gas']</td>\n",
       "      <td>NN_81/VV_18</td>\n",
       "      <td>NN_98/VV_1</td>\n",
       "      <td>63</td>\n",
       "      <td>97</td>\n",
       "    </tr>\n",
       "    <tr>\n",
       "      <th>652</th>\n",
       "      <td>pit</td>\n",
       "      <td>['hole']</td>\n",
       "      <td>NN_83/VV_16</td>\n",
       "      <td>NN_97/VV_2</td>\n",
       "      <td>67</td>\n",
       "      <td>95</td>\n",
       "    </tr>\n",
       "    <tr>\n",
       "      <th>736</th>\n",
       "      <td>root</td>\n",
       "      <td>['number']</td>\n",
       "      <td>NN_85/VV_14</td>\n",
       "      <td>NN_97/VV_2</td>\n",
       "      <td>71</td>\n",
       "      <td>95</td>\n",
       "    </tr>\n",
       "    <tr>\n",
       "      <th>700</th>\n",
       "      <td>rain</td>\n",
       "      <td>['water']</td>\n",
       "      <td>NN_85/VV_14</td>\n",
       "      <td>NN_98/VV_1</td>\n",
       "      <td>71</td>\n",
       "      <td>97</td>\n",
       "    </tr>\n",
       "    <tr>\n",
       "      <th>564</th>\n",
       "      <td>map</td>\n",
       "      <td>['plan']</td>\n",
       "      <td>NN_87/VV_12</td>\n",
       "      <td>NN_60/VV_39</td>\n",
       "      <td>75</td>\n",
       "      <td>21</td>\n",
       "    </tr>\n",
       "    <tr>\n",
       "      <th>423</th>\n",
       "      <td>hand</td>\n",
       "      <td>['aid']</td>\n",
       "      <td>NN_87/VV_11</td>\n",
       "      <td>NN_70/VV_29</td>\n",
       "      <td>76</td>\n",
       "      <td>41</td>\n",
       "    </tr>\n",
       "    <tr>\n",
       "      <th>831</th>\n",
       "      <td>stuff</td>\n",
       "      <td>['object']</td>\n",
       "      <td>NN_88/VV_11</td>\n",
       "      <td>NN_90/VV_8</td>\n",
       "      <td>77</td>\n",
       "      <td>82</td>\n",
       "    </tr>\n",
       "    <tr>\n",
       "      <th>827</th>\n",
       "      <td>storm</td>\n",
       "      <td>['weather']</td>\n",
       "      <td>NN_88/VV_11</td>\n",
       "      <td>NN_95/VV_4</td>\n",
       "      <td>77</td>\n",
       "      <td>91</td>\n",
       "    </tr>\n",
       "    <tr>\n",
       "      <th>303</th>\n",
       "      <td>duck</td>\n",
       "      <td>['score']</td>\n",
       "      <td>NN_89/VV_10</td>\n",
       "      <td>NN_50/VV_49</td>\n",
       "      <td>79</td>\n",
       "      <td>1</td>\n",
       "    </tr>\n",
       "    <tr>\n",
       "      <th>240</th>\n",
       "      <td>crop</td>\n",
       "      <td>['plant']</td>\n",
       "      <td>NN_91/VV_8</td>\n",
       "      <td>NN_86/VV_13</td>\n",
       "      <td>83</td>\n",
       "      <td>73</td>\n",
       "    </tr>\n",
       "    <tr>\n",
       "      <th>859</th>\n",
       "      <td>thumb</td>\n",
       "      <td>['finger']</td>\n",
       "      <td>NN_91/VV_8</td>\n",
       "      <td>NN_96/VV_3</td>\n",
       "      <td>83</td>\n",
       "      <td>93</td>\n",
       "    </tr>\n",
       "    <tr>\n",
       "      <th>507</th>\n",
       "      <td>knob</td>\n",
       "      <td>['control']</td>\n",
       "      <td>NN_93/VV_6</td>\n",
       "      <td>NN_70/VV_29</td>\n",
       "      <td>87</td>\n",
       "      <td>41</td>\n",
       "    </tr>\n",
       "    <tr>\n",
       "      <th>769</th>\n",
       "      <td>shop</td>\n",
       "      <td>['place']</td>\n",
       "      <td>NN_93/VV_6</td>\n",
       "      <td>NN_76/VV_23</td>\n",
       "      <td>87</td>\n",
       "      <td>53</td>\n",
       "    </tr>\n",
       "    <tr>\n",
       "      <th>567</th>\n",
       "      <td>market</td>\n",
       "      <td>['place']</td>\n",
       "      <td>NN_93/VV_6</td>\n",
       "      <td>NN_76/VV_23</td>\n",
       "      <td>87</td>\n",
       "      <td>53</td>\n",
       "    </tr>\n",
       "    <tr>\n",
       "      <th>170</th>\n",
       "      <td>chip</td>\n",
       "      <td>['approach']</td>\n",
       "      <td>NN_93/VV_6</td>\n",
       "      <td>NN_77/VV_22</td>\n",
       "      <td>87</td>\n",
       "      <td>55</td>\n",
       "    </tr>\n",
       "    <tr>\n",
       "      <th>48</th>\n",
       "      <td>balloon</td>\n",
       "      <td>['sport']</td>\n",
       "      <td>NN_93/VV_6</td>\n",
       "      <td>NN_92/VV_7</td>\n",
       "      <td>87</td>\n",
       "      <td>85</td>\n",
       "    </tr>\n",
       "    <tr>\n",
       "      <th>568</th>\n",
       "      <td>market</td>\n",
       "      <td>['shop']</td>\n",
       "      <td>NN_93/VV_6</td>\n",
       "      <td>NN_93/VV_6</td>\n",
       "      <td>87</td>\n",
       "      <td>87</td>\n",
       "    </tr>\n",
       "    <tr>\n",
       "      <th>195</th>\n",
       "      <td>comfort</td>\n",
       "      <td>['condition']</td>\n",
       "      <td>NN_94/VV_5</td>\n",
       "      <td>NN_98/VV_1</td>\n",
       "      <td>89</td>\n",
       "      <td>97</td>\n",
       "    </tr>\n",
       "    <tr>\n",
       "      <th>672</th>\n",
       "      <td>pool</td>\n",
       "      <td>['group']</td>\n",
       "      <td>NN_95/VV_4</td>\n",
       "      <td>NN_98/VV_1</td>\n",
       "      <td>91</td>\n",
       "      <td>97</td>\n",
       "    </tr>\n",
       "    <tr>\n",
       "      <th>346</th>\n",
       "      <td>finger</td>\n",
       "      <td>['touch']</td>\n",
       "      <td>NN_96/VV_3</td>\n",
       "      <td>NN_63/VV_35</td>\n",
       "      <td>93</td>\n",
       "      <td>28</td>\n",
       "    </tr>\n",
       "    <tr>\n",
       "      <th>451</th>\n",
       "      <td>home</td>\n",
       "      <td>['tent']</td>\n",
       "      <td>NN_96/RB_3</td>\n",
       "      <td>NN_95/VV_4</td>\n",
       "      <td>93</td>\n",
       "      <td>91</td>\n",
       "    </tr>\n",
       "    <tr>\n",
       "      <th>902</th>\n",
       "      <td>vacation</td>\n",
       "      <td>['trip']</td>\n",
       "      <td>NN_96/VV_3</td>\n",
       "      <td>NN_97/VV_2</td>\n",
       "      <td>93</td>\n",
       "      <td>95</td>\n",
       "    </tr>\n",
       "    <tr>\n",
       "      <th>181</th>\n",
       "      <td>clay</td>\n",
       "      <td>['soil']</td>\n",
       "      <td>NN_96/VV_3</td>\n",
       "      <td>NN_97/VV_2</td>\n",
       "      <td>93</td>\n",
       "      <td>95</td>\n",
       "    </tr>\n",
       "    <tr>\n",
       "      <th>205</th>\n",
       "      <td>conflict</td>\n",
       "      <td>['state']</td>\n",
       "      <td>NN_96/VV_2</td>\n",
       "      <td>NN_75/VV_24</td>\n",
       "      <td>94</td>\n",
       "      <td>51</td>\n",
       "    </tr>\n",
       "    <tr>\n",
       "      <th>883</th>\n",
       "      <td>trip</td>\n",
       "      <td>['step']</td>\n",
       "      <td>NN_97/VV_2</td>\n",
       "      <td>NN_80/VV_19</td>\n",
       "      <td>95</td>\n",
       "      <td>61</td>\n",
       "    </tr>\n",
       "    <tr>\n",
       "      <th>585</th>\n",
       "      <td>minister</td>\n",
       "      <td>['work']</td>\n",
       "      <td>NN_98/VV_1</td>\n",
       "      <td>NN_50/VV_49</td>\n",
       "      <td>97</td>\n",
       "      <td>1</td>\n",
       "    </tr>\n",
       "    <tr>\n",
       "      <th>922</th>\n",
       "      <td>water</td>\n",
       "      <td>['fluid']</td>\n",
       "      <td>NN_98/VV_1</td>\n",
       "      <td>NN_59/JJ_40</td>\n",
       "      <td>97</td>\n",
       "      <td>19</td>\n",
       "    </tr>\n",
       "    <tr>\n",
       "      <th>924</th>\n",
       "      <td>water</td>\n",
       "      <td>['place']</td>\n",
       "      <td>NN_98/VV_1</td>\n",
       "      <td>NN_76/VV_23</td>\n",
       "      <td>97</td>\n",
       "      <td>53</td>\n",
       "    </tr>\n",
       "    <tr>\n",
       "      <th>150</th>\n",
       "      <td>castle</td>\n",
       "      <td>['place']</td>\n",
       "      <td>NN_98/VV_1</td>\n",
       "      <td>NN_76/VV_23</td>\n",
       "      <td>97</td>\n",
       "      <td>53</td>\n",
       "    </tr>\n",
       "    <tr>\n",
       "      <th>264</th>\n",
       "      <td>den</td>\n",
       "      <td>['place']</td>\n",
       "      <td>NN_98/VV_1</td>\n",
       "      <td>NN_76/VV_23</td>\n",
       "      <td>97</td>\n",
       "      <td>53</td>\n",
       "    </tr>\n",
       "    <tr>\n",
       "      <th>759</th>\n",
       "      <td>service</td>\n",
       "      <td>['function']</td>\n",
       "      <td>NN_98/VV_1</td>\n",
       "      <td>NN_89/VV_10</td>\n",
       "      <td>97</td>\n",
       "      <td>79</td>\n",
       "    </tr>\n",
       "    <tr>\n",
       "      <th>231</th>\n",
       "      <td>cow</td>\n",
       "      <td>['adult']</td>\n",
       "      <td>NN_98/VV_1</td>\n",
       "      <td>NN_93/JJ_6</td>\n",
       "      <td>97</td>\n",
       "      <td>87</td>\n",
       "    </tr>\n",
       "    <tr>\n",
       "      <th>431</th>\n",
       "      <td>heart</td>\n",
       "      <td>['muscle']</td>\n",
       "      <td>NN_98/VV_1</td>\n",
       "      <td>NN_98/VV_1</td>\n",
       "      <td>97</td>\n",
       "      <td>97</td>\n",
       "    </tr>\n",
       "    <tr>\n",
       "      <th>118</th>\n",
       "      <td>boy</td>\n",
       "      <td>['man']</td>\n",
       "      <td>NN_98/UH_1</td>\n",
       "      <td>NN_98/VV_1</td>\n",
       "      <td>97</td>\n",
       "      <td>97</td>\n",
       "    </tr>\n",
       "  </tbody>\n",
       "</table>\n",
       "</div>"
      ],
      "text/plain": [
       "    sub_label_sg      obj_label sub_POS_count_broad obj_POS_count_broad  \\\n",
       "544         love       ['care']         NN_50/VV_49         NN_82/VV_17   \n",
       "841     surprise     ['change']         NN_55/VV_44         NN_53/VV_46   \n",
       "113         bowl      ['sport']         NN_58/VV_41          NN_92/VV_7   \n",
       "234        crash     ['change']         NN_60/VV_39         NN_53/VV_46   \n",
       "714       report   ['document']         NN_62/VV_37         NN_89/VV_10   \n",
       "522        lease   ['contract']         NN_64/VV_35          NN_90/VV_9   \n",
       "438          hem       ['edge']         NN_67/VV_32          NN_93/VV_6   \n",
       "814         star      ['shape']         NN_67/VV_31         NN_66/VV_33   \n",
       "320     exercise      ['train']         NN_68/VV_31         NN_59/VV_40   \n",
       "211      control       ['test']         NN_70/VV_29         NN_70/VV_29   \n",
       "241        crown       ['coin']         NN_70/VV_29         NN_79/VV_20   \n",
       "86          bias  ['prejudice']         NN_72/VV_27         NN_87/VV_12   \n",
       "41       balance      ['match']         NN_77/VV_22         NN_61/VV_38   \n",
       "251        dance      ['sport']         NN_78/VV_21          NN_92/VV_7   \n",
       "832    submarine       ['boat']         NN_79/JJ_20          NN_95/VV_4   \n",
       "810       squash      ['sport']         NN_80/VV_19          NN_92/VV_7   \n",
       "11           air        ['gas']         NN_81/VV_18          NN_98/VV_1   \n",
       "652          pit       ['hole']         NN_83/VV_16          NN_97/VV_2   \n",
       "736         root     ['number']         NN_85/VV_14          NN_97/VV_2   \n",
       "700         rain      ['water']         NN_85/VV_14          NN_98/VV_1   \n",
       "564          map       ['plan']         NN_87/VV_12         NN_60/VV_39   \n",
       "423         hand        ['aid']         NN_87/VV_11         NN_70/VV_29   \n",
       "831        stuff     ['object']         NN_88/VV_11          NN_90/VV_8   \n",
       "827        storm    ['weather']         NN_88/VV_11          NN_95/VV_4   \n",
       "303         duck      ['score']         NN_89/VV_10         NN_50/VV_49   \n",
       "240         crop      ['plant']          NN_91/VV_8         NN_86/VV_13   \n",
       "859        thumb     ['finger']          NN_91/VV_8          NN_96/VV_3   \n",
       "507         knob    ['control']          NN_93/VV_6         NN_70/VV_29   \n",
       "769         shop      ['place']          NN_93/VV_6         NN_76/VV_23   \n",
       "567       market      ['place']          NN_93/VV_6         NN_76/VV_23   \n",
       "170         chip   ['approach']          NN_93/VV_6         NN_77/VV_22   \n",
       "48       balloon      ['sport']          NN_93/VV_6          NN_92/VV_7   \n",
       "568       market       ['shop']          NN_93/VV_6          NN_93/VV_6   \n",
       "195      comfort  ['condition']          NN_94/VV_5          NN_98/VV_1   \n",
       "672         pool      ['group']          NN_95/VV_4          NN_98/VV_1   \n",
       "346       finger      ['touch']          NN_96/VV_3         NN_63/VV_35   \n",
       "451         home       ['tent']          NN_96/RB_3          NN_95/VV_4   \n",
       "902     vacation       ['trip']          NN_96/VV_3          NN_97/VV_2   \n",
       "181         clay       ['soil']          NN_96/VV_3          NN_97/VV_2   \n",
       "205     conflict      ['state']          NN_96/VV_2         NN_75/VV_24   \n",
       "883         trip       ['step']          NN_97/VV_2         NN_80/VV_19   \n",
       "585     minister       ['work']          NN_98/VV_1         NN_50/VV_49   \n",
       "922        water      ['fluid']          NN_98/VV_1         NN_59/JJ_40   \n",
       "924        water      ['place']          NN_98/VV_1         NN_76/VV_23   \n",
       "150       castle      ['place']          NN_98/VV_1         NN_76/VV_23   \n",
       "264          den      ['place']          NN_98/VV_1         NN_76/VV_23   \n",
       "759      service   ['function']          NN_98/VV_1         NN_89/VV_10   \n",
       "231          cow      ['adult']          NN_98/VV_1          NN_93/JJ_6   \n",
       "431        heart     ['muscle']          NN_98/VV_1          NN_98/VV_1   \n",
       "118          boy        ['man']          NN_98/UH_1          NN_98/VV_1   \n",
       "\n",
       "     sub_pos_num_gap  obj_pos_num_gap  \n",
       "544                1               65  \n",
       "841               11                7  \n",
       "113               17               85  \n",
       "234               21                7  \n",
       "714               25               79  \n",
       "522               29               81  \n",
       "438               35               87  \n",
       "814               36               33  \n",
       "320               37               19  \n",
       "211               41               41  \n",
       "241               41               59  \n",
       "86                45               75  \n",
       "41                55               23  \n",
       "251               57               85  \n",
       "832               59               91  \n",
       "810               61               85  \n",
       "11                63               97  \n",
       "652               67               95  \n",
       "736               71               95  \n",
       "700               71               97  \n",
       "564               75               21  \n",
       "423               76               41  \n",
       "831               77               82  \n",
       "827               77               91  \n",
       "303               79                1  \n",
       "240               83               73  \n",
       "859               83               93  \n",
       "507               87               41  \n",
       "769               87               53  \n",
       "567               87               53  \n",
       "170               87               55  \n",
       "48                87               85  \n",
       "568               87               87  \n",
       "195               89               97  \n",
       "672               91               97  \n",
       "346               93               28  \n",
       "451               93               91  \n",
       "902               93               95  \n",
       "181               93               95  \n",
       "205               94               51  \n",
       "883               95               61  \n",
       "585               97                1  \n",
       "922               97               19  \n",
       "924               97               53  \n",
       "150               97               53  \n",
       "264               97               53  \n",
       "759               97               79  \n",
       "231               97               87  \n",
       "431               97               97  \n",
       "118               97               97  "
      ]
     },
     "execution_count": 9,
     "metadata": {},
     "output_type": "execute_result"
    }
   ],
   "source": [
    "dft = df.query(\"sub_pos_num==2 and obj_pos_num==2\")[['sub_label_sg', 'obj_label', 'sub_POS_count_broad', 'obj_POS_count_broad']].sample(50)\n",
    "def calcualte_pos_num_gap(text):\n",
    "    '''\n",
    "    text = NN_75/VV_24\n",
    "    '''\n",
    "    pos1, pos2 = text.split(\"/\")\n",
    "    num_gap = int(pos1.split(\"_\")[1]) - int(pos2.split(\"_\")[1])\n",
    "    return num_gap \n",
    "\n",
    "dft['sub_pos_num_gap'] = dft['sub_POS_count_broad'].apply(lambda x: calcualte_pos_num_gap(x))\n",
    "dft['obj_pos_num_gap'] = dft['obj_POS_count_broad'].apply(lambda x: calcualte_pos_num_gap(x))\n",
    "dft.sort_values(by=['sub_pos_num_gap', 'obj_pos_num_gap'], ascending=True)[['sub_label_sg', 'obj_label', \n",
    "                                                           'sub_POS_count_broad', 'obj_POS_count_broad', \n",
    "                                                           'sub_pos_num_gap', 'obj_pos_num_gap']]\n"
   ]
  },
  {
   "cell_type": "code",
   "execution_count": 10,
   "metadata": {},
   "outputs": [
    {
     "name": "stderr",
     "output_type": "stream",
     "text": [
      "<ipython-input-10-bde799e1ab29>:3: FutureWarning: ['sub_label', 'obj_label', 'relation', 'masked_sentences', 'sub_sister', 'sub_label_sg', 'sub_label_pl', 'def_sap', 'def_dap', 'lsp_sap', 'lsp_dap', 'anchor_lsp_sap', 'sub_label_sgpl', 'obj_mask_sentence', 'obj_mask_sentence_score', 'obj_mask_def_sap', 'obj_mask_def_sap_score', 'obj_mask_lsp_sap', 'obj_mask_lsp_sap_score', 'subj_anchors', 'subj_anchors_score', 'subj_anchors_sg', 'subj_anchors_pl', 'anchor_col_all', 'subj_anchors_combined', 'masked_sentences_with_subj_anchor', 'def_dap_with_subj_anchor', 'lsp_dap_with_subj_anchor', 'obj_mask_def_dap', 'obj_mask_def_dap_score', 'obj_mask_lsp_dap', 'obj_mask_lsp_dap_score', 'anchor_wordnet_path_len', 'obj_label_sg', 'sub_POS_count_broad', 'obj_POS_count_broad'] did not aggregate successfully. If any error is raised this will raise in a future version of pandas. Drop these columns/ops to avoid this warning.\n",
      "  df_group = df.groupby(['obj_pos_num']).agg(['mean']) #, 'obj_pos_num'\n"
     ]
    },
    {
     "data": {
      "text/html": [
       "<div>\n",
       "<style scoped>\n",
       "    .dataframe tbody tr th:only-of-type {\n",
       "        vertical-align: middle;\n",
       "    }\n",
       "\n",
       "    .dataframe tbody tr th {\n",
       "        vertical-align: top;\n",
       "    }\n",
       "\n",
       "    .dataframe thead tr th {\n",
       "        text-align: left;\n",
       "    }\n",
       "\n",
       "    .dataframe thead tr:last-of-type th {\n",
       "        text-align: right;\n",
       "    }\n",
       "</style>\n",
       "<table border=\"1\" class=\"dataframe\">\n",
       "  <thead>\n",
       "    <tr>\n",
       "      <th></th>\n",
       "      <th>p10_def_sap</th>\n",
       "      <th>p10_def_dap</th>\n",
       "      <th>p10_lsp_sap</th>\n",
       "      <th>p10_lsp_dap</th>\n",
       "    </tr>\n",
       "    <tr>\n",
       "      <th></th>\n",
       "      <th>mean</th>\n",
       "      <th>mean</th>\n",
       "      <th>mean</th>\n",
       "      <th>mean</th>\n",
       "    </tr>\n",
       "    <tr>\n",
       "      <th>obj_pos_num</th>\n",
       "      <th></th>\n",
       "      <th></th>\n",
       "      <th></th>\n",
       "      <th></th>\n",
       "    </tr>\n",
       "  </thead>\n",
       "  <tbody>\n",
       "    <tr>\n",
       "      <th>1</th>\n",
       "      <td>0.495202</td>\n",
       "      <td>0.531670</td>\n",
       "      <td>0.362764</td>\n",
       "      <td>0.397313</td>\n",
       "    </tr>\n",
       "    <tr>\n",
       "      <th>2</th>\n",
       "      <td>0.443548</td>\n",
       "      <td>0.376344</td>\n",
       "      <td>0.440860</td>\n",
       "      <td>0.403226</td>\n",
       "    </tr>\n",
       "    <tr>\n",
       "      <th>3</th>\n",
       "      <td>0.444444</td>\n",
       "      <td>0.333333</td>\n",
       "      <td>0.370370</td>\n",
       "      <td>0.296296</td>\n",
       "    </tr>\n",
       "  </tbody>\n",
       "</table>\n",
       "</div>"
      ],
      "text/plain": [
       "            p10_def_sap p10_def_dap p10_lsp_sap p10_lsp_dap\n",
       "                   mean        mean        mean        mean\n",
       "obj_pos_num                                                \n",
       "1              0.495202    0.531670    0.362764    0.397313\n",
       "2              0.443548    0.376344    0.440860    0.403226\n",
       "3              0.444444    0.333333    0.370370    0.296296"
      ]
     },
     "metadata": {},
     "output_type": "display_data"
    },
    {
     "data": {
      "text/plain": [
       "<matplotlib.axes._subplots.AxesSubplot at 0x2acc7fb156a0>"
      ]
     },
     "metadata": {},
     "output_type": "display_data"
    },
    {
     "name": "stdout",
     "output_type": "stream",
     "text": [
      "                        metric        dataset  statistic    pvalue  \\\n",
      "0  p10_def_sap .vs p10_lsp_sap  EVAL-NOUNNOUN   4.914951  0.000001   \n",
      "1  p10_def_sap .vs p10_def_dap  EVAL-NOUNNOUN   0.804830  0.421126   \n",
      "2  p10_lsp_sap .vs p10_lsp_dap  EVAL-NOUNNOUN  -0.204018  0.838385   \n",
      "\n",
      "   significantly different  \n",
      "0                     True  \n",
      "1                    False  \n",
      "2                    False  \n"
     ]
    },
    {
     "data": {
      "image/png": "[encoded data removed]",
      "text/plain": [
       "<Figure size 432x288 with 1 Axes>"
      ]
     },
     "metadata": {
      "needs_background": "light"
     },
     "output_type": "display_data"
    }
   ],
   "source": [
    "metrics = [ 'p10_def_sap', 'p10_def_dap', 'p10_lsp_sap', 'p10_lsp_dap']\n",
    "df = df.query(\"sub_pos_num<3\")\n",
    "df_group = df.groupby(['obj_pos_num']).agg(['mean']) #, 'obj_pos_num'\n",
    "display(df_group[metrics])\n",
    "display(df_group[metrics].plot(kind='bar'))\n",
    "plt.legend(loc=(1.05,0.5))\n",
    "\n",
    "from significance_test import significance_test_single_dataset\n",
    "metric_pairs = [ ['p10_def_sap', 'p10_lsp_sap'], ['p10_def_sap', 'p10_def_dap'], ['p10_lsp_sap', 'p10_lsp_dap']]\n",
    "ttest = significance_test_single_dataset(df, dataset='EVAL-NOUNNOUN', metrics=metric_pairs, min_pvalue =0.05, display_res=False)\n",
    "print(ttest)\n",
    "\n"
   ]
  },
  {
   "cell_type": "code",
   "execution_count": 14,
   "metadata": {},
   "outputs": [
    {
     "name": "stderr",
     "output_type": "stream",
     "text": [
      "<ipython-input-14-3262ecbe1388>:3: FutureWarning: ['sub_label', 'obj_label', 'relation', 'masked_sentences', 'sub_sister', 'sub_label_sg', 'sub_label_pl', 'def_sap', 'def_dap', 'lsp_sap', 'lsp_dap', 'anchor_lsp_sap', 'sub_label_sgpl', 'obj_mask_sentence', 'obj_mask_sentence_score', 'obj_mask_def_sap', 'obj_mask_def_sap_score', 'obj_mask_lsp_sap', 'obj_mask_lsp_sap_score', 'subj_anchors', 'subj_anchors_score', 'subj_anchors_sg', 'subj_anchors_pl', 'anchor_col_all', 'subj_anchors_combined', 'masked_sentences_with_subj_anchor', 'def_dap_with_subj_anchor', 'lsp_dap_with_subj_anchor', 'obj_mask_def_dap', 'obj_mask_def_dap_score', 'obj_mask_lsp_dap', 'obj_mask_lsp_dap_score', 'anchor_wordnet_path_len', 'obj_label_sg', 'sub_POS_count_broad', 'obj_POS_count_broad'] did not aggregate successfully. If any error is raised this will raise in a future version of pandas. Drop these columns/ops to avoid this warning.\n",
      "  df_group = df.groupby(['sub_pos_num', 'obj_pos_num']).agg(['mean']) #, 'obj_pos_num'\n"
     ]
    },
    {
     "data": {
      "text/html": [
       "<div>\n",
       "<style scoped>\n",
       "    .dataframe tbody tr th:only-of-type {\n",
       "        vertical-align: middle;\n",
       "    }\n",
       "\n",
       "    .dataframe tbody tr th {\n",
       "        vertical-align: top;\n",
       "    }\n",
       "\n",
       "    .dataframe thead tr th {\n",
       "        text-align: left;\n",
       "    }\n",
       "\n",
       "    .dataframe thead tr:last-of-type th {\n",
       "        text-align: right;\n",
       "    }\n",
       "</style>\n",
       "<table border=\"1\" class=\"dataframe\">\n",
       "  <thead>\n",
       "    <tr>\n",
       "      <th></th>\n",
       "      <th></th>\n",
       "      <th>p10_def_sap</th>\n",
       "      <th>p10_def_dap</th>\n",
       "      <th>p10_lsp_sap</th>\n",
       "      <th>p10_lsp_dap</th>\n",
       "    </tr>\n",
       "    <tr>\n",
       "      <th></th>\n",
       "      <th></th>\n",
       "      <th>mean</th>\n",
       "      <th>mean</th>\n",
       "      <th>mean</th>\n",
       "      <th>mean</th>\n",
       "    </tr>\n",
       "    <tr>\n",
       "      <th>sub_pos_num</th>\n",
       "      <th>obj_pos_num</th>\n",
       "      <th></th>\n",
       "      <th></th>\n",
       "      <th></th>\n",
       "      <th></th>\n",
       "    </tr>\n",
       "  </thead>\n",
       "  <tbody>\n",
       "    <tr>\n",
       "      <th rowspan=\"2\" valign=\"top\">1</th>\n",
       "      <th>1</th>\n",
       "      <td>0.552083</td>\n",
       "      <td>0.576389</td>\n",
       "      <td>0.385417</td>\n",
       "      <td>0.423611</td>\n",
       "    </tr>\n",
       "    <tr>\n",
       "      <th>2</th>\n",
       "      <td>0.437870</td>\n",
       "      <td>0.360947</td>\n",
       "      <td>0.491124</td>\n",
       "      <td>0.461538</td>\n",
       "    </tr>\n",
       "    <tr>\n",
       "      <th rowspan=\"2\" valign=\"top\">2</th>\n",
       "      <th>1</th>\n",
       "      <td>0.424893</td>\n",
       "      <td>0.476395</td>\n",
       "      <td>0.334764</td>\n",
       "      <td>0.364807</td>\n",
       "    </tr>\n",
       "    <tr>\n",
       "      <th>2</th>\n",
       "      <td>0.448276</td>\n",
       "      <td>0.389163</td>\n",
       "      <td>0.399015</td>\n",
       "      <td>0.354680</td>\n",
       "    </tr>\n",
       "  </tbody>\n",
       "</table>\n",
       "</div>"
      ],
      "text/plain": [
       "                        p10_def_sap p10_def_dap p10_lsp_sap p10_lsp_dap\n",
       "                               mean        mean        mean        mean\n",
       "sub_pos_num obj_pos_num                                                \n",
       "1           1              0.552083    0.576389    0.385417    0.423611\n",
       "            2              0.437870    0.360947    0.491124    0.461538\n",
       "2           1              0.424893    0.476395    0.334764    0.364807\n",
       "            2              0.448276    0.389163    0.399015    0.354680"
      ]
     },
     "metadata": {},
     "output_type": "display_data"
    },
    {
     "data": {
      "text/plain": [
       "<matplotlib.axes._subplots.AxesSubplot at 0x2acc80591c40>"
      ]
     },
     "metadata": {},
     "output_type": "display_data"
    },
    {
     "name": "stdout",
     "output_type": "stream",
     "text": [
      "sub_pos_num  obj_pos_num\n",
      "1            1              288\n",
      "2            1              233\n",
      "             2              203\n",
      "1            2              169\n",
      "dtype: int64\n"
     ]
    },
    {
     "data": {
      "image/png": "[encoded data removed]",
      "text/plain": [
       "<Figure size 432x288 with 1 Axes>"
      ]
     },
     "metadata": {
      "needs_background": "light"
     },
     "output_type": "display_data"
    }
   ],
   "source": [
    "metrics = [ 'p10_def_sap', 'p10_def_dap', 'p10_lsp_sap', 'p10_lsp_dap']\n",
    "df = df.query(\"obj_pos_num<=2\")\n",
    "df_group = df.groupby(['sub_pos_num', 'obj_pos_num']).agg(['mean']) #, 'obj_pos_num'\n",
    "display(df_group[metrics])\n",
    "display(df_group[metrics].plot(kind='bar'))\n",
    "plt.legend(loc=(1.05,0.5))\n",
    "print(df[['sub_pos_num', 'obj_pos_num']].value_counts())"
   ]
  },
  {
   "cell_type": "code",
   "execution_count": 50,
   "metadata": {},
   "outputs": [
    {
     "data": {
      "text/html": [
       "<div>\n",
       "<style scoped>\n",
       "    .dataframe tbody tr th:only-of-type {\n",
       "        vertical-align: middle;\n",
       "    }\n",
       "\n",
       "    .dataframe tbody tr th {\n",
       "        vertical-align: top;\n",
       "    }\n",
       "\n",
       "    .dataframe thead th {\n",
       "        text-align: right;\n",
       "    }\n",
       "</style>\n",
       "<table border=\"1\" class=\"dataframe\">\n",
       "  <thead>\n",
       "    <tr style=\"text-align: right;\">\n",
       "      <th></th>\n",
       "      <th>sub_label</th>\n",
       "      <th>sub_label_sg</th>\n",
       "      <th>obj_label</th>\n",
       "      <th>obj_mask_def_sap</th>\n",
       "      <th>obj_mask_lsp_sap</th>\n",
       "      <th>obj_mask_def_dap</th>\n",
       "      <th>obj_mask_lsp_dap</th>\n",
       "    </tr>\n",
       "  </thead>\n",
       "  <tbody>\n",
       "    <tr>\n",
       "      <th>206</th>\n",
       "      <td>contacts</td>\n",
       "      <td>contact</td>\n",
       "      <td>['lens']</td>\n",
       "      <td>['relationship', 'connection', 'communication', 'object', 'touch', 'interaction', 'contract', 'thing', 'sign', 'message']</td>\n",
       "      <td>['thing', 'information', 'friend', 'acquaintance', 'connection', 'relationship', 'yes', 'detail', 'source', 'relative']</td>\n",
       "      <td>['person', 'relationship', 'communication', 'meeting', 'link', 'connection', 'friend', 'agent', 'information', 'organization']</td>\n",
       "      <td>['information', 'thing', 'acquaintance', 'friend', 'people', 'associate', 'relative', 'employee', 'communication', 'agent']</td>\n",
       "    </tr>\n",
       "    <tr>\n",
       "      <th>207</th>\n",
       "      <td>contacts</td>\n",
       "      <td>contact</td>\n",
       "      <td>['touch']</td>\n",
       "      <td>['relationship', 'connection', 'communication', 'object', 'touch', 'interaction', 'contract', 'thing', 'sign', 'message']</td>\n",
       "      <td>['thing', 'information', 'friend', 'acquaintance', 'connection', 'relationship', 'yes', 'detail', 'source', 'relative']</td>\n",
       "      <td>['person', 'relationship', 'communication', 'meeting', 'link', 'connection', 'friend', 'agent', 'information', 'organization']</td>\n",
       "      <td>['information', 'thing', 'acquaintance', 'friend', 'people', 'associate', 'relative', 'employee', 'communication', 'agent']</td>\n",
       "    </tr>\n",
       "  </tbody>\n",
       "</table>\n",
       "</div>"
      ],
      "text/plain": [
       "    sub_label sub_label_sg  obj_label  \\\n",
       "206  contacts      contact   ['lens']   \n",
       "207  contacts      contact  ['touch']   \n",
       "\n",
       "                                                                                                              obj_mask_def_sap  \\\n",
       "206  ['relationship', 'connection', 'communication', 'object', 'touch', 'interaction', 'contract', 'thing', 'sign', 'message']   \n",
       "207  ['relationship', 'connection', 'communication', 'object', 'touch', 'interaction', 'contract', 'thing', 'sign', 'message']   \n",
       "\n",
       "                                                                                                            obj_mask_lsp_sap  \\\n",
       "206  ['thing', 'information', 'friend', 'acquaintance', 'connection', 'relationship', 'yes', 'detail', 'source', 'relative']   \n",
       "207  ['thing', 'information', 'friend', 'acquaintance', 'connection', 'relationship', 'yes', 'detail', 'source', 'relative']   \n",
       "\n",
       "                                                                                                                   obj_mask_def_dap  \\\n",
       "206  ['person', 'relationship', 'communication', 'meeting', 'link', 'connection', 'friend', 'agent', 'information', 'organization']   \n",
       "207  ['person', 'relationship', 'communication', 'meeting', 'link', 'connection', 'friend', 'agent', 'information', 'organization']   \n",
       "\n",
       "                                                                                                                obj_mask_lsp_dap  \n",
       "206  ['information', 'thing', 'acquaintance', 'friend', 'people', 'associate', 'relative', 'employee', 'communication', 'agent']  \n",
       "207  ['information', 'thing', 'acquaintance', 'friend', 'people', 'associate', 'relative', 'employee', 'communication', 'agent']  "
      ]
     },
     "execution_count": 50,
     "metadata": {},
     "output_type": "execute_result"
    }
   ],
   "source": [
    "df.query(\"sub_label == 'contacts'\")[['sub_label', 'sub_label_sg', 'obj_label', 'obj_mask_def_sap', 'obj_mask_lsp_sap', 'obj_mask_def_dap', 'obj_mask_lsp_dap']]"
   ]
  },
  {
   "cell_type": "code",
   "execution_count": 36,
   "metadata": {},
   "outputs": [
    {
     "name": "stderr",
     "output_type": "stream",
     "text": [
      "<ipython-input-36-33d47f9eb372>:3: FutureWarning: ['sub_label', 'obj_label', 'relation', 'masked_sentences', 'sub_sister', 'sub_label_sg', 'sub_label_pl', 'def_sap', 'def_dap', 'lsp_sap', 'lsp_dap', 'anchor_lsp_sap', 'sub_label_sgpl', 'obj_mask_sentence', 'obj_mask_sentence_score', 'obj_mask_def_sap', 'obj_mask_def_sap_score', 'obj_mask_lsp_sap', 'obj_mask_lsp_sap_score', 'subj_anchors', 'subj_anchors_score', 'subj_anchors_sg', 'subj_anchors_pl', 'anchor_col_all', 'subj_anchors_combined', 'masked_sentences_with_subj_anchor', 'def_dap_with_subj_anchor', 'lsp_dap_with_subj_anchor', 'obj_mask_def_dap', 'obj_mask_def_dap_score', 'obj_mask_lsp_dap', 'obj_mask_lsp_dap_score', 'anchor_wordnet_path_len', 'obj_label_sg'] did not aggregate successfully. If any error is raised this will raise in a future version of pandas. Drop these columns/ops to avoid this warning.\n",
      "  df_group = df.groupby(['obj_pos_num']).agg(['mean'])\n"
     ]
    },
    {
     "data": {
      "text/html": [
       "<div>\n",
       "<style scoped>\n",
       "    .dataframe tbody tr th:only-of-type {\n",
       "        vertical-align: middle;\n",
       "    }\n",
       "\n",
       "    .dataframe tbody tr th {\n",
       "        vertical-align: top;\n",
       "    }\n",
       "\n",
       "    .dataframe thead tr th {\n",
       "        text-align: left;\n",
       "    }\n",
       "\n",
       "    .dataframe thead tr:last-of-type th {\n",
       "        text-align: right;\n",
       "    }\n",
       "</style>\n",
       "<table border=\"1\" class=\"dataframe\">\n",
       "  <thead>\n",
       "    <tr>\n",
       "      <th></th>\n",
       "      <th>p10_def_sap</th>\n",
       "      <th>p10_def_dap</th>\n",
       "      <th>p10_lsp_sap</th>\n",
       "      <th>p10_lsp_dap</th>\n",
       "    </tr>\n",
       "    <tr>\n",
       "      <th></th>\n",
       "      <th>mean</th>\n",
       "      <th>mean</th>\n",
       "      <th>mean</th>\n",
       "      <th>mean</th>\n",
       "    </tr>\n",
       "    <tr>\n",
       "      <th>obj_pos_num</th>\n",
       "      <th></th>\n",
       "      <th></th>\n",
       "      <th></th>\n",
       "      <th></th>\n",
       "    </tr>\n",
       "  </thead>\n",
       "  <tbody>\n",
       "    <tr>\n",
       "      <th>1</th>\n",
       "      <td>0.495202</td>\n",
       "      <td>0.531670</td>\n",
       "      <td>0.362764</td>\n",
       "      <td>0.397313</td>\n",
       "    </tr>\n",
       "    <tr>\n",
       "      <th>2</th>\n",
       "      <td>0.443548</td>\n",
       "      <td>0.376344</td>\n",
       "      <td>0.440860</td>\n",
       "      <td>0.403226</td>\n",
       "    </tr>\n",
       "  </tbody>\n",
       "</table>\n",
       "</div>"
      ],
      "text/plain": [
       "            p10_def_sap p10_def_dap p10_lsp_sap p10_lsp_dap\n",
       "                   mean        mean        mean        mean\n",
       "obj_pos_num                                                \n",
       "1              0.495202    0.531670    0.362764    0.397313\n",
       "2              0.443548    0.376344    0.440860    0.403226"
      ]
     },
     "metadata": {},
     "output_type": "display_data"
    },
    {
     "data": {
      "text/plain": [
       "<matplotlib.axes._subplots.AxesSubplot at 0x2b5a3b384c70>"
      ]
     },
     "metadata": {},
     "output_type": "display_data"
    },
    {
     "data": {
      "text/plain": [
       "<matplotlib.legend.Legend at 0x2b5a3b2f5a90>"
      ]
     },
     "execution_count": 36,
     "metadata": {},
     "output_type": "execute_result"
    },
    {
     "data": {
      "image/png": "[encoded data removed]",
      "text/plain": [
       "<Figure size 432x288 with 1 Axes>"
      ]
     },
     "metadata": {
      "needs_background": "light"
     },
     "output_type": "display_data"
    }
   ],
   "source": [
    "metrics = [ 'p10_def_sap', 'p10_def_dap', 'p10_lsp_sap', 'p10_lsp_dap']\n",
    "df = df.query(\"obj_pos_num<3\")\n",
    "df_group = df.groupby(['obj_pos_num']).agg(['mean'])\n",
    "display(df_group[metrics])\n",
    "display(df_group[metrics].plot(kind='bar'))\n",
    "plt.legend(loc=(1.05,0.5))"
   ]
  },
  {
   "cell_type": "code",
   "execution_count": 46,
   "metadata": {},
   "outputs": [
    {
     "name": "stderr",
     "output_type": "stream",
     "text": [
      "<ipython-input-46-67a94b444d72>:3: FutureWarning: ['sub_label', 'obj_label', 'relation', 'masked_sentences', 'sub_sister', 'sub_label_sg', 'sub_label_pl', 'def_sap', 'def_dap', 'lsp_sap', 'lsp_dap', 'anchor_lsp_sap', 'sub_label_sgpl', 'obj_mask_sentence', 'obj_mask_sentence_score', 'obj_mask_def_sap', 'obj_mask_def_sap_score', 'obj_mask_lsp_sap', 'obj_mask_lsp_sap_score', 'subj_anchors', 'subj_anchors_score', 'subj_anchors_sg', 'subj_anchors_pl', 'anchor_col_all', 'subj_anchors_combined', 'masked_sentences_with_subj_anchor', 'def_dap_with_subj_anchor', 'lsp_dap_with_subj_anchor', 'obj_mask_def_dap', 'obj_mask_def_dap_score', 'obj_mask_lsp_dap', 'obj_mask_lsp_dap_score', 'anchor_wordnet_path_len', 'obj_label_sg'] did not aggregate successfully. If any error is raised this will raise in a future version of pandas. Drop these columns/ops to avoid this warning.\n",
      "  df_group = df.groupby(['sub_tags_num']).agg(['mean'])\n"
     ]
    },
    {
     "data": {
      "text/html": [
       "<div>\n",
       "<style scoped>\n",
       "    .dataframe tbody tr th:only-of-type {\n",
       "        vertical-align: middle;\n",
       "    }\n",
       "\n",
       "    .dataframe tbody tr th {\n",
       "        vertical-align: top;\n",
       "    }\n",
       "\n",
       "    .dataframe thead tr th {\n",
       "        text-align: left;\n",
       "    }\n",
       "\n",
       "    .dataframe thead tr:last-of-type th {\n",
       "        text-align: right;\n",
       "    }\n",
       "</style>\n",
       "<table border=\"1\" class=\"dataframe\">\n",
       "  <thead>\n",
       "    <tr>\n",
       "      <th></th>\n",
       "      <th>p10_def_sap</th>\n",
       "      <th>p10_def_dap</th>\n",
       "      <th>p10_lsp_sap</th>\n",
       "      <th>p10_lsp_dap</th>\n",
       "    </tr>\n",
       "    <tr>\n",
       "      <th></th>\n",
       "      <th>mean</th>\n",
       "      <th>mean</th>\n",
       "      <th>mean</th>\n",
       "      <th>mean</th>\n",
       "    </tr>\n",
       "    <tr>\n",
       "      <th>sub_tags_num</th>\n",
       "      <th></th>\n",
       "      <th></th>\n",
       "      <th></th>\n",
       "      <th></th>\n",
       "    </tr>\n",
       "  </thead>\n",
       "  <tbody>\n",
       "    <tr>\n",
       "      <th>1</th>\n",
       "      <td>0.294118</td>\n",
       "      <td>0.352941</td>\n",
       "      <td>0.235294</td>\n",
       "      <td>0.205882</td>\n",
       "    </tr>\n",
       "    <tr>\n",
       "      <th>2</th>\n",
       "      <td>0.551020</td>\n",
       "      <td>0.428571</td>\n",
       "      <td>0.489796</td>\n",
       "      <td>0.367347</td>\n",
       "    </tr>\n",
       "    <tr>\n",
       "      <th>3</th>\n",
       "      <td>0.320000</td>\n",
       "      <td>0.400000</td>\n",
       "      <td>0.400000</td>\n",
       "      <td>0.320000</td>\n",
       "    </tr>\n",
       "    <tr>\n",
       "      <th>4</th>\n",
       "      <td>0.495536</td>\n",
       "      <td>0.495536</td>\n",
       "      <td>0.406250</td>\n",
       "      <td>0.419643</td>\n",
       "    </tr>\n",
       "    <tr>\n",
       "      <th>5</th>\n",
       "      <td>0.481633</td>\n",
       "      <td>0.457143</td>\n",
       "      <td>0.391837</td>\n",
       "      <td>0.400000</td>\n",
       "    </tr>\n",
       "    <tr>\n",
       "      <th>6</th>\n",
       "      <td>0.418033</td>\n",
       "      <td>0.426230</td>\n",
       "      <td>0.393443</td>\n",
       "      <td>0.426230</td>\n",
       "    </tr>\n",
       "    <tr>\n",
       "      <th>7</th>\n",
       "      <td>0.564516</td>\n",
       "      <td>0.532258</td>\n",
       "      <td>0.435484</td>\n",
       "      <td>0.419355</td>\n",
       "    </tr>\n",
       "    <tr>\n",
       "      <th>8</th>\n",
       "      <td>0.750000</td>\n",
       "      <td>0.750000</td>\n",
       "      <td>0.500000</td>\n",
       "      <td>0.500000</td>\n",
       "    </tr>\n",
       "    <tr>\n",
       "      <th>9</th>\n",
       "      <td>0.000000</td>\n",
       "      <td>1.000000</td>\n",
       "      <td>0.000000</td>\n",
       "      <td>0.000000</td>\n",
       "    </tr>\n",
       "    <tr>\n",
       "      <th>11</th>\n",
       "      <td>0.666667</td>\n",
       "      <td>0.666667</td>\n",
       "      <td>0.666667</td>\n",
       "      <td>0.666667</td>\n",
       "    </tr>\n",
       "    <tr>\n",
       "      <th>12</th>\n",
       "      <td>1.000000</td>\n",
       "      <td>1.000000</td>\n",
       "      <td>0.500000</td>\n",
       "      <td>0.500000</td>\n",
       "    </tr>\n",
       "    <tr>\n",
       "      <th>15</th>\n",
       "      <td>0.000000</td>\n",
       "      <td>0.000000</td>\n",
       "      <td>0.000000</td>\n",
       "      <td>0.000000</td>\n",
       "    </tr>\n",
       "    <tr>\n",
       "      <th>16</th>\n",
       "      <td>0.480519</td>\n",
       "      <td>0.480519</td>\n",
       "      <td>0.363636</td>\n",
       "      <td>0.389610</td>\n",
       "    </tr>\n",
       "    <tr>\n",
       "      <th>17</th>\n",
       "      <td>0.400000</td>\n",
       "      <td>0.450000</td>\n",
       "      <td>0.350000</td>\n",
       "      <td>0.425000</td>\n",
       "    </tr>\n",
       "  </tbody>\n",
       "</table>\n",
       "</div>"
      ],
      "text/plain": [
       "             p10_def_sap p10_def_dap p10_lsp_sap p10_lsp_dap\n",
       "                    mean        mean        mean        mean\n",
       "sub_tags_num                                                \n",
       "1               0.294118    0.352941    0.235294    0.205882\n",
       "2               0.551020    0.428571    0.489796    0.367347\n",
       "3               0.320000    0.400000    0.400000    0.320000\n",
       "4               0.495536    0.495536    0.406250    0.419643\n",
       "5               0.481633    0.457143    0.391837    0.400000\n",
       "6               0.418033    0.426230    0.393443    0.426230\n",
       "7               0.564516    0.532258    0.435484    0.419355\n",
       "8               0.750000    0.750000    0.500000    0.500000\n",
       "9               0.000000    1.000000    0.000000    0.000000\n",
       "11              0.666667    0.666667    0.666667    0.666667\n",
       "12              1.000000    1.000000    0.500000    0.500000\n",
       "15              0.000000    0.000000    0.000000    0.000000\n",
       "16              0.480519    0.480519    0.363636    0.389610\n",
       "17              0.400000    0.450000    0.350000    0.425000"
      ]
     },
     "metadata": {},
     "output_type": "display_data"
    },
    {
     "data": {
      "text/plain": [
       "<matplotlib.axes._subplots.AxesSubplot at 0x2b5a3b855250>"
      ]
     },
     "metadata": {},
     "output_type": "display_data"
    },
    {
     "data": {
      "image/png": "[encoded data removed]",
      "text/plain": [
       "<Figure size 720x288 with 1 Axes>"
      ]
     },
     "metadata": {
      "needs_background": "light"
     },
     "output_type": "display_data"
    }
   ],
   "source": [
    "metrics = [ 'p10_def_sap', 'p10_def_dap', 'p10_lsp_sap', 'p10_lsp_dap']\n",
    "# df = df.query(\"sub_pos_num<3\")\n",
    "df_group = df.groupby(['sub_tags_num']).agg(['mean'])\n",
    "display(df_group[metrics])\n",
    "display(df_group[metrics].plot(kind='bar', figsize=(10,4)))\n",
    "plt.legend(loc=(1.05,0.5))\n",
    "plt.tight_layout()\n",
    "plt.savefig('../log/paper_results/analysis/eval_tags_num_sub.pdf')\n",
    "plt.show()"
   ]
  },
  {
   "cell_type": "code",
   "execution_count": 47,
   "metadata": {},
   "outputs": [
    {
     "name": "stderr",
     "output_type": "stream",
     "text": [
      "<ipython-input-47-c225945c583a>:3: FutureWarning: ['sub_label', 'obj_label', 'relation', 'masked_sentences', 'sub_sister', 'sub_label_sg', 'sub_label_pl', 'def_sap', 'def_dap', 'lsp_sap', 'lsp_dap', 'anchor_lsp_sap', 'sub_label_sgpl', 'obj_mask_sentence', 'obj_mask_sentence_score', 'obj_mask_def_sap', 'obj_mask_def_sap_score', 'obj_mask_lsp_sap', 'obj_mask_lsp_sap_score', 'subj_anchors', 'subj_anchors_score', 'subj_anchors_sg', 'subj_anchors_pl', 'anchor_col_all', 'subj_anchors_combined', 'masked_sentences_with_subj_anchor', 'def_dap_with_subj_anchor', 'lsp_dap_with_subj_anchor', 'obj_mask_def_dap', 'obj_mask_def_dap_score', 'obj_mask_lsp_dap', 'obj_mask_lsp_dap_score', 'anchor_wordnet_path_len', 'obj_label_sg'] did not aggregate successfully. If any error is raised this will raise in a future version of pandas. Drop these columns/ops to avoid this warning.\n",
      "  df_group = df.groupby(['obj_tags_num']).agg(['mean'])\n"
     ]
    },
    {
     "data": {
      "text/html": [
       "<div>\n",
       "<style scoped>\n",
       "    .dataframe tbody tr th:only-of-type {\n",
       "        vertical-align: middle;\n",
       "    }\n",
       "\n",
       "    .dataframe tbody tr th {\n",
       "        vertical-align: top;\n",
       "    }\n",
       "\n",
       "    .dataframe thead tr th {\n",
       "        text-align: left;\n",
       "    }\n",
       "\n",
       "    .dataframe thead tr:last-of-type th {\n",
       "        text-align: right;\n",
       "    }\n",
       "</style>\n",
       "<table border=\"1\" class=\"dataframe\">\n",
       "  <thead>\n",
       "    <tr>\n",
       "      <th></th>\n",
       "      <th>p10_def_sap</th>\n",
       "      <th>p10_def_dap</th>\n",
       "      <th>p10_lsp_sap</th>\n",
       "      <th>p10_lsp_dap</th>\n",
       "    </tr>\n",
       "    <tr>\n",
       "      <th></th>\n",
       "      <th>mean</th>\n",
       "      <th>mean</th>\n",
       "      <th>mean</th>\n",
       "      <th>mean</th>\n",
       "    </tr>\n",
       "    <tr>\n",
       "      <th>obj_tags_num</th>\n",
       "      <th></th>\n",
       "      <th></th>\n",
       "      <th></th>\n",
       "      <th></th>\n",
       "    </tr>\n",
       "  </thead>\n",
       "  <tbody>\n",
       "    <tr>\n",
       "      <th>1</th>\n",
       "      <td>0.727273</td>\n",
       "      <td>0.454545</td>\n",
       "      <td>0.454545</td>\n",
       "      <td>0.363636</td>\n",
       "    </tr>\n",
       "    <tr>\n",
       "      <th>2</th>\n",
       "      <td>0.234043</td>\n",
       "      <td>0.319149</td>\n",
       "      <td>0.127660</td>\n",
       "      <td>0.148936</td>\n",
       "    </tr>\n",
       "    <tr>\n",
       "      <th>3</th>\n",
       "      <td>0.476190</td>\n",
       "      <td>0.380952</td>\n",
       "      <td>0.285714</td>\n",
       "      <td>0.285714</td>\n",
       "    </tr>\n",
       "    <tr>\n",
       "      <th>4</th>\n",
       "      <td>0.580128</td>\n",
       "      <td>0.625000</td>\n",
       "      <td>0.423077</td>\n",
       "      <td>0.455128</td>\n",
       "    </tr>\n",
       "    <tr>\n",
       "      <th>5</th>\n",
       "      <td>0.373494</td>\n",
       "      <td>0.379518</td>\n",
       "      <td>0.337349</td>\n",
       "      <td>0.319277</td>\n",
       "    </tr>\n",
       "    <tr>\n",
       "      <th>6</th>\n",
       "      <td>0.474747</td>\n",
       "      <td>0.373737</td>\n",
       "      <td>0.494949</td>\n",
       "      <td>0.489899</td>\n",
       "    </tr>\n",
       "    <tr>\n",
       "      <th>7</th>\n",
       "      <td>0.366667</td>\n",
       "      <td>0.433333</td>\n",
       "      <td>0.433333</td>\n",
       "      <td>0.400000</td>\n",
       "    </tr>\n",
       "    <tr>\n",
       "      <th>8</th>\n",
       "      <td>0.200000</td>\n",
       "      <td>0.200000</td>\n",
       "      <td>0.400000</td>\n",
       "      <td>0.400000</td>\n",
       "    </tr>\n",
       "    <tr>\n",
       "      <th>11</th>\n",
       "      <td>0.500000</td>\n",
       "      <td>0.500000</td>\n",
       "      <td>0.500000</td>\n",
       "      <td>0.500000</td>\n",
       "    </tr>\n",
       "    <tr>\n",
       "      <th>16</th>\n",
       "      <td>0.483871</td>\n",
       "      <td>0.403226</td>\n",
       "      <td>0.354839</td>\n",
       "      <td>0.338710</td>\n",
       "    </tr>\n",
       "    <tr>\n",
       "      <th>17</th>\n",
       "      <td>0.358974</td>\n",
       "      <td>0.435897</td>\n",
       "      <td>0.307692</td>\n",
       "      <td>0.307692</td>\n",
       "    </tr>\n",
       "  </tbody>\n",
       "</table>\n",
       "</div>"
      ],
      "text/plain": [
       "             p10_def_sap p10_def_dap p10_lsp_sap p10_lsp_dap\n",
       "                    mean        mean        mean        mean\n",
       "obj_tags_num                                                \n",
       "1               0.727273    0.454545    0.454545    0.363636\n",
       "2               0.234043    0.319149    0.127660    0.148936\n",
       "3               0.476190    0.380952    0.285714    0.285714\n",
       "4               0.580128    0.625000    0.423077    0.455128\n",
       "5               0.373494    0.379518    0.337349    0.319277\n",
       "6               0.474747    0.373737    0.494949    0.489899\n",
       "7               0.366667    0.433333    0.433333    0.400000\n",
       "8               0.200000    0.200000    0.400000    0.400000\n",
       "11              0.500000    0.500000    0.500000    0.500000\n",
       "16              0.483871    0.403226    0.354839    0.338710\n",
       "17              0.358974    0.435897    0.307692    0.307692"
      ]
     },
     "metadata": {},
     "output_type": "display_data"
    },
    {
     "data": {
      "text/plain": [
       "<matplotlib.axes._subplots.AxesSubplot at 0x2b5a3b791d30>"
      ]
     },
     "metadata": {},
     "output_type": "display_data"
    },
    {
     "data": {
      "image/png": "[encoded data removed]",
      "text/plain": [
       "<Figure size 720x288 with 1 Axes>"
      ]
     },
     "metadata": {
      "needs_background": "light"
     },
     "output_type": "display_data"
    }
   ],
   "source": [
    "metrics = [ 'p10_def_sap', 'p10_def_dap', 'p10_lsp_sap', 'p10_lsp_dap']\n",
    "# df = df.query(\"sub_pos_num<3\")\n",
    "df_group = df.groupby(['obj_tags_num']).agg(['mean'])\n",
    "display(df_group[metrics])\n",
    "display(df_group[metrics].plot(kind='bar', figsize=(10,4)))\n",
    "plt.legend(loc=(1.05,0.5))\n",
    "plt.tight_layout()\n",
    "plt.savefig('../log/paper_results/analysis/eval_tags_num_obj.pdf')\n",
    "plt.show()"
   ]
  },
  {
   "cell_type": "code",
   "execution_count": 77,
   "metadata": {},
   "outputs": [],
   "source": [
    "dataset_to_df = defaultdict()\n",
    "shared = ['insect', 'cattle', 'furniture', 'fruit', 'vessel', 'container', 'pet', 'game', 'device', 'bird', 'animal', 'vehicle', 'home', 'grain', 'weapon', 'mammal', 'food', 'construction', 'boat', 'tree', 'vegetable', 'instrument', 'tool', 'house', 'object', 'plant']\n",
    "\n",
    "for dataset, path in dataset_to_localpath.items(): \n",
    "#     if dataset!='EVAL': continue \n",
    "    df = pd.read_csv(path)\n",
    "    df['obj_label'] = df['obj_label'].apply(lambda x: eval(x)[0])\n",
    "    df = df.query(f'obj_label in {shared}')\n",
    "    dataset_to_df[dataset] = df \n",
    "        "
   ]
  },
  {
   "cell_type": "code",
   "execution_count": 76,
   "metadata": {},
   "outputs": [
    {
     "name": "stdout",
     "output_type": "stream",
     "text": [
      "shared, 26\n",
      "['insect', 'cattle', 'furniture', 'fruit', 'vessel', 'container', 'pet', 'game', 'device', 'bird', 'animal', 'vehicle', 'home', 'grain', 'weapon', 'mammal', 'food', 'construction', 'boat', 'tree', 'vegetable', 'instrument', 'tool', 'house', 'object', 'plant']\n"
     ]
    }
   ],
   "source": [
    "# dataset_to_df['EVAL']['obj_label'] = dataset_to_df['EVAL']['obj_label'].apply(lambda x: eval(x)[0])\n",
    "# dataset_to_df['BLESS']['obj_label'] = dataset_to_df['BLESS']['obj_label'].apply(lambda x: eval(x)[0])\n",
    "\n",
    "set1 = set(dataset_to_df['EVAL']['obj_label'])\n",
    "set2 = set(dataset_to_df['BLESS']['obj_label'])\n",
    "\n",
    "shared= list(set1.intersection(set2))\n",
    "print(\"shared,\", len(shared))\n",
    "print(shared)"
   ]
  },
  {
   "cell_type": "code",
   "execution_count": 81,
   "metadata": {},
   "outputs": [
    {
     "name": "stdout",
     "output_type": "stream",
     "text": [
      "BLESS    p10_def_sap  p10_def_dap  p10_lsp_sap  p10_lsp_dap\n",
      "0     0.634804     0.676471     0.730392     0.730392\n",
      "\n",
      "DIAG    p10_def_sap  p10_def_dap  p10_lsp_sap  p10_lsp_dap\n",
      "0     0.639687     0.744125     0.681462     0.762402\n",
      "\n",
      "CLSB    p10_def_sap  p10_def_dap  p10_lsp_sap  p10_lsp_dap\n",
      "0     0.816638     0.855688     0.874363     0.874363\n",
      "\n",
      "LEDS    p10_def_sap  p10_def_dap  p10_lsp_sap  p10_lsp_dap\n",
      "0     0.844262     0.872951     0.815574     0.852459\n",
      "\n",
      "EVAL    p10_def_sap  p10_def_dap  p10_lsp_sap  p10_lsp_dap\n",
      "0     0.666667     0.679487     0.596154     0.589744\n",
      "\n",
      "SHWARTZ    p10_def_sap  p10_def_dap  p10_lsp_sap  p10_lsp_dap\n",
      "0     0.652174     0.637681     0.608696     0.637681\n",
      "\n"
     ]
    }
   ],
   "source": [
    "# dataset_to_df['EVAL']\n",
    "metrics = [ 'p10_def_sap', 'p10_def_dap', 'p10_lsp_sap', 'p10_lsp_dap']\n",
    "for dataset, df in dataset_to_df.items():\n",
    "    print(dataset, df[metrics].mean().to_frame().T)\n",
    "    print()"
   ]
  },
  {
   "cell_type": "code",
   "execution_count": 104,
   "metadata": {},
   "outputs": [
    {
     "name": "stdout",
     "output_type": "stream",
     "text": [
      "animal 81\n"
     ]
    },
    {
     "name": "stderr",
     "output_type": "stream",
     "text": [
      "<ipython-input-104-077d9ff465e2>:10: FutureWarning: Dropping of nuisance columns in DataFrame reductions (with 'numeric_only=None') is deprecated; in a future version this will raise TypeError.  Select only valid columns before calling the reduction.\n",
      "  groupe = group.query(\"dataset=='EVAL'\")[query_cols].mean()\n",
      "<ipython-input-104-077d9ff465e2>:11: FutureWarning: Dropping of nuisance columns in DataFrame reductions (with 'numeric_only=None') is deprecated; in a future version this will raise TypeError.  Select only valid columns before calling the reduction.\n",
      "  groupb = group.query(\"dataset=='BLESS'\")[query_cols].mean()\n"
     ]
    },
    {
     "data": {
      "text/plain": [
       "p10_def_sap    1.000000\n",
       "p10_def_dap    1.000000\n",
       "p10_lsp_sap    0.952381\n",
       "p10_lsp_dap    0.952381\n",
       "dtype: float64"
      ]
     },
     "metadata": {},
     "output_type": "display_data"
    },
    {
     "data": {
      "text/plain": [
       "p10_def_sap    0.900000\n",
       "p10_def_dap    0.866667\n",
       "p10_lsp_sap    0.966667\n",
       "p10_lsp_dap    0.966667\n",
       "dtype: float64"
      ]
     },
     "metadata": {},
     "output_type": "display_data"
    },
    {
     "name": "stdout",
     "output_type": "stream",
     "text": [
      "bird 17\n"
     ]
    },
    {
     "name": "stderr",
     "output_type": "stream",
     "text": [
      "<ipython-input-104-077d9ff465e2>:10: FutureWarning: Dropping of nuisance columns in DataFrame reductions (with 'numeric_only=None') is deprecated; in a future version this will raise TypeError.  Select only valid columns before calling the reduction.\n",
      "  groupe = group.query(\"dataset=='EVAL'\")[query_cols].mean()\n",
      "<ipython-input-104-077d9ff465e2>:11: FutureWarning: Dropping of nuisance columns in DataFrame reductions (with 'numeric_only=None') is deprecated; in a future version this will raise TypeError.  Select only valid columns before calling the reduction.\n",
      "  groupb = group.query(\"dataset=='BLESS'\")[query_cols].mean()\n"
     ]
    },
    {
     "data": {
      "text/plain": [
       "p10_def_sap    1.0\n",
       "p10_def_dap    0.5\n",
       "p10_lsp_sap    1.0\n",
       "p10_lsp_dap    0.5\n",
       "dtype: float64"
      ]
     },
     "metadata": {},
     "output_type": "display_data"
    },
    {
     "data": {
      "text/plain": [
       "p10_def_sap    1.0\n",
       "p10_def_dap    1.0\n",
       "p10_lsp_sap    1.0\n",
       "p10_lsp_dap    1.0\n",
       "dtype: float64"
      ]
     },
     "metadata": {},
     "output_type": "display_data"
    },
    {
     "name": "stdout",
     "output_type": "stream",
     "text": [
      "boat 4\n"
     ]
    },
    {
     "name": "stderr",
     "output_type": "stream",
     "text": [
      "<ipython-input-104-077d9ff465e2>:10: FutureWarning: Dropping of nuisance columns in DataFrame reductions (with 'numeric_only=None') is deprecated; in a future version this will raise TypeError.  Select only valid columns before calling the reduction.\n",
      "  groupe = group.query(\"dataset=='EVAL'\")[query_cols].mean()\n",
      "<ipython-input-104-077d9ff465e2>:11: FutureWarning: Dropping of nuisance columns in DataFrame reductions (with 'numeric_only=None') is deprecated; in a future version this will raise TypeError.  Select only valid columns before calling the reduction.\n",
      "  groupb = group.query(\"dataset=='BLESS'\")[query_cols].mean()\n"
     ]
    },
    {
     "data": {
      "text/plain": [
       "p10_def_sap    0.5\n",
       "p10_def_dap    0.5\n",
       "p10_lsp_sap    0.5\n",
       "p10_lsp_dap    0.5\n",
       "dtype: float64"
      ]
     },
     "metadata": {},
     "output_type": "display_data"
    },
    {
     "data": {
      "text/plain": [
       "p10_def_sap    1.0\n",
       "p10_def_dap    1.0\n",
       "p10_lsp_sap    1.0\n",
       "p10_lsp_dap    1.0\n",
       "dtype: float64"
      ]
     },
     "metadata": {},
     "output_type": "display_data"
    },
    {
     "name": "stdout",
     "output_type": "stream",
     "text": [
      "cattle 2\n"
     ]
    },
    {
     "name": "stderr",
     "output_type": "stream",
     "text": [
      "<ipython-input-104-077d9ff465e2>:10: FutureWarning: Dropping of nuisance columns in DataFrame reductions (with 'numeric_only=None') is deprecated; in a future version this will raise TypeError.  Select only valid columns before calling the reduction.\n",
      "  groupe = group.query(\"dataset=='EVAL'\")[query_cols].mean()\n",
      "<ipython-input-104-077d9ff465e2>:11: FutureWarning: Dropping of nuisance columns in DataFrame reductions (with 'numeric_only=None') is deprecated; in a future version this will raise TypeError.  Select only valid columns before calling the reduction.\n",
      "  groupb = group.query(\"dataset=='BLESS'\")[query_cols].mean()\n"
     ]
    },
    {
     "data": {
      "text/plain": [
       "p10_def_sap    0.0\n",
       "p10_def_dap    0.0\n",
       "p10_lsp_sap    1.0\n",
       "p10_lsp_dap    1.0\n",
       "dtype: float64"
      ]
     },
     "metadata": {},
     "output_type": "display_data"
    },
    {
     "data": {
      "text/plain": [
       "p10_def_sap    1.0\n",
       "p10_def_dap    1.0\n",
       "p10_lsp_sap    1.0\n",
       "p10_lsp_dap    1.0\n",
       "dtype: float64"
      ]
     },
     "metadata": {},
     "output_type": "display_data"
    },
    {
     "name": "stdout",
     "output_type": "stream",
     "text": [
      "construction 10\n"
     ]
    },
    {
     "name": "stderr",
     "output_type": "stream",
     "text": [
      "<ipython-input-104-077d9ff465e2>:10: FutureWarning: Dropping of nuisance columns in DataFrame reductions (with 'numeric_only=None') is deprecated; in a future version this will raise TypeError.  Select only valid columns before calling the reduction.\n",
      "  groupe = group.query(\"dataset=='EVAL'\")[query_cols].mean()\n",
      "<ipython-input-104-077d9ff465e2>:11: FutureWarning: Dropping of nuisance columns in DataFrame reductions (with 'numeric_only=None') is deprecated; in a future version this will raise TypeError.  Select only valid columns before calling the reduction.\n",
      "  groupb = group.query(\"dataset=='BLESS'\")[query_cols].mean()\n"
     ]
    },
    {
     "data": {
      "text/plain": [
       "p10_def_sap    0.0\n",
       "p10_def_dap    0.0\n",
       "p10_lsp_sap    0.0\n",
       "p10_lsp_dap    0.0\n",
       "dtype: float64"
      ]
     },
     "metadata": {},
     "output_type": "display_data"
    },
    {
     "data": {
      "text/plain": [
       "p10_def_sap    0.000000\n",
       "p10_def_dap    0.000000\n",
       "p10_lsp_sap    0.000000\n",
       "p10_lsp_dap    0.111111\n",
       "dtype: float64"
      ]
     },
     "metadata": {},
     "output_type": "display_data"
    },
    {
     "name": "stdout",
     "output_type": "stream",
     "text": [
      "container 13\n"
     ]
    },
    {
     "name": "stderr",
     "output_type": "stream",
     "text": [
      "<ipython-input-104-077d9ff465e2>:10: FutureWarning: Dropping of nuisance columns in DataFrame reductions (with 'numeric_only=None') is deprecated; in a future version this will raise TypeError.  Select only valid columns before calling the reduction.\n",
      "  groupe = group.query(\"dataset=='EVAL'\")[query_cols].mean()\n",
      "<ipython-input-104-077d9ff465e2>:11: FutureWarning: Dropping of nuisance columns in DataFrame reductions (with 'numeric_only=None') is deprecated; in a future version this will raise TypeError.  Select only valid columns before calling the reduction.\n",
      "  groupb = group.query(\"dataset=='BLESS'\")[query_cols].mean()\n"
     ]
    },
    {
     "data": {
      "text/plain": [
       "p10_def_sap    0.500000\n",
       "p10_def_dap    0.666667\n",
       "p10_lsp_sap    0.166667\n",
       "p10_lsp_dap    0.500000\n",
       "dtype: float64"
      ]
     },
     "metadata": {},
     "output_type": "display_data"
    },
    {
     "data": {
      "text/plain": [
       "p10_def_sap    1.000000\n",
       "p10_def_dap    1.000000\n",
       "p10_lsp_sap    0.857143\n",
       "p10_lsp_dap    1.000000\n",
       "dtype: float64"
      ]
     },
     "metadata": {},
     "output_type": "display_data"
    },
    {
     "name": "stdout",
     "output_type": "stream",
     "text": [
      "device 44\n"
     ]
    },
    {
     "name": "stderr",
     "output_type": "stream",
     "text": [
      "<ipython-input-104-077d9ff465e2>:10: FutureWarning: Dropping of nuisance columns in DataFrame reductions (with 'numeric_only=None') is deprecated; in a future version this will raise TypeError.  Select only valid columns before calling the reduction.\n",
      "  groupe = group.query(\"dataset=='EVAL'\")[query_cols].mean()\n",
      "<ipython-input-104-077d9ff465e2>:11: FutureWarning: Dropping of nuisance columns in DataFrame reductions (with 'numeric_only=None') is deprecated; in a future version this will raise TypeError.  Select only valid columns before calling the reduction.\n",
      "  groupb = group.query(\"dataset=='BLESS'\")[query_cols].mean()\n"
     ]
    },
    {
     "data": {
      "text/plain": [
       "p10_def_sap    0.583333\n",
       "p10_def_dap    0.583333\n",
       "p10_lsp_sap    0.500000\n",
       "p10_lsp_dap    0.500000\n",
       "dtype: float64"
      ]
     },
     "metadata": {},
     "output_type": "display_data"
    },
    {
     "data": {
      "text/plain": [
       "p10_def_sap    0.21875\n",
       "p10_def_dap    0.34375\n",
       "p10_lsp_sap    0.37500\n",
       "p10_lsp_dap    0.40625\n",
       "dtype: float64"
      ]
     },
     "metadata": {},
     "output_type": "display_data"
    },
    {
     "name": "stdout",
     "output_type": "stream",
     "text": [
      "food 69\n"
     ]
    },
    {
     "name": "stderr",
     "output_type": "stream",
     "text": [
      "<ipython-input-104-077d9ff465e2>:10: FutureWarning: Dropping of nuisance columns in DataFrame reductions (with 'numeric_only=None') is deprecated; in a future version this will raise TypeError.  Select only valid columns before calling the reduction.\n",
      "  groupe = group.query(\"dataset=='EVAL'\")[query_cols].mean()\n",
      "<ipython-input-104-077d9ff465e2>:11: FutureWarning: Dropping of nuisance columns in DataFrame reductions (with 'numeric_only=None') is deprecated; in a future version this will raise TypeError.  Select only valid columns before calling the reduction.\n",
      "  groupb = group.query(\"dataset=='BLESS'\")[query_cols].mean()\n"
     ]
    },
    {
     "data": {
      "text/plain": [
       "p10_def_sap    0.730769\n",
       "p10_def_dap    0.769231\n",
       "p10_lsp_sap    0.653846\n",
       "p10_lsp_dap    0.692308\n",
       "dtype: float64"
      ]
     },
     "metadata": {},
     "output_type": "display_data"
    },
    {
     "data": {
      "text/plain": [
       "p10_def_sap    0.232558\n",
       "p10_def_dap    0.534884\n",
       "p10_lsp_sap    0.581395\n",
       "p10_lsp_dap    0.581395\n",
       "dtype: float64"
      ]
     },
     "metadata": {},
     "output_type": "display_data"
    },
    {
     "name": "stdout",
     "output_type": "stream",
     "text": [
      "fruit 17\n"
     ]
    },
    {
     "name": "stderr",
     "output_type": "stream",
     "text": [
      "<ipython-input-104-077d9ff465e2>:10: FutureWarning: Dropping of nuisance columns in DataFrame reductions (with 'numeric_only=None') is deprecated; in a future version this will raise TypeError.  Select only valid columns before calling the reduction.\n",
      "  groupe = group.query(\"dataset=='EVAL'\")[query_cols].mean()\n",
      "<ipython-input-104-077d9ff465e2>:11: FutureWarning: Dropping of nuisance columns in DataFrame reductions (with 'numeric_only=None') is deprecated; in a future version this will raise TypeError.  Select only valid columns before calling the reduction.\n",
      "  groupb = group.query(\"dataset=='BLESS'\")[query_cols].mean()\n"
     ]
    },
    {
     "data": {
      "text/plain": [
       "p10_def_sap    1.0\n",
       "p10_def_dap    1.0\n",
       "p10_lsp_sap    1.0\n",
       "p10_lsp_dap    1.0\n",
       "dtype: float64"
      ]
     },
     "metadata": {},
     "output_type": "display_data"
    },
    {
     "data": {
      "text/plain": [
       "p10_def_sap    1.0\n",
       "p10_def_dap    1.0\n",
       "p10_lsp_sap    1.0\n",
       "p10_lsp_dap    1.0\n",
       "dtype: float64"
      ]
     },
     "metadata": {},
     "output_type": "display_data"
    },
    {
     "name": "stdout",
     "output_type": "stream",
     "text": [
      "furniture 13\n"
     ]
    },
    {
     "name": "stderr",
     "output_type": "stream",
     "text": [
      "<ipython-input-104-077d9ff465e2>:10: FutureWarning: Dropping of nuisance columns in DataFrame reductions (with 'numeric_only=None') is deprecated; in a future version this will raise TypeError.  Select only valid columns before calling the reduction.\n",
      "  groupe = group.query(\"dataset=='EVAL'\")[query_cols].mean()\n",
      "<ipython-input-104-077d9ff465e2>:11: FutureWarning: Dropping of nuisance columns in DataFrame reductions (with 'numeric_only=None') is deprecated; in a future version this will raise TypeError.  Select only valid columns before calling the reduction.\n",
      "  groupb = group.query(\"dataset=='BLESS'\")[query_cols].mean()\n"
     ]
    },
    {
     "data": {
      "text/plain": [
       "p10_def_sap    0.666667\n",
       "p10_def_dap    0.666667\n",
       "p10_lsp_sap    0.666667\n",
       "p10_lsp_dap    0.666667\n",
       "dtype: float64"
      ]
     },
     "metadata": {},
     "output_type": "display_data"
    },
    {
     "data": {
      "text/plain": [
       "p10_def_sap    0.9\n",
       "p10_def_dap    0.9\n",
       "p10_lsp_sap    1.0\n",
       "p10_lsp_dap    0.9\n",
       "dtype: float64"
      ]
     },
     "metadata": {},
     "output_type": "display_data"
    },
    {
     "name": "stdout",
     "output_type": "stream",
     "text": [
      "game 16\n"
     ]
    },
    {
     "name": "stderr",
     "output_type": "stream",
     "text": [
      "<ipython-input-104-077d9ff465e2>:10: FutureWarning: Dropping of nuisance columns in DataFrame reductions (with 'numeric_only=None') is deprecated; in a future version this will raise TypeError.  Select only valid columns before calling the reduction.\n",
      "  groupe = group.query(\"dataset=='EVAL'\")[query_cols].mean()\n",
      "<ipython-input-104-077d9ff465e2>:11: FutureWarning: Dropping of nuisance columns in DataFrame reductions (with 'numeric_only=None') is deprecated; in a future version this will raise TypeError.  Select only valid columns before calling the reduction.\n",
      "  groupb = group.query(\"dataset=='BLESS'\")[query_cols].mean()\n"
     ]
    },
    {
     "data": {
      "text/plain": [
       "p10_def_sap    0.466667\n",
       "p10_def_dap    0.533333\n",
       "p10_lsp_sap    0.533333\n",
       "p10_lsp_dap    0.466667\n",
       "dtype: float64"
      ]
     },
     "metadata": {},
     "output_type": "display_data"
    },
    {
     "data": {
      "text/plain": [
       "p10_def_sap    0.0\n",
       "p10_def_dap    1.0\n",
       "p10_lsp_sap    1.0\n",
       "p10_lsp_dap    1.0\n",
       "dtype: float64"
      ]
     },
     "metadata": {},
     "output_type": "display_data"
    },
    {
     "name": "stdout",
     "output_type": "stream",
     "text": [
      "grain 2\n"
     ]
    },
    {
     "name": "stderr",
     "output_type": "stream",
     "text": [
      "<ipython-input-104-077d9ff465e2>:10: FutureWarning: Dropping of nuisance columns in DataFrame reductions (with 'numeric_only=None') is deprecated; in a future version this will raise TypeError.  Select only valid columns before calling the reduction.\n",
      "  groupe = group.query(\"dataset=='EVAL'\")[query_cols].mean()\n",
      "<ipython-input-104-077d9ff465e2>:11: FutureWarning: Dropping of nuisance columns in DataFrame reductions (with 'numeric_only=None') is deprecated; in a future version this will raise TypeError.  Select only valid columns before calling the reduction.\n",
      "  groupb = group.query(\"dataset=='BLESS'\")[query_cols].mean()\n"
     ]
    },
    {
     "data": {
      "text/plain": [
       "p10_def_sap    1.0\n",
       "p10_def_dap    1.0\n",
       "p10_lsp_sap    1.0\n",
       "p10_lsp_dap    1.0\n",
       "dtype: float64"
      ]
     },
     "metadata": {},
     "output_type": "display_data"
    },
    {
     "data": {
      "text/plain": [
       "p10_def_sap    1.0\n",
       "p10_def_dap    1.0\n",
       "p10_lsp_sap    1.0\n",
       "p10_lsp_dap    1.0\n",
       "dtype: float64"
      ]
     },
     "metadata": {},
     "output_type": "display_data"
    },
    {
     "name": "stdout",
     "output_type": "stream",
     "text": [
      "home 5\n"
     ]
    },
    {
     "name": "stderr",
     "output_type": "stream",
     "text": [
      "<ipython-input-104-077d9ff465e2>:10: FutureWarning: Dropping of nuisance columns in DataFrame reductions (with 'numeric_only=None') is deprecated; in a future version this will raise TypeError.  Select only valid columns before calling the reduction.\n",
      "  groupe = group.query(\"dataset=='EVAL'\")[query_cols].mean()\n",
      "<ipython-input-104-077d9ff465e2>:11: FutureWarning: Dropping of nuisance columns in DataFrame reductions (with 'numeric_only=None') is deprecated; in a future version this will raise TypeError.  Select only valid columns before calling the reduction.\n",
      "  groupb = group.query(\"dataset=='BLESS'\")[query_cols].mean()\n"
     ]
    },
    {
     "data": {
      "text/plain": [
       "p10_def_sap    1.0\n",
       "p10_def_dap    1.0\n",
       "p10_lsp_sap    0.0\n",
       "p10_lsp_dap    0.0\n",
       "dtype: float64"
      ]
     },
     "metadata": {},
     "output_type": "display_data"
    },
    {
     "data": {
      "text/plain": [
       "p10_def_sap    0.666667\n",
       "p10_def_dap    0.666667\n",
       "p10_lsp_sap    0.000000\n",
       "p10_lsp_dap    0.333333\n",
       "dtype: float64"
      ]
     },
     "metadata": {},
     "output_type": "display_data"
    },
    {
     "name": "stdout",
     "output_type": "stream",
     "text": [
      "house 6\n"
     ]
    },
    {
     "name": "stderr",
     "output_type": "stream",
     "text": [
      "<ipython-input-104-077d9ff465e2>:10: FutureWarning: Dropping of nuisance columns in DataFrame reductions (with 'numeric_only=None') is deprecated; in a future version this will raise TypeError.  Select only valid columns before calling the reduction.\n",
      "  groupe = group.query(\"dataset=='EVAL'\")[query_cols].mean()\n",
      "<ipython-input-104-077d9ff465e2>:11: FutureWarning: Dropping of nuisance columns in DataFrame reductions (with 'numeric_only=None') is deprecated; in a future version this will raise TypeError.  Select only valid columns before calling the reduction.\n",
      "  groupb = group.query(\"dataset=='BLESS'\")[query_cols].mean()\n"
     ]
    },
    {
     "data": {
      "text/plain": [
       "p10_def_sap    1.0\n",
       "p10_def_dap    1.0\n",
       "p10_lsp_sap    1.0\n",
       "p10_lsp_dap    1.0\n",
       "dtype: float64"
      ]
     },
     "metadata": {},
     "output_type": "display_data"
    },
    {
     "data": {
      "text/plain": [
       "p10_def_sap    1.000000\n",
       "p10_def_dap    1.000000\n",
       "p10_lsp_sap    0.666667\n",
       "p10_lsp_dap    0.666667\n",
       "dtype: float64"
      ]
     },
     "metadata": {},
     "output_type": "display_data"
    },
    {
     "name": "stdout",
     "output_type": "stream",
     "text": [
      "insect 10\n"
     ]
    },
    {
     "name": "stderr",
     "output_type": "stream",
     "text": [
      "<ipython-input-104-077d9ff465e2>:10: FutureWarning: Dropping of nuisance columns in DataFrame reductions (with 'numeric_only=None') is deprecated; in a future version this will raise TypeError.  Select only valid columns before calling the reduction.\n",
      "  groupe = group.query(\"dataset=='EVAL'\")[query_cols].mean()\n",
      "<ipython-input-104-077d9ff465e2>:11: FutureWarning: Dropping of nuisance columns in DataFrame reductions (with 'numeric_only=None') is deprecated; in a future version this will raise TypeError.  Select only valid columns before calling the reduction.\n",
      "  groupb = group.query(\"dataset=='BLESS'\")[query_cols].mean()\n"
     ]
    },
    {
     "data": {
      "text/plain": [
       "p10_def_sap    0.5\n",
       "p10_def_dap    0.5\n",
       "p10_lsp_sap    0.5\n",
       "p10_lsp_dap    0.5\n",
       "dtype: float64"
      ]
     },
     "metadata": {},
     "output_type": "display_data"
    },
    {
     "data": {
      "text/plain": [
       "p10_def_sap    1.0\n",
       "p10_def_dap    1.0\n",
       "p10_lsp_sap    1.0\n",
       "p10_lsp_dap    1.0\n",
       "dtype: float64"
      ]
     },
     "metadata": {},
     "output_type": "display_data"
    },
    {
     "name": "stdout",
     "output_type": "stream",
     "text": [
      "instrument 12\n"
     ]
    },
    {
     "name": "stderr",
     "output_type": "stream",
     "text": [
      "<ipython-input-104-077d9ff465e2>:10: FutureWarning: Dropping of nuisance columns in DataFrame reductions (with 'numeric_only=None') is deprecated; in a future version this will raise TypeError.  Select only valid columns before calling the reduction.\n",
      "  groupe = group.query(\"dataset=='EVAL'\")[query_cols].mean()\n",
      "<ipython-input-104-077d9ff465e2>:11: FutureWarning: Dropping of nuisance columns in DataFrame reductions (with 'numeric_only=None') is deprecated; in a future version this will raise TypeError.  Select only valid columns before calling the reduction.\n",
      "  groupb = group.query(\"dataset=='BLESS'\")[query_cols].mean()\n"
     ]
    },
    {
     "data": {
      "text/plain": [
       "p10_def_sap    0.75\n",
       "p10_def_dap    0.75\n",
       "p10_lsp_sap    0.50\n",
       "p10_lsp_dap    0.50\n",
       "dtype: float64"
      ]
     },
     "metadata": {},
     "output_type": "display_data"
    },
    {
     "data": {
      "text/plain": [
       "p10_def_sap    1.0\n",
       "p10_def_dap    1.0\n",
       "p10_lsp_sap    1.0\n",
       "p10_lsp_dap    1.0\n",
       "dtype: float64"
      ]
     },
     "metadata": {},
     "output_type": "display_data"
    },
    {
     "name": "stdout",
     "output_type": "stream",
     "text": [
      "mammal 29\n"
     ]
    },
    {
     "name": "stderr",
     "output_type": "stream",
     "text": [
      "<ipython-input-104-077d9ff465e2>:10: FutureWarning: Dropping of nuisance columns in DataFrame reductions (with 'numeric_only=None') is deprecated; in a future version this will raise TypeError.  Select only valid columns before calling the reduction.\n",
      "  groupe = group.query(\"dataset=='EVAL'\")[query_cols].mean()\n",
      "<ipython-input-104-077d9ff465e2>:11: FutureWarning: Dropping of nuisance columns in DataFrame reductions (with 'numeric_only=None') is deprecated; in a future version this will raise TypeError.  Select only valid columns before calling the reduction.\n",
      "  groupb = group.query(\"dataset=='BLESS'\")[query_cols].mean()\n"
     ]
    },
    {
     "data": {
      "text/plain": [
       "p10_def_sap    0.666667\n",
       "p10_def_dap    0.500000\n",
       "p10_lsp_sap    0.333333\n",
       "p10_lsp_dap    0.500000\n",
       "dtype: float64"
      ]
     },
     "metadata": {},
     "output_type": "display_data"
    },
    {
     "data": {
      "text/plain": [
       "p10_def_sap    0.913043\n",
       "p10_def_dap    1.000000\n",
       "p10_lsp_sap    0.956522\n",
       "p10_lsp_dap    0.956522\n",
       "dtype: float64"
      ]
     },
     "metadata": {},
     "output_type": "display_data"
    },
    {
     "name": "stdout",
     "output_type": "stream",
     "text": [
      "object 84\n"
     ]
    },
    {
     "name": "stderr",
     "output_type": "stream",
     "text": [
      "<ipython-input-104-077d9ff465e2>:10: FutureWarning: Dropping of nuisance columns in DataFrame reductions (with 'numeric_only=None') is deprecated; in a future version this will raise TypeError.  Select only valid columns before calling the reduction.\n",
      "  groupe = group.query(\"dataset=='EVAL'\")[query_cols].mean()\n",
      "<ipython-input-104-077d9ff465e2>:11: FutureWarning: Dropping of nuisance columns in DataFrame reductions (with 'numeric_only=None') is deprecated; in a future version this will raise TypeError.  Select only valid columns before calling the reduction.\n",
      "  groupb = group.query(\"dataset=='BLESS'\")[query_cols].mean()\n"
     ]
    },
    {
     "data": {
      "text/plain": [
       "p10_def_sap    0.538462\n",
       "p10_def_dap    0.615385\n",
       "p10_lsp_sap    0.692308\n",
       "p10_lsp_dap    0.538462\n",
       "dtype: float64"
      ]
     },
     "metadata": {},
     "output_type": "display_data"
    },
    {
     "data": {
      "text/plain": [
       "p10_def_sap    0.140845\n",
       "p10_def_dap    0.126761\n",
       "p10_lsp_sap    0.338028\n",
       "p10_lsp_dap    0.309859\n",
       "dtype: float64"
      ]
     },
     "metadata": {},
     "output_type": "display_data"
    },
    {
     "name": "stdout",
     "output_type": "stream",
     "text": [
      "pet 6\n"
     ]
    },
    {
     "name": "stderr",
     "output_type": "stream",
     "text": [
      "<ipython-input-104-077d9ff465e2>:10: FutureWarning: Dropping of nuisance columns in DataFrame reductions (with 'numeric_only=None') is deprecated; in a future version this will raise TypeError.  Select only valid columns before calling the reduction.\n",
      "  groupe = group.query(\"dataset=='EVAL'\")[query_cols].mean()\n",
      "<ipython-input-104-077d9ff465e2>:11: FutureWarning: Dropping of nuisance columns in DataFrame reductions (with 'numeric_only=None') is deprecated; in a future version this will raise TypeError.  Select only valid columns before calling the reduction.\n",
      "  groupb = group.query(\"dataset=='BLESS'\")[query_cols].mean()\n"
     ]
    },
    {
     "data": {
      "text/plain": [
       "p10_def_sap    0.5\n",
       "p10_def_dap    0.5\n",
       "p10_lsp_sap    0.5\n",
       "p10_lsp_dap    0.5\n",
       "dtype: float64"
      ]
     },
     "metadata": {},
     "output_type": "display_data"
    },
    {
     "data": {
      "text/plain": [
       "p10_def_sap    0.00\n",
       "p10_def_dap    0.25\n",
       "p10_lsp_sap    0.50\n",
       "p10_lsp_dap    0.50\n",
       "dtype: float64"
      ]
     },
     "metadata": {},
     "output_type": "display_data"
    },
    {
     "name": "stdout",
     "output_type": "stream",
     "text": [
      "plant 17\n"
     ]
    },
    {
     "name": "stderr",
     "output_type": "stream",
     "text": [
      "<ipython-input-104-077d9ff465e2>:10: FutureWarning: Dropping of nuisance columns in DataFrame reductions (with 'numeric_only=None') is deprecated; in a future version this will raise TypeError.  Select only valid columns before calling the reduction.\n",
      "  groupe = group.query(\"dataset=='EVAL'\")[query_cols].mean()\n",
      "<ipython-input-104-077d9ff465e2>:11: FutureWarning: Dropping of nuisance columns in DataFrame reductions (with 'numeric_only=None') is deprecated; in a future version this will raise TypeError.  Select only valid columns before calling the reduction.\n",
      "  groupb = group.query(\"dataset=='BLESS'\")[query_cols].mean()\n"
     ]
    },
    {
     "data": {
      "text/plain": [
       "p10_def_sap    1.000\n",
       "p10_def_dap    1.000\n",
       "p10_lsp_sap    0.625\n",
       "p10_lsp_dap    0.500\n",
       "dtype: float64"
      ]
     },
     "metadata": {},
     "output_type": "display_data"
    },
    {
     "data": {
      "text/plain": [
       "p10_def_sap    0.777778\n",
       "p10_def_dap    0.777778\n",
       "p10_lsp_sap    1.000000\n",
       "p10_lsp_dap    1.000000\n",
       "dtype: float64"
      ]
     },
     "metadata": {},
     "output_type": "display_data"
    },
    {
     "name": "stdout",
     "output_type": "stream",
     "text": [
      "tool 28\n"
     ]
    },
    {
     "name": "stderr",
     "output_type": "stream",
     "text": [
      "<ipython-input-104-077d9ff465e2>:10: FutureWarning: Dropping of nuisance columns in DataFrame reductions (with 'numeric_only=None') is deprecated; in a future version this will raise TypeError.  Select only valid columns before calling the reduction.\n",
      "  groupe = group.query(\"dataset=='EVAL'\")[query_cols].mean()\n",
      "<ipython-input-104-077d9ff465e2>:11: FutureWarning: Dropping of nuisance columns in DataFrame reductions (with 'numeric_only=None') is deprecated; in a future version this will raise TypeError.  Select only valid columns before calling the reduction.\n",
      "  groupb = group.query(\"dataset=='BLESS'\")[query_cols].mean()\n"
     ]
    },
    {
     "data": {
      "text/plain": [
       "p10_def_sap    0.384615\n",
       "p10_def_dap    0.307692\n",
       "p10_lsp_sap    0.461538\n",
       "p10_lsp_dap    0.461538\n",
       "dtype: float64"
      ]
     },
     "metadata": {},
     "output_type": "display_data"
    },
    {
     "data": {
      "text/plain": [
       "p10_def_sap    1.000000\n",
       "p10_def_dap    1.000000\n",
       "p10_lsp_sap    0.933333\n",
       "p10_lsp_dap    0.866667\n",
       "dtype: float64"
      ]
     },
     "metadata": {},
     "output_type": "display_data"
    },
    {
     "name": "stdout",
     "output_type": "stream",
     "text": [
      "tree 11\n"
     ]
    },
    {
     "name": "stderr",
     "output_type": "stream",
     "text": [
      "<ipython-input-104-077d9ff465e2>:10: FutureWarning: Dropping of nuisance columns in DataFrame reductions (with 'numeric_only=None') is deprecated; in a future version this will raise TypeError.  Select only valid columns before calling the reduction.\n",
      "  groupe = group.query(\"dataset=='EVAL'\")[query_cols].mean()\n",
      "<ipython-input-104-077d9ff465e2>:11: FutureWarning: Dropping of nuisance columns in DataFrame reductions (with 'numeric_only=None') is deprecated; in a future version this will raise TypeError.  Select only valid columns before calling the reduction.\n",
      "  groupb = group.query(\"dataset=='BLESS'\")[query_cols].mean()\n"
     ]
    },
    {
     "data": {
      "text/plain": [
       "p10_def_sap    0.5\n",
       "p10_def_dap    0.5\n",
       "p10_lsp_sap    0.5\n",
       "p10_lsp_dap    0.0\n",
       "dtype: float64"
      ]
     },
     "metadata": {},
     "output_type": "display_data"
    },
    {
     "data": {
      "text/plain": [
       "p10_def_sap    1.0\n",
       "p10_def_dap    1.0\n",
       "p10_lsp_sap    1.0\n",
       "p10_lsp_dap    1.0\n",
       "dtype: float64"
      ]
     },
     "metadata": {},
     "output_type": "display_data"
    },
    {
     "name": "stdout",
     "output_type": "stream",
     "text": [
      "vegetable 17\n"
     ]
    },
    {
     "name": "stderr",
     "output_type": "stream",
     "text": [
      "<ipython-input-104-077d9ff465e2>:10: FutureWarning: Dropping of nuisance columns in DataFrame reductions (with 'numeric_only=None') is deprecated; in a future version this will raise TypeError.  Select only valid columns before calling the reduction.\n",
      "  groupe = group.query(\"dataset=='EVAL'\")[query_cols].mean()\n",
      "<ipython-input-104-077d9ff465e2>:11: FutureWarning: Dropping of nuisance columns in DataFrame reductions (with 'numeric_only=None') is deprecated; in a future version this will raise TypeError.  Select only valid columns before calling the reduction.\n",
      "  groupb = group.query(\"dataset=='BLESS'\")[query_cols].mean()\n"
     ]
    },
    {
     "data": {
      "text/plain": [
       "p10_def_sap    0.0\n",
       "p10_def_dap    0.0\n",
       "p10_lsp_sap    0.0\n",
       "p10_lsp_dap    0.0\n",
       "dtype: float64"
      ]
     },
     "metadata": {},
     "output_type": "display_data"
    },
    {
     "data": {
      "text/plain": [
       "p10_def_sap    1.0\n",
       "p10_def_dap    1.0\n",
       "p10_lsp_sap    1.0\n",
       "p10_lsp_dap    1.0\n",
       "dtype: float64"
      ]
     },
     "metadata": {},
     "output_type": "display_data"
    },
    {
     "name": "stdout",
     "output_type": "stream",
     "text": [
      "vehicle 20\n"
     ]
    },
    {
     "name": "stderr",
     "output_type": "stream",
     "text": [
      "<ipython-input-104-077d9ff465e2>:10: FutureWarning: Dropping of nuisance columns in DataFrame reductions (with 'numeric_only=None') is deprecated; in a future version this will raise TypeError.  Select only valid columns before calling the reduction.\n",
      "  groupe = group.query(\"dataset=='EVAL'\")[query_cols].mean()\n",
      "<ipython-input-104-077d9ff465e2>:11: FutureWarning: Dropping of nuisance columns in DataFrame reductions (with 'numeric_only=None') is deprecated; in a future version this will raise TypeError.  Select only valid columns before calling the reduction.\n",
      "  groupb = group.query(\"dataset=='BLESS'\")[query_cols].mean()\n"
     ]
    },
    {
     "data": {
      "text/plain": [
       "p10_def_sap    0.0\n",
       "p10_def_dap    1.0\n",
       "p10_lsp_sap    1.0\n",
       "p10_lsp_dap    1.0\n",
       "dtype: float64"
      ]
     },
     "metadata": {},
     "output_type": "display_data"
    },
    {
     "data": {
      "text/plain": [
       "p10_def_sap    0.789474\n",
       "p10_def_dap    0.736842\n",
       "p10_lsp_sap    0.789474\n",
       "p10_lsp_dap    0.789474\n",
       "dtype: float64"
      ]
     },
     "metadata": {},
     "output_type": "display_data"
    },
    {
     "name": "stdout",
     "output_type": "stream",
     "text": [
      "vessel 13\n"
     ]
    },
    {
     "name": "stderr",
     "output_type": "stream",
     "text": [
      "<ipython-input-104-077d9ff465e2>:10: FutureWarning: Dropping of nuisance columns in DataFrame reductions (with 'numeric_only=None') is deprecated; in a future version this will raise TypeError.  Select only valid columns before calling the reduction.\n",
      "  groupe = group.query(\"dataset=='EVAL'\")[query_cols].mean()\n",
      "<ipython-input-104-077d9ff465e2>:11: FutureWarning: Dropping of nuisance columns in DataFrame reductions (with 'numeric_only=None') is deprecated; in a future version this will raise TypeError.  Select only valid columns before calling the reduction.\n",
      "  groupb = group.query(\"dataset=='BLESS'\")[query_cols].mean()\n"
     ]
    },
    {
     "data": {
      "text/plain": [
       "p10_def_sap    0.75\n",
       "p10_def_dap    0.75\n",
       "p10_lsp_sap    0.25\n",
       "p10_lsp_dap    0.25\n",
       "dtype: float64"
      ]
     },
     "metadata": {},
     "output_type": "display_data"
    },
    {
     "data": {
      "text/plain": [
       "p10_def_sap    1.000000\n",
       "p10_def_dap    1.000000\n",
       "p10_lsp_sap    0.888889\n",
       "p10_lsp_dap    0.888889\n",
       "dtype: float64"
      ]
     },
     "metadata": {},
     "output_type": "display_data"
    },
    {
     "name": "stdout",
     "output_type": "stream",
     "text": [
      "weapon 18\n"
     ]
    },
    {
     "name": "stderr",
     "output_type": "stream",
     "text": [
      "<ipython-input-104-077d9ff465e2>:10: FutureWarning: Dropping of nuisance columns in DataFrame reductions (with 'numeric_only=None') is deprecated; in a future version this will raise TypeError.  Select only valid columns before calling the reduction.\n",
      "  groupe = group.query(\"dataset=='EVAL'\")[query_cols].mean()\n",
      "<ipython-input-104-077d9ff465e2>:11: FutureWarning: Dropping of nuisance columns in DataFrame reductions (with 'numeric_only=None') is deprecated; in a future version this will raise TypeError.  Select only valid columns before calling the reduction.\n",
      "  groupb = group.query(\"dataset=='BLESS'\")[query_cols].mean()\n"
     ]
    },
    {
     "data": {
      "text/plain": [
       "p10_def_sap    0.333333\n",
       "p10_def_dap    0.333333\n",
       "p10_lsp_sap    0.000000\n",
       "p10_lsp_dap    0.333333\n",
       "dtype: float64"
      ]
     },
     "metadata": {},
     "output_type": "display_data"
    },
    {
     "data": {
      "text/plain": [
       "p10_def_sap    1.0\n",
       "p10_def_dap    1.0\n",
       "p10_lsp_sap    1.0\n",
       "p10_lsp_dap    1.0\n",
       "dtype: float64"
      ]
     },
     "metadata": {},
     "output_type": "display_data"
    }
   ],
   "source": [
    "dataset_to_df['EVAL']['dataset'] = 'EVAL'\n",
    "dataset_to_df['BLESS']['dataset'] = 'BLESS'\n",
    "# food, device, object \n",
    "\n",
    "stats = []\n",
    "df3 = pd.concat([dataset_to_df['EVAL'], dataset_to_df['BLESS']], axis=0)\n",
    "query_cols = ['sub_label_sg', 'obj_label', 'dataset', 'p10_def_sap', 'p10_def_dap', 'p10_lsp_sap', 'p10_lsp_dap']\n",
    "for name, group in df3.groupby(['obj_label']):\n",
    "#     display(group[['sub_label_sg', 'obj_label', 'dataset', 'p10_def_sap', 'p10_def_dap', 'p10_lsp_sap', 'p10_lsp_dap']].sample(50))\n",
    "    print(name, len(group.index))\n",
    "    groupe = group.query(\"dataset=='EVAL'\")[query_cols].mean()\n",
    "    groupb = group.query(\"dataset=='BLESS'\")[query_cols].mean()\n",
    "    display(groupe)\n",
    "    display(groupb)\n",
    "\n",
    "    #     display(group.query(\"dataset=='EVAL' and p10_def_sap==1\")[query_cols])\n",
    "#     display(group.query(\"dataset=='BLESS' and p10_lsp_sap==1\")[query_cols])"
   ]
  }
 ],
 "metadata": {
  "kernelspec": {
   "display_name": "Python 3",
   "language": "python",
   "name": "python3"
  },
  "language_info": {
   "codemirror_mode": {
    "name": "ipython",
    "version": 3
   },
   "file_extension": ".py",
   "mimetype": "text/x-python",
   "name": "python",
   "nbconvert_exporter": "python",
   "pygments_lexer": "ipython3",
   "version": "3.8.3"
  }
 },
 "nbformat": 4,
 "nbformat_minor": 5
}
